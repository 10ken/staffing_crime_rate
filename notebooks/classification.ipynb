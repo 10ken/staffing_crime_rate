{
 "cells": [
  {
   "cell_type": "code",
   "execution_count": 237,
   "id": "464f8cf3",
   "metadata": {},
   "outputs": [],
   "source": [
    "import numpy as np # linear algebra\n",
    "import pandas as pd # data processing, CSV file I/O (e.g. pd.read_csv)\n",
    "import matplotlib.pyplot as plt\n",
    "\n",
    "\n",
    "from sklearn.preprocessing import OneHotEncoder\n",
    "from sklearn.metrics import mean_absolute_error, mean_squared_error\n",
    "import sklearn as sk\n",
    "from sklearn import linear_model, metrics\n",
    "from sklearn.model_selection import train_test_split\n",
    "from sklearn.model_selection import KFold\n",
    "from sklearn import model_selection\n",
    "from sklearn.preprocessing import LabelEncoder\n",
    "from sklearn.metrics import classification_report\n",
    "\n",
    "import optuna\n",
    "import xgboost as xgb"
   ]
  },
  {
   "cell_type": "code",
   "execution_count": 2,
   "id": "8cfba649",
   "metadata": {},
   "outputs": [],
   "source": [
    "crime_df = pd.read_csv(\"../data/clean_crime_df.csv\")\n",
    "staff_df = pd.read_csv(\"../data/clean_staff_df.csv\")\n"
   ]
  },
  {
   "cell_type": "code",
   "execution_count": 3,
   "id": "11654e51",
   "metadata": {
    "scrolled": true
   },
   "outputs": [
    {
     "data": {
      "text/html": [
       "<div>\n",
       "<style scoped>\n",
       "    .dataframe tbody tr th:only-of-type {\n",
       "        vertical-align: middle;\n",
       "    }\n",
       "\n",
       "    .dataframe tbody tr th {\n",
       "        vertical-align: top;\n",
       "    }\n",
       "\n",
       "    .dataframe thead th {\n",
       "        text-align: right;\n",
       "    }\n",
       "</style>\n",
       "<table border=\"1\" class=\"dataframe\">\n",
       "  <thead>\n",
       "    <tr style=\"text-align: right;\">\n",
       "      <th></th>\n",
       "      <th>Call Date</th>\n",
       "      <th>call_time</th>\n",
       "      <th>District</th>\n",
       "      <th>Sector</th>\n",
       "      <th>Call Type</th>\n",
       "      <th>year</th>\n",
       "      <th>month</th>\n",
       "      <th>day</th>\n",
       "      <th>call_hour</th>\n",
       "      <th>month_day</th>\n",
       "      <th>priority</th>\n",
       "      <th>month_num</th>\n",
       "    </tr>\n",
       "  </thead>\n",
       "  <tbody>\n",
       "    <tr>\n",
       "      <th>0</th>\n",
       "      <td>2020-01-01</td>\n",
       "      <td>00:05:46</td>\n",
       "      <td>2</td>\n",
       "      <td>21</td>\n",
       "      <td>UNKNOWN TROUBLE</td>\n",
       "      <td>2020</td>\n",
       "      <td>Jan</td>\n",
       "      <td>1</td>\n",
       "      <td>0</td>\n",
       "      <td>Jan-01</td>\n",
       "      <td>high</td>\n",
       "      <td>1</td>\n",
       "    </tr>\n",
       "    <tr>\n",
       "      <th>1</th>\n",
       "      <td>2020-01-01</td>\n",
       "      <td>02:06:01</td>\n",
       "      <td>4</td>\n",
       "      <td>44</td>\n",
       "      <td>ASSAULT IN PROGRESS</td>\n",
       "      <td>2020</td>\n",
       "      <td>Jan</td>\n",
       "      <td>1</td>\n",
       "      <td>2</td>\n",
       "      <td>Jan-01</td>\n",
       "      <td>high</td>\n",
       "      <td>1</td>\n",
       "    </tr>\n",
       "    <tr>\n",
       "      <th>2</th>\n",
       "      <td>2020-01-01</td>\n",
       "      <td>00:37:32</td>\n",
       "      <td>5</td>\n",
       "      <td>55</td>\n",
       "      <td>FIRE</td>\n",
       "      <td>2020</td>\n",
       "      <td>Jan</td>\n",
       "      <td>1</td>\n",
       "      <td>0</td>\n",
       "      <td>Jan-01</td>\n",
       "      <td>high</td>\n",
       "      <td>1</td>\n",
       "    </tr>\n",
       "    <tr>\n",
       "      <th>3</th>\n",
       "      <td>2020-01-01</td>\n",
       "      <td>01:41:30</td>\n",
       "      <td>5</td>\n",
       "      <td>55</td>\n",
       "      <td>CHECK WELFARE</td>\n",
       "      <td>2020</td>\n",
       "      <td>Jan</td>\n",
       "      <td>1</td>\n",
       "      <td>1</td>\n",
       "      <td>Jan-01</td>\n",
       "      <td>medium</td>\n",
       "      <td>1</td>\n",
       "    </tr>\n",
       "    <tr>\n",
       "      <th>4</th>\n",
       "      <td>2020-01-01</td>\n",
       "      <td>00:46:26</td>\n",
       "      <td>1</td>\n",
       "      <td>13</td>\n",
       "      <td>DOMESTIC VIOLENCE</td>\n",
       "      <td>2020</td>\n",
       "      <td>Jan</td>\n",
       "      <td>1</td>\n",
       "      <td>0</td>\n",
       "      <td>Jan-01</td>\n",
       "      <td>high</td>\n",
       "      <td>1</td>\n",
       "    </tr>\n",
       "  </tbody>\n",
       "</table>\n",
       "</div>"
      ],
      "text/plain": [
       "    Call Date call_time  District  Sector            Call Type  year month  \\\n",
       "0  2020-01-01  00:05:46         2      21      UNKNOWN TROUBLE  2020   Jan   \n",
       "1  2020-01-01  02:06:01         4      44  ASSAULT IN PROGRESS  2020   Jan   \n",
       "2  2020-01-01  00:37:32         5      55                 FIRE  2020   Jan   \n",
       "3  2020-01-01  01:41:30         5      55        CHECK WELFARE  2020   Jan   \n",
       "4  2020-01-01  00:46:26         1      13    DOMESTIC VIOLENCE  2020   Jan   \n",
       "\n",
       "   day  call_hour month_day priority  month_num  \n",
       "0    1          0    Jan-01     high          1  \n",
       "1    1          2    Jan-01     high          1  \n",
       "2    1          0    Jan-01     high          1  \n",
       "3    1          1    Jan-01   medium          1  \n",
       "4    1          0    Jan-01     high          1  "
      ]
     },
     "execution_count": 3,
     "metadata": {},
     "output_type": "execute_result"
    }
   ],
   "source": [
    "crime_df.head()"
   ]
  },
  {
   "cell_type": "code",
   "execution_count": null,
   "id": "55ef6e7e",
   "metadata": {},
   "outputs": [],
   "source": []
  },
  {
   "cell_type": "code",
   "execution_count": 4,
   "id": "b218a825",
   "metadata": {},
   "outputs": [
    {
     "data": {
      "text/html": [
       "<div>\n",
       "<style scoped>\n",
       "    .dataframe tbody tr th:only-of-type {\n",
       "        vertical-align: middle;\n",
       "    }\n",
       "\n",
       "    .dataframe tbody tr th {\n",
       "        vertical-align: top;\n",
       "    }\n",
       "\n",
       "    .dataframe thead th {\n",
       "        text-align: right;\n",
       "    }\n",
       "</style>\n",
       "<table border=\"1\" class=\"dataframe\">\n",
       "  <thead>\n",
       "    <tr style=\"text-align: right;\">\n",
       "      <th></th>\n",
       "      <th>Platoon</th>\n",
       "      <th>Officer Badge #</th>\n",
       "      <th>Exception Date</th>\n",
       "      <th>Exception Start Time</th>\n",
       "      <th># of Hours</th>\n",
       "      <th>Exception Type</th>\n",
       "      <th>year</th>\n",
       "      <th>month</th>\n",
       "      <th>day</th>\n",
       "      <th>month_day</th>\n",
       "      <th>hour</th>\n",
       "    </tr>\n",
       "  </thead>\n",
       "  <tbody>\n",
       "    <tr>\n",
       "      <th>0</th>\n",
       "      <td>4 District B Platoon</td>\n",
       "      <td>34260</td>\n",
       "      <td>2020-02-27</td>\n",
       "      <td>07:00:00</td>\n",
       "      <td>12.0</td>\n",
       "      <td>Vacation</td>\n",
       "      <td>2020</td>\n",
       "      <td>Feb</td>\n",
       "      <td>27</td>\n",
       "      <td>Feb-27</td>\n",
       "      <td>7</td>\n",
       "    </tr>\n",
       "    <tr>\n",
       "      <th>1</th>\n",
       "      <td>4 District B Platoon</td>\n",
       "      <td>34260</td>\n",
       "      <td>2020-02-20</td>\n",
       "      <td>07:00:00</td>\n",
       "      <td>10.0</td>\n",
       "      <td>Training</td>\n",
       "      <td>2020</td>\n",
       "      <td>Feb</td>\n",
       "      <td>20</td>\n",
       "      <td>Feb-20</td>\n",
       "      <td>7</td>\n",
       "    </tr>\n",
       "    <tr>\n",
       "      <th>2</th>\n",
       "      <td>4 District B Platoon</td>\n",
       "      <td>34260</td>\n",
       "      <td>2020-02-19</td>\n",
       "      <td>07:00:00</td>\n",
       "      <td>10.0</td>\n",
       "      <td>Training</td>\n",
       "      <td>2020</td>\n",
       "      <td>Feb</td>\n",
       "      <td>19</td>\n",
       "      <td>Feb-19</td>\n",
       "      <td>7</td>\n",
       "    </tr>\n",
       "    <tr>\n",
       "      <th>3</th>\n",
       "      <td>4 District B Platoon</td>\n",
       "      <td>34260</td>\n",
       "      <td>2020-03-07</td>\n",
       "      <td>07:00:00</td>\n",
       "      <td>12.0</td>\n",
       "      <td>Sick</td>\n",
       "      <td>2020</td>\n",
       "      <td>Mar</td>\n",
       "      <td>7</td>\n",
       "      <td>Mar-07</td>\n",
       "      <td>7</td>\n",
       "    </tr>\n",
       "    <tr>\n",
       "      <th>4</th>\n",
       "      <td>4 District B Platoon</td>\n",
       "      <td>34260</td>\n",
       "      <td>2020-02-28</td>\n",
       "      <td>07:00:00</td>\n",
       "      <td>12.0</td>\n",
       "      <td>Vacation</td>\n",
       "      <td>2020</td>\n",
       "      <td>Feb</td>\n",
       "      <td>28</td>\n",
       "      <td>Feb-28</td>\n",
       "      <td>7</td>\n",
       "    </tr>\n",
       "  </tbody>\n",
       "</table>\n",
       "</div>"
      ],
      "text/plain": [
       "                Platoon  Officer Badge # Exception Date Exception Start Time  \\\n",
       "0  4 District B Platoon            34260     2020-02-27             07:00:00   \n",
       "1  4 District B Platoon            34260     2020-02-20             07:00:00   \n",
       "2  4 District B Platoon            34260     2020-02-19             07:00:00   \n",
       "3  4 District B Platoon            34260     2020-03-07             07:00:00   \n",
       "4  4 District B Platoon            34260     2020-02-28             07:00:00   \n",
       "\n",
       "   # of Hours Exception Type  year month  day month_day  hour  \n",
       "0        12.0       Vacation  2020   Feb   27    Feb-27     7  \n",
       "1        10.0       Training  2020   Feb   20    Feb-20     7  \n",
       "2        10.0       Training  2020   Feb   19    Feb-19     7  \n",
       "3        12.0           Sick  2020   Mar    7    Mar-07     7  \n",
       "4        12.0       Vacation  2020   Feb   28    Feb-28     7  "
      ]
     },
     "execution_count": 4,
     "metadata": {},
     "output_type": "execute_result"
    }
   ],
   "source": [
    "staff_df.head()"
   ]
  },
  {
   "cell_type": "code",
   "execution_count": 16,
   "id": "6b9d8b86",
   "metadata": {},
   "outputs": [
    {
     "data": {
      "text/plain": [
       "array(['07:00:00', '19:00:00', '17:00:00', '05:00:00', '08:00:00',\n",
       "       '12:30:00', '15:00:00', '21:00:00', '18:00:00', '06:00:00',\n",
       "       '22:00:00', '14:00:00', '13:00:00', '12:00:00', '00:00:00',\n",
       "       '02:00:00', '01:00:00', '04:00:00', '03:00:00', '16:00:00',\n",
       "       '11:00:00', '08:30:00', '09:00:00', '09:30:00', '21:30:00',\n",
       "       '23:00:00', '15:30:00', '16:30:00', '03:30:00', '01:30:00',\n",
       "       '04:30:00', '13:30:00', '21:45:00', '00:30:00', '20:00:00',\n",
       "       '17:30:00', '22:30:00', '14:30:00', '10:00:00', '10:45:00',\n",
       "       '19:30:00', '11:30:00', '07:30:00', '23:30:00', '18:30:00',\n",
       "       '05:30:00', '00:45:00', '02:30:00', '20:30:00', '09:15:00',\n",
       "       '16:45:00', '06:30:00', '18:45:00', '16:15:00', '03:45:00',\n",
       "       '01:45:00'], dtype=object)"
      ]
     },
     "execution_count": 16,
     "metadata": {},
     "output_type": "execute_result"
    }
   ],
   "source": [
    "staff_df['Exception Start Time'].unique()"
   ]
  },
  {
   "cell_type": "code",
   "execution_count": 21,
   "id": "aaccee8d",
   "metadata": {},
   "outputs": [
    {
     "data": {
      "text/plain": [
       "False"
      ]
     },
     "execution_count": 21,
     "metadata": {},
     "output_type": "execute_result"
    }
   ],
   "source": [
    "'07:30:0' < '07:00:00'"
   ]
  },
  {
   "cell_type": "code",
   "execution_count": 292,
   "id": "0f30d68f",
   "metadata": {},
   "outputs": [],
   "source": [
    "def shifts(x):\n",
    "    \n",
    "    if x < 7:\n",
    "        return 'night shift'\n",
    "    elif x <  15:\n",
    "        return 'day shift'\n",
    "    elif x < 23 :\n",
    "        return 'evening shift'\n",
    "    else:\n",
    "        return 'night shift'"
   ]
  },
  {
   "cell_type": "code",
   "execution_count": 23,
   "id": "75965ef9",
   "metadata": {},
   "outputs": [
    {
     "data": {
      "text/html": [
       "<div>\n",
       "<style scoped>\n",
       "    .dataframe tbody tr th:only-of-type {\n",
       "        vertical-align: middle;\n",
       "    }\n",
       "\n",
       "    .dataframe tbody tr th {\n",
       "        vertical-align: top;\n",
       "    }\n",
       "\n",
       "    .dataframe thead th {\n",
       "        text-align: right;\n",
       "    }\n",
       "</style>\n",
       "<table border=\"1\" class=\"dataframe\">\n",
       "  <thead>\n",
       "    <tr style=\"text-align: right;\">\n",
       "      <th></th>\n",
       "      <th>Platoon</th>\n",
       "      <th>Officer Badge #</th>\n",
       "      <th>Exception Date</th>\n",
       "      <th>Exception Start Time</th>\n",
       "      <th># of Hours</th>\n",
       "      <th>Exception Type</th>\n",
       "      <th>year</th>\n",
       "      <th>month</th>\n",
       "      <th>day</th>\n",
       "      <th>month_day</th>\n",
       "      <th>hour</th>\n",
       "      <th>shift</th>\n",
       "    </tr>\n",
       "  </thead>\n",
       "  <tbody>\n",
       "    <tr>\n",
       "      <th>0</th>\n",
       "      <td>4 District B Platoon</td>\n",
       "      <td>34260</td>\n",
       "      <td>2020-02-27</td>\n",
       "      <td>07:00:00</td>\n",
       "      <td>12.0</td>\n",
       "      <td>Vacation</td>\n",
       "      <td>2020</td>\n",
       "      <td>Feb</td>\n",
       "      <td>27</td>\n",
       "      <td>Feb-27</td>\n",
       "      <td>7</td>\n",
       "      <td>day</td>\n",
       "    </tr>\n",
       "    <tr>\n",
       "      <th>1</th>\n",
       "      <td>4 District B Platoon</td>\n",
       "      <td>34260</td>\n",
       "      <td>2020-02-20</td>\n",
       "      <td>07:00:00</td>\n",
       "      <td>10.0</td>\n",
       "      <td>Training</td>\n",
       "      <td>2020</td>\n",
       "      <td>Feb</td>\n",
       "      <td>20</td>\n",
       "      <td>Feb-20</td>\n",
       "      <td>7</td>\n",
       "      <td>day</td>\n",
       "    </tr>\n",
       "    <tr>\n",
       "      <th>2</th>\n",
       "      <td>4 District B Platoon</td>\n",
       "      <td>34260</td>\n",
       "      <td>2020-02-19</td>\n",
       "      <td>07:00:00</td>\n",
       "      <td>10.0</td>\n",
       "      <td>Training</td>\n",
       "      <td>2020</td>\n",
       "      <td>Feb</td>\n",
       "      <td>19</td>\n",
       "      <td>Feb-19</td>\n",
       "      <td>7</td>\n",
       "      <td>day</td>\n",
       "    </tr>\n",
       "    <tr>\n",
       "      <th>3</th>\n",
       "      <td>4 District B Platoon</td>\n",
       "      <td>34260</td>\n",
       "      <td>2020-03-07</td>\n",
       "      <td>07:00:00</td>\n",
       "      <td>12.0</td>\n",
       "      <td>Sick</td>\n",
       "      <td>2020</td>\n",
       "      <td>Mar</td>\n",
       "      <td>7</td>\n",
       "      <td>Mar-07</td>\n",
       "      <td>7</td>\n",
       "      <td>day</td>\n",
       "    </tr>\n",
       "    <tr>\n",
       "      <th>4</th>\n",
       "      <td>4 District B Platoon</td>\n",
       "      <td>34260</td>\n",
       "      <td>2020-02-28</td>\n",
       "      <td>07:00:00</td>\n",
       "      <td>12.0</td>\n",
       "      <td>Vacation</td>\n",
       "      <td>2020</td>\n",
       "      <td>Feb</td>\n",
       "      <td>28</td>\n",
       "      <td>Feb-28</td>\n",
       "      <td>7</td>\n",
       "      <td>day</td>\n",
       "    </tr>\n",
       "    <tr>\n",
       "      <th>...</th>\n",
       "      <td>...</td>\n",
       "      <td>...</td>\n",
       "      <td>...</td>\n",
       "      <td>...</td>\n",
       "      <td>...</td>\n",
       "      <td>...</td>\n",
       "      <td>...</td>\n",
       "      <td>...</td>\n",
       "      <td>...</td>\n",
       "      <td>...</td>\n",
       "      <td>...</td>\n",
       "      <td>...</td>\n",
       "    </tr>\n",
       "    <tr>\n",
       "      <th>28369</th>\n",
       "      <td>4 District C Platoon</td>\n",
       "      <td>38160</td>\n",
       "      <td>2022-12-22</td>\n",
       "      <td>18:00:00</td>\n",
       "      <td>12.0</td>\n",
       "      <td>Sick</td>\n",
       "      <td>2022</td>\n",
       "      <td>Dec</td>\n",
       "      <td>22</td>\n",
       "      <td>Dec-22</td>\n",
       "      <td>18</td>\n",
       "      <td>evening</td>\n",
       "    </tr>\n",
       "    <tr>\n",
       "      <th>28370</th>\n",
       "      <td>4 District D Platoon</td>\n",
       "      <td>37350</td>\n",
       "      <td>2022-12-22</td>\n",
       "      <td>07:00:00</td>\n",
       "      <td>12.0</td>\n",
       "      <td>Vacation</td>\n",
       "      <td>2022</td>\n",
       "      <td>Dec</td>\n",
       "      <td>22</td>\n",
       "      <td>Dec-22</td>\n",
       "      <td>7</td>\n",
       "      <td>day</td>\n",
       "    </tr>\n",
       "    <tr>\n",
       "      <th>28371</th>\n",
       "      <td>4 District D Platoon</td>\n",
       "      <td>37350</td>\n",
       "      <td>2022-12-30</td>\n",
       "      <td>07:00:00</td>\n",
       "      <td>6.0</td>\n",
       "      <td>Vacation</td>\n",
       "      <td>2022</td>\n",
       "      <td>Dec</td>\n",
       "      <td>30</td>\n",
       "      <td>Dec-30</td>\n",
       "      <td>7</td>\n",
       "      <td>day</td>\n",
       "    </tr>\n",
       "    <tr>\n",
       "      <th>28372</th>\n",
       "      <td>4 District D Platoon</td>\n",
       "      <td>37350</td>\n",
       "      <td>2022-12-31</td>\n",
       "      <td>19:00:00</td>\n",
       "      <td>12.0</td>\n",
       "      <td>Vacation</td>\n",
       "      <td>2022</td>\n",
       "      <td>Dec</td>\n",
       "      <td>31</td>\n",
       "      <td>Dec-31</td>\n",
       "      <td>19</td>\n",
       "      <td>evening</td>\n",
       "    </tr>\n",
       "    <tr>\n",
       "      <th>28373</th>\n",
       "      <td>4 District D Platoon</td>\n",
       "      <td>37350</td>\n",
       "      <td>2022-12-29</td>\n",
       "      <td>07:00:00</td>\n",
       "      <td>12.0</td>\n",
       "      <td>Vacation</td>\n",
       "      <td>2022</td>\n",
       "      <td>Dec</td>\n",
       "      <td>29</td>\n",
       "      <td>Dec-29</td>\n",
       "      <td>7</td>\n",
       "      <td>day</td>\n",
       "    </tr>\n",
       "  </tbody>\n",
       "</table>\n",
       "<p>28374 rows × 12 columns</p>\n",
       "</div>"
      ],
      "text/plain": [
       "                    Platoon  Officer Badge # Exception Date  \\\n",
       "0      4 District B Platoon            34260     2020-02-27   \n",
       "1      4 District B Platoon            34260     2020-02-20   \n",
       "2      4 District B Platoon            34260     2020-02-19   \n",
       "3      4 District B Platoon            34260     2020-03-07   \n",
       "4      4 District B Platoon            34260     2020-02-28   \n",
       "...                     ...              ...            ...   \n",
       "28369  4 District C Platoon            38160     2022-12-22   \n",
       "28370  4 District D Platoon            37350     2022-12-22   \n",
       "28371  4 District D Platoon            37350     2022-12-30   \n",
       "28372  4 District D Platoon            37350     2022-12-31   \n",
       "28373  4 District D Platoon            37350     2022-12-29   \n",
       "\n",
       "      Exception Start Time  # of Hours Exception Type  year month  day  \\\n",
       "0                 07:00:00        12.0       Vacation  2020   Feb   27   \n",
       "1                 07:00:00        10.0       Training  2020   Feb   20   \n",
       "2                 07:00:00        10.0       Training  2020   Feb   19   \n",
       "3                 07:00:00        12.0           Sick  2020   Mar    7   \n",
       "4                 07:00:00        12.0       Vacation  2020   Feb   28   \n",
       "...                    ...         ...            ...   ...   ...  ...   \n",
       "28369             18:00:00        12.0           Sick  2022   Dec   22   \n",
       "28370             07:00:00        12.0       Vacation  2022   Dec   22   \n",
       "28371             07:00:00         6.0       Vacation  2022   Dec   30   \n",
       "28372             19:00:00        12.0       Vacation  2022   Dec   31   \n",
       "28373             07:00:00        12.0       Vacation  2022   Dec   29   \n",
       "\n",
       "      month_day  hour    shift  \n",
       "0        Feb-27     7      day  \n",
       "1        Feb-20     7      day  \n",
       "2        Feb-19     7      day  \n",
       "3        Mar-07     7      day  \n",
       "4        Feb-28     7      day  \n",
       "...         ...   ...      ...  \n",
       "28369    Dec-22    18  evening  \n",
       "28370    Dec-22     7      day  \n",
       "28371    Dec-30     7      day  \n",
       "28372    Dec-31    19  evening  \n",
       "28373    Dec-29     7      day  \n",
       "\n",
       "[28374 rows x 12 columns]"
      ]
     },
     "execution_count": 23,
     "metadata": {},
     "output_type": "execute_result"
    }
   ],
   "source": [
    "staff_df['shift'] = staff_df['Exception Start Time'].apply(shifts)\n",
    "staff_df"
   ]
  },
  {
   "cell_type": "code",
   "execution_count": 28,
   "id": "494bba7b",
   "metadata": {},
   "outputs": [
    {
     "data": {
      "text/html": [
       "<div>\n",
       "<style scoped>\n",
       "    .dataframe tbody tr th:only-of-type {\n",
       "        vertical-align: middle;\n",
       "    }\n",
       "\n",
       "    .dataframe tbody tr th {\n",
       "        vertical-align: top;\n",
       "    }\n",
       "\n",
       "    .dataframe thead th {\n",
       "        text-align: right;\n",
       "    }\n",
       "</style>\n",
       "<table border=\"1\" class=\"dataframe\">\n",
       "  <thead>\n",
       "    <tr style=\"text-align: right;\">\n",
       "      <th></th>\n",
       "      <th>Platoon</th>\n",
       "      <th>Officer Badge #</th>\n",
       "      <th>Exception Date</th>\n",
       "      <th>Exception Start Time</th>\n",
       "      <th># of Hours</th>\n",
       "      <th>Exception Type</th>\n",
       "      <th>year</th>\n",
       "      <th>month</th>\n",
       "      <th>day</th>\n",
       "      <th>month_day</th>\n",
       "      <th>hour</th>\n",
       "      <th>shift</th>\n",
       "      <th>season</th>\n",
       "    </tr>\n",
       "  </thead>\n",
       "  <tbody>\n",
       "    <tr>\n",
       "      <th>0</th>\n",
       "      <td>4 District B Platoon</td>\n",
       "      <td>34260</td>\n",
       "      <td>2020-02-27</td>\n",
       "      <td>07:00:00</td>\n",
       "      <td>12.0</td>\n",
       "      <td>Vacation</td>\n",
       "      <td>2020</td>\n",
       "      <td>Feb</td>\n",
       "      <td>27</td>\n",
       "      <td>Feb-27</td>\n",
       "      <td>7</td>\n",
       "      <td>day</td>\n",
       "      <td>winter</td>\n",
       "    </tr>\n",
       "    <tr>\n",
       "      <th>1</th>\n",
       "      <td>4 District B Platoon</td>\n",
       "      <td>34260</td>\n",
       "      <td>2020-02-20</td>\n",
       "      <td>07:00:00</td>\n",
       "      <td>10.0</td>\n",
       "      <td>Training</td>\n",
       "      <td>2020</td>\n",
       "      <td>Feb</td>\n",
       "      <td>20</td>\n",
       "      <td>Feb-20</td>\n",
       "      <td>7</td>\n",
       "      <td>day</td>\n",
       "      <td>winter</td>\n",
       "    </tr>\n",
       "    <tr>\n",
       "      <th>2</th>\n",
       "      <td>4 District B Platoon</td>\n",
       "      <td>34260</td>\n",
       "      <td>2020-02-19</td>\n",
       "      <td>07:00:00</td>\n",
       "      <td>10.0</td>\n",
       "      <td>Training</td>\n",
       "      <td>2020</td>\n",
       "      <td>Feb</td>\n",
       "      <td>19</td>\n",
       "      <td>Feb-19</td>\n",
       "      <td>7</td>\n",
       "      <td>day</td>\n",
       "      <td>winter</td>\n",
       "    </tr>\n",
       "    <tr>\n",
       "      <th>3</th>\n",
       "      <td>4 District B Platoon</td>\n",
       "      <td>34260</td>\n",
       "      <td>2020-03-07</td>\n",
       "      <td>07:00:00</td>\n",
       "      <td>12.0</td>\n",
       "      <td>Sick</td>\n",
       "      <td>2020</td>\n",
       "      <td>Mar</td>\n",
       "      <td>7</td>\n",
       "      <td>Mar-07</td>\n",
       "      <td>7</td>\n",
       "      <td>day</td>\n",
       "      <td>winter</td>\n",
       "    </tr>\n",
       "    <tr>\n",
       "      <th>4</th>\n",
       "      <td>4 District B Platoon</td>\n",
       "      <td>34260</td>\n",
       "      <td>2020-02-28</td>\n",
       "      <td>07:00:00</td>\n",
       "      <td>12.0</td>\n",
       "      <td>Vacation</td>\n",
       "      <td>2020</td>\n",
       "      <td>Feb</td>\n",
       "      <td>28</td>\n",
       "      <td>Feb-28</td>\n",
       "      <td>7</td>\n",
       "      <td>day</td>\n",
       "      <td>winter</td>\n",
       "    </tr>\n",
       "  </tbody>\n",
       "</table>\n",
       "</div>"
      ],
      "text/plain": [
       "                Platoon  Officer Badge # Exception Date Exception Start Time  \\\n",
       "0  4 District B Platoon            34260     2020-02-27             07:00:00   \n",
       "1  4 District B Platoon            34260     2020-02-20             07:00:00   \n",
       "2  4 District B Platoon            34260     2020-02-19             07:00:00   \n",
       "3  4 District B Platoon            34260     2020-03-07             07:00:00   \n",
       "4  4 District B Platoon            34260     2020-02-28             07:00:00   \n",
       "\n",
       "   # of Hours Exception Type  year month  day month_day  hour shift  season  \n",
       "0        12.0       Vacation  2020   Feb   27    Feb-27     7   day  winter  \n",
       "1        10.0       Training  2020   Feb   20    Feb-20     7   day  winter  \n",
       "2        10.0       Training  2020   Feb   19    Feb-19     7   day  winter  \n",
       "3        12.0           Sick  2020   Mar    7    Mar-07     7   day  winter  \n",
       "4        12.0       Vacation  2020   Feb   28    Feb-28     7   day  winter  "
      ]
     },
     "execution_count": 28,
     "metadata": {},
     "output_type": "execute_result"
    }
   ],
   "source": [
    "# seasonality\n",
    "def seasonality(date):\n",
    "    \"\"\"\n",
    "    Return the season given the date.\n",
    "\n",
    "    date: Exception date \n",
    "    \n",
    "    date thresholds are referenced from\n",
    "    https://www.timeanddate.com/calendar/seasons.html\n",
    "    \"\"\"\n",
    "    date = str(date)\n",
    "    if date < \"2020-03-19\":\n",
    "        return \"winter\"\n",
    "    \n",
    "    elif date < \"2020-06-20\":\n",
    "        return \"spring\"\n",
    "    \n",
    "    elif date < \"2020-09-22\":\n",
    "        return \"summer\"\n",
    "    \n",
    "    elif date < \"2020-12-21\":\n",
    "        return \"fall\"\n",
    "    \n",
    "    elif date < \"2021-03-20\":\n",
    "        return \"winter\"\n",
    "    \n",
    "    elif date < \"2021-06-20\":\n",
    "        return \"spring\"\n",
    "    \n",
    "    elif date < \"2021-09-22\":\n",
    "        return \"summer\"\n",
    "    \n",
    "    elif date < \"2021-12-21\":\n",
    "        return \"fall\"\n",
    "    \n",
    "    elif date < \"2022-03-20\":\n",
    "        return \"winter\"\n",
    "    \n",
    "    elif date < \"2022-06-21\":\n",
    "        return \"spring\"\n",
    "    \n",
    "    elif date < \"2022-09-22\":\n",
    "        return \"summer\"\n",
    "    \n",
    "    elif date < \"2022-12-21\":\n",
    "        return \"fall\"\n",
    "    \n",
    "    else:\n",
    "        return \"winter\"\n",
    "    \n",
    "\n",
    "staff_df['season'] = staff_df['Exception Date'].apply(seasonality)\n",
    "\n",
    "staff_df.head()"
   ]
  },
  {
   "cell_type": "code",
   "execution_count": 39,
   "id": "015946a9",
   "metadata": {},
   "outputs": [],
   "source": [
    "staff_df['month_num'] = staff_df['Exception Date'].apply(lambda x: x[5:7]).apply(int)"
   ]
  },
  {
   "cell_type": "code",
   "execution_count": 40,
   "id": "dc543668",
   "metadata": {},
   "outputs": [
    {
     "data": {
      "text/html": [
       "<div>\n",
       "<style scoped>\n",
       "    .dataframe tbody tr th:only-of-type {\n",
       "        vertical-align: middle;\n",
       "    }\n",
       "\n",
       "    .dataframe tbody tr th {\n",
       "        vertical-align: top;\n",
       "    }\n",
       "\n",
       "    .dataframe thead th {\n",
       "        text-align: right;\n",
       "    }\n",
       "</style>\n",
       "<table border=\"1\" class=\"dataframe\">\n",
       "  <thead>\n",
       "    <tr style=\"text-align: right;\">\n",
       "      <th></th>\n",
       "      <th>Platoon</th>\n",
       "      <th>Officer Badge #</th>\n",
       "      <th>Exception Date</th>\n",
       "      <th>Exception Start Time</th>\n",
       "      <th># of Hours</th>\n",
       "      <th>Exception Type</th>\n",
       "      <th>year</th>\n",
       "      <th>month</th>\n",
       "      <th>day</th>\n",
       "      <th>month_day</th>\n",
       "      <th>hour</th>\n",
       "      <th>shift</th>\n",
       "      <th>season</th>\n",
       "      <th>month_num</th>\n",
       "    </tr>\n",
       "  </thead>\n",
       "  <tbody>\n",
       "    <tr>\n",
       "      <th>0</th>\n",
       "      <td>4 District B Platoon</td>\n",
       "      <td>34260</td>\n",
       "      <td>2020-02-27</td>\n",
       "      <td>07:00:00</td>\n",
       "      <td>12.0</td>\n",
       "      <td>Vacation</td>\n",
       "      <td>2020</td>\n",
       "      <td>Feb</td>\n",
       "      <td>27</td>\n",
       "      <td>Feb-27</td>\n",
       "      <td>7</td>\n",
       "      <td>day</td>\n",
       "      <td>winter</td>\n",
       "      <td>2</td>\n",
       "    </tr>\n",
       "    <tr>\n",
       "      <th>1</th>\n",
       "      <td>4 District B Platoon</td>\n",
       "      <td>34260</td>\n",
       "      <td>2020-02-20</td>\n",
       "      <td>07:00:00</td>\n",
       "      <td>10.0</td>\n",
       "      <td>Training</td>\n",
       "      <td>2020</td>\n",
       "      <td>Feb</td>\n",
       "      <td>20</td>\n",
       "      <td>Feb-20</td>\n",
       "      <td>7</td>\n",
       "      <td>day</td>\n",
       "      <td>winter</td>\n",
       "      <td>2</td>\n",
       "    </tr>\n",
       "    <tr>\n",
       "      <th>2</th>\n",
       "      <td>4 District B Platoon</td>\n",
       "      <td>34260</td>\n",
       "      <td>2020-02-19</td>\n",
       "      <td>07:00:00</td>\n",
       "      <td>10.0</td>\n",
       "      <td>Training</td>\n",
       "      <td>2020</td>\n",
       "      <td>Feb</td>\n",
       "      <td>19</td>\n",
       "      <td>Feb-19</td>\n",
       "      <td>7</td>\n",
       "      <td>day</td>\n",
       "      <td>winter</td>\n",
       "      <td>2</td>\n",
       "    </tr>\n",
       "    <tr>\n",
       "      <th>3</th>\n",
       "      <td>4 District B Platoon</td>\n",
       "      <td>34260</td>\n",
       "      <td>2020-03-07</td>\n",
       "      <td>07:00:00</td>\n",
       "      <td>12.0</td>\n",
       "      <td>Sick</td>\n",
       "      <td>2020</td>\n",
       "      <td>Mar</td>\n",
       "      <td>7</td>\n",
       "      <td>Mar-07</td>\n",
       "      <td>7</td>\n",
       "      <td>day</td>\n",
       "      <td>winter</td>\n",
       "      <td>3</td>\n",
       "    </tr>\n",
       "    <tr>\n",
       "      <th>4</th>\n",
       "      <td>4 District B Platoon</td>\n",
       "      <td>34260</td>\n",
       "      <td>2020-02-28</td>\n",
       "      <td>07:00:00</td>\n",
       "      <td>12.0</td>\n",
       "      <td>Vacation</td>\n",
       "      <td>2020</td>\n",
       "      <td>Feb</td>\n",
       "      <td>28</td>\n",
       "      <td>Feb-28</td>\n",
       "      <td>7</td>\n",
       "      <td>day</td>\n",
       "      <td>winter</td>\n",
       "      <td>2</td>\n",
       "    </tr>\n",
       "    <tr>\n",
       "      <th>...</th>\n",
       "      <td>...</td>\n",
       "      <td>...</td>\n",
       "      <td>...</td>\n",
       "      <td>...</td>\n",
       "      <td>...</td>\n",
       "      <td>...</td>\n",
       "      <td>...</td>\n",
       "      <td>...</td>\n",
       "      <td>...</td>\n",
       "      <td>...</td>\n",
       "      <td>...</td>\n",
       "      <td>...</td>\n",
       "      <td>...</td>\n",
       "      <td>...</td>\n",
       "    </tr>\n",
       "    <tr>\n",
       "      <th>28369</th>\n",
       "      <td>4 District C Platoon</td>\n",
       "      <td>38160</td>\n",
       "      <td>2022-12-22</td>\n",
       "      <td>18:00:00</td>\n",
       "      <td>12.0</td>\n",
       "      <td>Sick</td>\n",
       "      <td>2022</td>\n",
       "      <td>Dec</td>\n",
       "      <td>22</td>\n",
       "      <td>Dec-22</td>\n",
       "      <td>18</td>\n",
       "      <td>evening</td>\n",
       "      <td>winter</td>\n",
       "      <td>12</td>\n",
       "    </tr>\n",
       "    <tr>\n",
       "      <th>28370</th>\n",
       "      <td>4 District D Platoon</td>\n",
       "      <td>37350</td>\n",
       "      <td>2022-12-22</td>\n",
       "      <td>07:00:00</td>\n",
       "      <td>12.0</td>\n",
       "      <td>Vacation</td>\n",
       "      <td>2022</td>\n",
       "      <td>Dec</td>\n",
       "      <td>22</td>\n",
       "      <td>Dec-22</td>\n",
       "      <td>7</td>\n",
       "      <td>day</td>\n",
       "      <td>winter</td>\n",
       "      <td>12</td>\n",
       "    </tr>\n",
       "    <tr>\n",
       "      <th>28371</th>\n",
       "      <td>4 District D Platoon</td>\n",
       "      <td>37350</td>\n",
       "      <td>2022-12-30</td>\n",
       "      <td>07:00:00</td>\n",
       "      <td>6.0</td>\n",
       "      <td>Vacation</td>\n",
       "      <td>2022</td>\n",
       "      <td>Dec</td>\n",
       "      <td>30</td>\n",
       "      <td>Dec-30</td>\n",
       "      <td>7</td>\n",
       "      <td>day</td>\n",
       "      <td>winter</td>\n",
       "      <td>12</td>\n",
       "    </tr>\n",
       "    <tr>\n",
       "      <th>28372</th>\n",
       "      <td>4 District D Platoon</td>\n",
       "      <td>37350</td>\n",
       "      <td>2022-12-31</td>\n",
       "      <td>19:00:00</td>\n",
       "      <td>12.0</td>\n",
       "      <td>Vacation</td>\n",
       "      <td>2022</td>\n",
       "      <td>Dec</td>\n",
       "      <td>31</td>\n",
       "      <td>Dec-31</td>\n",
       "      <td>19</td>\n",
       "      <td>evening</td>\n",
       "      <td>winter</td>\n",
       "      <td>12</td>\n",
       "    </tr>\n",
       "    <tr>\n",
       "      <th>28373</th>\n",
       "      <td>4 District D Platoon</td>\n",
       "      <td>37350</td>\n",
       "      <td>2022-12-29</td>\n",
       "      <td>07:00:00</td>\n",
       "      <td>12.0</td>\n",
       "      <td>Vacation</td>\n",
       "      <td>2022</td>\n",
       "      <td>Dec</td>\n",
       "      <td>29</td>\n",
       "      <td>Dec-29</td>\n",
       "      <td>7</td>\n",
       "      <td>day</td>\n",
       "      <td>winter</td>\n",
       "      <td>12</td>\n",
       "    </tr>\n",
       "  </tbody>\n",
       "</table>\n",
       "<p>28374 rows × 14 columns</p>\n",
       "</div>"
      ],
      "text/plain": [
       "                    Platoon  Officer Badge # Exception Date  \\\n",
       "0      4 District B Platoon            34260     2020-02-27   \n",
       "1      4 District B Platoon            34260     2020-02-20   \n",
       "2      4 District B Platoon            34260     2020-02-19   \n",
       "3      4 District B Platoon            34260     2020-03-07   \n",
       "4      4 District B Platoon            34260     2020-02-28   \n",
       "...                     ...              ...            ...   \n",
       "28369  4 District C Platoon            38160     2022-12-22   \n",
       "28370  4 District D Platoon            37350     2022-12-22   \n",
       "28371  4 District D Platoon            37350     2022-12-30   \n",
       "28372  4 District D Platoon            37350     2022-12-31   \n",
       "28373  4 District D Platoon            37350     2022-12-29   \n",
       "\n",
       "      Exception Start Time  # of Hours Exception Type  year month  day  \\\n",
       "0                 07:00:00        12.0       Vacation  2020   Feb   27   \n",
       "1                 07:00:00        10.0       Training  2020   Feb   20   \n",
       "2                 07:00:00        10.0       Training  2020   Feb   19   \n",
       "3                 07:00:00        12.0           Sick  2020   Mar    7   \n",
       "4                 07:00:00        12.0       Vacation  2020   Feb   28   \n",
       "...                    ...         ...            ...   ...   ...  ...   \n",
       "28369             18:00:00        12.0           Sick  2022   Dec   22   \n",
       "28370             07:00:00        12.0       Vacation  2022   Dec   22   \n",
       "28371             07:00:00         6.0       Vacation  2022   Dec   30   \n",
       "28372             19:00:00        12.0       Vacation  2022   Dec   31   \n",
       "28373             07:00:00        12.0       Vacation  2022   Dec   29   \n",
       "\n",
       "      month_day  hour    shift  season  month_num  \n",
       "0        Feb-27     7      day  winter          2  \n",
       "1        Feb-20     7      day  winter          2  \n",
       "2        Feb-19     7      day  winter          2  \n",
       "3        Mar-07     7      day  winter          3  \n",
       "4        Feb-28     7      day  winter          2  \n",
       "...         ...   ...      ...     ...        ...  \n",
       "28369    Dec-22    18  evening  winter         12  \n",
       "28370    Dec-22     7      day  winter         12  \n",
       "28371    Dec-30     7      day  winter         12  \n",
       "28372    Dec-31    19  evening  winter         12  \n",
       "28373    Dec-29     7      day  winter         12  \n",
       "\n",
       "[28374 rows x 14 columns]"
      ]
     },
     "execution_count": 40,
     "metadata": {},
     "output_type": "execute_result"
    }
   ],
   "source": [
    "staff_df"
   ]
  },
  {
   "cell_type": "code",
   "execution_count": 82,
   "id": "459d7f80",
   "metadata": {},
   "outputs": [
    {
     "data": {
      "text/plain": [
       "Exception Type\n",
       "Vacation    0.631917\n",
       "Training    0.224149\n",
       "Sick        0.143935\n",
       "Name: count, dtype: float64"
      ]
     },
     "execution_count": 82,
     "metadata": {},
     "output_type": "execute_result"
    }
   ],
   "source": [
    "staff_df['Exception Type'].value_counts() /staff_df.shape[0]"
   ]
  },
  {
   "cell_type": "code",
   "execution_count": 216,
   "id": "aab8f5d6",
   "metadata": {
    "scrolled": true
   },
   "outputs": [
    {
     "data": {
      "text/html": [
       "<style>#sk-container-id-4 {color: black;background-color: white;}#sk-container-id-4 pre{padding: 0;}#sk-container-id-4 div.sk-toggleable {background-color: white;}#sk-container-id-4 label.sk-toggleable__label {cursor: pointer;display: block;width: 100%;margin-bottom: 0;padding: 0.3em;box-sizing: border-box;text-align: center;}#sk-container-id-4 label.sk-toggleable__label-arrow:before {content: \"▸\";float: left;margin-right: 0.25em;color: #696969;}#sk-container-id-4 label.sk-toggleable__label-arrow:hover:before {color: black;}#sk-container-id-4 div.sk-estimator:hover label.sk-toggleable__label-arrow:before {color: black;}#sk-container-id-4 div.sk-toggleable__content {max-height: 0;max-width: 0;overflow: hidden;text-align: left;background-color: #f0f8ff;}#sk-container-id-4 div.sk-toggleable__content pre {margin: 0.2em;color: black;border-radius: 0.25em;background-color: #f0f8ff;}#sk-container-id-4 input.sk-toggleable__control:checked~div.sk-toggleable__content {max-height: 200px;max-width: 100%;overflow: auto;}#sk-container-id-4 input.sk-toggleable__control:checked~label.sk-toggleable__label-arrow:before {content: \"▾\";}#sk-container-id-4 div.sk-estimator input.sk-toggleable__control:checked~label.sk-toggleable__label {background-color: #d4ebff;}#sk-container-id-4 div.sk-label input.sk-toggleable__control:checked~label.sk-toggleable__label {background-color: #d4ebff;}#sk-container-id-4 input.sk-hidden--visually {border: 0;clip: rect(1px 1px 1px 1px);clip: rect(1px, 1px, 1px, 1px);height: 1px;margin: -1px;overflow: hidden;padding: 0;position: absolute;width: 1px;}#sk-container-id-4 div.sk-estimator {font-family: monospace;background-color: #f0f8ff;border: 1px dotted black;border-radius: 0.25em;box-sizing: border-box;margin-bottom: 0.5em;}#sk-container-id-4 div.sk-estimator:hover {background-color: #d4ebff;}#sk-container-id-4 div.sk-parallel-item::after {content: \"\";width: 100%;border-bottom: 1px solid gray;flex-grow: 1;}#sk-container-id-4 div.sk-label:hover label.sk-toggleable__label {background-color: #d4ebff;}#sk-container-id-4 div.sk-serial::before {content: \"\";position: absolute;border-left: 1px solid gray;box-sizing: border-box;top: 0;bottom: 0;left: 50%;z-index: 0;}#sk-container-id-4 div.sk-serial {display: flex;flex-direction: column;align-items: center;background-color: white;padding-right: 0.2em;padding-left: 0.2em;position: relative;}#sk-container-id-4 div.sk-item {position: relative;z-index: 1;}#sk-container-id-4 div.sk-parallel {display: flex;align-items: stretch;justify-content: center;background-color: white;position: relative;}#sk-container-id-4 div.sk-item::before, #sk-container-id-4 div.sk-parallel-item::before {content: \"\";position: absolute;border-left: 1px solid gray;box-sizing: border-box;top: 0;bottom: 0;left: 50%;z-index: -1;}#sk-container-id-4 div.sk-parallel-item {display: flex;flex-direction: column;z-index: 1;position: relative;background-color: white;}#sk-container-id-4 div.sk-parallel-item:first-child::after {align-self: flex-end;width: 50%;}#sk-container-id-4 div.sk-parallel-item:last-child::after {align-self: flex-start;width: 50%;}#sk-container-id-4 div.sk-parallel-item:only-child::after {width: 0;}#sk-container-id-4 div.sk-dashed-wrapped {border: 1px dashed gray;margin: 0 0.4em 0.5em 0.4em;box-sizing: border-box;padding-bottom: 0.4em;background-color: white;}#sk-container-id-4 div.sk-label label {font-family: monospace;font-weight: bold;display: inline-block;line-height: 1.2em;}#sk-container-id-4 div.sk-label-container {text-align: center;}#sk-container-id-4 div.sk-container {/* jupyter's `normalize.less` sets `[hidden] { display: none; }` but bootstrap.min.css set `[hidden] { display: none !important; }` so we also need the `!important` here to be able to override the default hidden behavior on the sphinx rendered scikit-learn.org. See: https://github.com/scikit-learn/scikit-learn/issues/21755 */display: inline-block !important;position: relative;}#sk-container-id-4 div.sk-text-repr-fallback {display: none;}</style><div id=\"sk-container-id-4\" class=\"sk-top-container\"><div class=\"sk-text-repr-fallback\"><pre>LabelEncoder()</pre><b>In a Jupyter environment, please rerun this cell to show the HTML representation or trust the notebook. <br />On GitHub, the HTML representation is unable to render, please try loading this page with nbviewer.org.</b></div><div class=\"sk-container\" hidden><div class=\"sk-item\"><div class=\"sk-estimator sk-toggleable\"><input class=\"sk-toggleable__control sk-hidden--visually\" id=\"sk-estimator-id-4\" type=\"checkbox\" checked><label for=\"sk-estimator-id-4\" class=\"sk-toggleable__label sk-toggleable__label-arrow\">LabelEncoder</label><div class=\"sk-toggleable__content\"><pre>LabelEncoder()</pre></div></div></div></div></div>"
      ],
      "text/plain": [
       "LabelEncoder()"
      ]
     },
     "execution_count": 216,
     "metadata": {},
     "output_type": "execute_result"
    }
   ],
   "source": [
    "cat_preds = staff_df[['shift','season']]\n",
    "num_preds = staff_df[['# of Hours', 'month_num','day','hour']]\n",
    "\n",
    "enc = OneHotEncoder(handle_unknown='ignore')\n",
    "enc.fit(cat_preds)\n",
    "\n",
    "# get label y values\n",
    "label_encoder = LabelEncoder()\n",
    "\n",
    "\n",
    "label_encoder.fit(staff_df['Exception Type'])"
   ]
  },
  {
   "cell_type": "code",
   "execution_count": 238,
   "id": "ab0acea9",
   "metadata": {},
   "outputs": [
    {
     "data": {
      "text/html": [
       "<div>\n",
       "<style scoped>\n",
       "    .dataframe tbody tr th:only-of-type {\n",
       "        vertical-align: middle;\n",
       "    }\n",
       "\n",
       "    .dataframe tbody tr th {\n",
       "        vertical-align: top;\n",
       "    }\n",
       "\n",
       "    .dataframe thead th {\n",
       "        text-align: right;\n",
       "    }\n",
       "</style>\n",
       "<table border=\"1\" class=\"dataframe\">\n",
       "  <thead>\n",
       "    <tr style=\"text-align: right;\">\n",
       "      <th></th>\n",
       "      <th># of Hours</th>\n",
       "      <th>month_num</th>\n",
       "      <th>day</th>\n",
       "      <th>hour</th>\n",
       "      <th>shift</th>\n",
       "      <th>season</th>\n",
       "    </tr>\n",
       "  </thead>\n",
       "  <tbody>\n",
       "    <tr>\n",
       "      <th>0</th>\n",
       "      <td>12.0</td>\n",
       "      <td>2</td>\n",
       "      <td>27</td>\n",
       "      <td>7</td>\n",
       "      <td>day</td>\n",
       "      <td>winter</td>\n",
       "    </tr>\n",
       "    <tr>\n",
       "      <th>1</th>\n",
       "      <td>10.0</td>\n",
       "      <td>2</td>\n",
       "      <td>20</td>\n",
       "      <td>7</td>\n",
       "      <td>day</td>\n",
       "      <td>winter</td>\n",
       "    </tr>\n",
       "    <tr>\n",
       "      <th>2</th>\n",
       "      <td>10.0</td>\n",
       "      <td>2</td>\n",
       "      <td>19</td>\n",
       "      <td>7</td>\n",
       "      <td>day</td>\n",
       "      <td>winter</td>\n",
       "    </tr>\n",
       "    <tr>\n",
       "      <th>3</th>\n",
       "      <td>12.0</td>\n",
       "      <td>3</td>\n",
       "      <td>7</td>\n",
       "      <td>7</td>\n",
       "      <td>day</td>\n",
       "      <td>winter</td>\n",
       "    </tr>\n",
       "    <tr>\n",
       "      <th>4</th>\n",
       "      <td>12.0</td>\n",
       "      <td>2</td>\n",
       "      <td>28</td>\n",
       "      <td>7</td>\n",
       "      <td>day</td>\n",
       "      <td>winter</td>\n",
       "    </tr>\n",
       "    <tr>\n",
       "      <th>...</th>\n",
       "      <td>...</td>\n",
       "      <td>...</td>\n",
       "      <td>...</td>\n",
       "      <td>...</td>\n",
       "      <td>...</td>\n",
       "      <td>...</td>\n",
       "    </tr>\n",
       "    <tr>\n",
       "      <th>28369</th>\n",
       "      <td>12.0</td>\n",
       "      <td>12</td>\n",
       "      <td>22</td>\n",
       "      <td>18</td>\n",
       "      <td>evening</td>\n",
       "      <td>winter</td>\n",
       "    </tr>\n",
       "    <tr>\n",
       "      <th>28370</th>\n",
       "      <td>12.0</td>\n",
       "      <td>12</td>\n",
       "      <td>22</td>\n",
       "      <td>7</td>\n",
       "      <td>day</td>\n",
       "      <td>winter</td>\n",
       "    </tr>\n",
       "    <tr>\n",
       "      <th>28371</th>\n",
       "      <td>6.0</td>\n",
       "      <td>12</td>\n",
       "      <td>30</td>\n",
       "      <td>7</td>\n",
       "      <td>day</td>\n",
       "      <td>winter</td>\n",
       "    </tr>\n",
       "    <tr>\n",
       "      <th>28372</th>\n",
       "      <td>12.0</td>\n",
       "      <td>12</td>\n",
       "      <td>31</td>\n",
       "      <td>19</td>\n",
       "      <td>evening</td>\n",
       "      <td>winter</td>\n",
       "    </tr>\n",
       "    <tr>\n",
       "      <th>28373</th>\n",
       "      <td>12.0</td>\n",
       "      <td>12</td>\n",
       "      <td>29</td>\n",
       "      <td>7</td>\n",
       "      <td>day</td>\n",
       "      <td>winter</td>\n",
       "    </tr>\n",
       "  </tbody>\n",
       "</table>\n",
       "<p>28374 rows × 6 columns</p>\n",
       "</div>"
      ],
      "text/plain": [
       "       # of Hours  month_num  day  hour    shift  season\n",
       "0            12.0          2   27     7      day  winter\n",
       "1            10.0          2   20     7      day  winter\n",
       "2            10.0          2   19     7      day  winter\n",
       "3            12.0          3    7     7      day  winter\n",
       "4            12.0          2   28     7      day  winter\n",
       "...           ...        ...  ...   ...      ...     ...\n",
       "28369        12.0         12   22    18  evening  winter\n",
       "28370        12.0         12   22     7      day  winter\n",
       "28371         6.0         12   30     7      day  winter\n",
       "28372        12.0         12   31    19  evening  winter\n",
       "28373        12.0         12   29     7      day  winter\n",
       "\n",
       "[28374 rows x 6 columns]"
      ]
     },
     "execution_count": 238,
     "metadata": {},
     "output_type": "execute_result"
    }
   ],
   "source": [
    "X"
   ]
  },
  {
   "cell_type": "code",
   "execution_count": 171,
   "id": "51d0c7d1",
   "metadata": {},
   "outputs": [],
   "source": [
    "X = staff_df[['# of Hours', 'month_num','day','hour','shift','season']]\n",
    "Y_unlabeled= staff_df['Exception Type']"
   ]
  },
  {
   "cell_type": "code",
   "execution_count": 194,
   "id": "91dcc92a",
   "metadata": {},
   "outputs": [],
   "source": [
    "# train test split\n",
    "x_train, x_test, y_train, y_test = model_selection.train_test_split(X, Y_unlabeled, \n",
    "                                                                    random_state=888, \n",
    "                                                                    test_size=0.20)\n",
    "\n",
    "\n",
    "# make sure indexes are correct\n",
    "train_df = pd.concat([x_train,y_train],axis=1)\n",
    "\n",
    "\n",
    "# over sample\n",
    "\n",
    "n = 2000\n",
    "\n",
    "extra_sick = train_df[\n",
    "        train_df['Exception Type'] == 'Sick'\n",
    "        ].sample(n, random_state= 888)\n",
    "\n",
    "\n",
    "train_over_sample = pd.concat([train_df, extra_sick], axis=0)\n",
    "train_over_sample\n",
    "\n",
    "\n",
    "# training\n",
    "x_train = train_over_sample[['# of Hours', 'month_num',\n",
    "                   'day','hour','shift','season']]\n",
    "y_train = train_over_sample['Exception Type']\n",
    "\n",
    "cat_preds = x_train[['shift','season']]\n",
    "num_preds = x_train[['# of Hours', 'month_num','day','hour']]\n",
    "\n",
    "cat_preads = enc.transform(cat_preds).toarray()\n",
    "cat_preds = pd.DataFrame(cat_preds, index = num_preds.index)\n",
    "x_train = pd.concat([num_preds,cat_preds],axis=1)\n",
    "\n",
    "\n",
    "y_train = pd.DataFrame(label_encoder.transform(y_train))\n",
    "\n",
    "\n",
    "# testing\n",
    "cat_preds = x_test[['shift','season']]\n",
    "num_preds = x_test[['# of Hours', 'month_num','day','hour']]\n",
    "\n",
    "cat_preds = enc.transform(cat_preds).toarray()\n",
    "cat_preds = pd.DataFrame(cat_preds, index = num_preds.index)\n",
    "x_test = pd.concat([num_preds,cat_preds],axis=1)\n",
    "\n",
    "y_test = pd.DataFrame(label_encoder.transform(y_test))\n"
   ]
  },
  {
   "cell_type": "code",
   "execution_count": 241,
   "id": "6615c528",
   "metadata": {},
   "outputs": [
    {
     "name": "stdout",
     "output_type": "stream",
     "text": [
      "              precision    recall  f1-score   support\n",
      "\n",
      "           0       0.38      0.25      0.30       841\n",
      "           1       0.95      0.96      0.96      1279\n",
      "           2       0.83      0.90      0.86      3555\n",
      "\n",
      "    accuracy                           0.81      5675\n",
      "   macro avg       0.72      0.70      0.71      5675\n",
      "weighted avg       0.79      0.81      0.80      5675\n",
      "\n"
     ]
    }
   ],
   "source": [
    "#Start of gradient boosted tree\n",
    "\n",
    "xgb_model = xgb.XGBClassifier(n_estimators=10000) # initialize tree\n",
    "\n",
    "xgb_model.fit(x_train, np.ravel(y_train)) # train tree\n",
    "\n",
    "predict_xgb = xgb_model.predict_proba(x_test) # 1st col = pred val, 2nd col = pred prob\n",
    "\n",
    "predict_xgb_prob = pd.DataFrame(predict_xgb,columns = ['Sick','Training', 'Vacation'])\n",
    "\n",
    "prob_preds = pd.concat([predict_xgb_prob, y_test.reset_index(drop=True)],axis=1)\n",
    "\n",
    "prob_preds['y_pred'] = prob_preds.apply(find_max_and_assign,axis=1)\n",
    "\n",
    "\n",
    "print(classification_report(prob_preds[0], prob_preds['y_pred']))"
   ]
  },
  {
   "cell_type": "code",
   "execution_count": 242,
   "id": "bc5be32a",
   "metadata": {},
   "outputs": [
    {
     "data": {
      "image/png": "[encoded data removed]",
      "text/plain": [
       "<Figure size 640x480 with 1 Axes>"
      ]
     },
     "metadata": {},
     "output_type": "display_data"
    }
   ],
   "source": [
    "plot_importance(xgb_model)\n",
    "plt.tight_layout()"
   ]
  },
  {
   "cell_type": "code",
   "execution_count": 227,
   "id": "1f839c8d",
   "metadata": {},
   "outputs": [
    {
     "name": "stdout",
     "output_type": "stream",
     "text": [
      "              precision    recall  f1-score   support\n",
      "\n",
      "           0       0.37      0.25      0.30       841\n",
      "           1       0.95      0.96      0.95      1279\n",
      "           2       0.83      0.89      0.86      3555\n",
      "\n",
      "    accuracy                           0.81      5675\n",
      "   macro avg       0.72      0.70      0.70      5675\n",
      "weighted avg       0.79      0.81      0.80      5675\n",
      "\n"
     ]
    }
   ],
   "source": [
    "predict_xgb = xgb_model.predict_proba(x_test) # 1st col = pred val, 2nd col = pred prob\n",
    "\n",
    "predict_xgb_prob = pd.DataFrame(predict_xgb,columns = ['Sick','Training', 'Vacation'])\n",
    "\n",
    "prob_preds = pd.concat([predict_xgb_prob, y_test.reset_index(drop=True)],axis=1)\n",
    "\n",
    "prob_preds['y_pred'] = prob_preds.apply(find_max_and_assign,axis=1)\n",
    "\n",
    "\n",
    "print(classification_report(prob_preds[0], prob_preds['y_pred']))"
   ]
  },
  {
   "cell_type": "code",
   "execution_count": null,
   "id": "9aa57624",
   "metadata": {},
   "outputs": [],
   "source": []
  },
  {
   "cell_type": "code",
   "execution_count": 196,
   "id": "e97e4a60",
   "metadata": {},
   "outputs": [],
   "source": [
    "def find_max_and_assign(row):\n",
    "    # Extract the values for 'Sick', 'Training', and 'Vacation'\n",
    "    values = row[['Sick', 'Training', 'Vacation']]\n",
    "    \n",
    "    # Find the column with the maximum value\n",
    "    max_col = values.idxmax()\n",
    "    \n",
    "    # Assign the new value to 'Predictions' based on the max column\n",
    "    if max_col == 'Sick':\n",
    "        return 0\n",
    "    elif max_col == 'Training':\n",
    "        return 1\n",
    "    elif max_col == 'Vacation':\n",
    "        return 2"
   ]
  },
  {
   "cell_type": "code",
   "execution_count": 234,
   "id": "f247a4d9",
   "metadata": {},
   "outputs": [
    {
     "data": {
      "text/plain": [
       "0.8928270042194093"
      ]
     },
     "execution_count": 234,
     "metadata": {},
     "output_type": "execute_result"
    }
   ],
   "source": [
    "report = classification_report(prob_preds[0], prob_preds['y_pred'], output_dict=True)\n",
    "\n",
    "report['0']['recall']\n",
    "report['1']['recall']\n",
    "report['2']['recall']"
   ]
  },
  {
   "cell_type": "code",
   "execution_count": 240,
   "id": "2f3454af",
   "metadata": {},
   "outputs": [
    {
     "name": "stdout",
     "output_type": "stream",
     "text": [
      "{'precision': 0.7895365048786614, 'recall': 0.81215859030837, 'f1-score': 0.7983806994706647, 'support': 5675}\n"
     ]
    }
   ],
   "source": [
    "print(report['weighted avg'])"
   ]
  },
  {
   "cell_type": "code",
   "execution_count": null,
   "id": "3e1d9b8f",
   "metadata": {},
   "outputs": [],
   "source": []
  },
  {
   "cell_type": "code",
   "execution_count": 215,
   "id": "ae685159",
   "metadata": {},
   "outputs": [
    {
     "data": {
      "application/vnd.jupyter.widget-view+json": {
       "model_id": "d4a0d01bc92248cea55f6252c1629677",
       "version_major": 2,
       "version_minor": 0
      },
      "text/plain": [
       "  0%|          | 0/20 [00:00<?, ?it/s]"
      ]
     },
     "metadata": {},
     "output_type": "display_data"
    },
    {
     "name": "stdout",
     "output_type": "stream",
     "text": [
      "1\n",
      "[0]\tvalidation_0-mlogloss:1.09456\n"
     ]
    },
    {
     "name": "stderr",
     "output_type": "stream",
     "text": [
      "/var/folders/wj/gwqv8kfj18317lgnlmf6zypw0000gn/T/ipykernel_1406/184723262.py:10: FutureWarning: suggest_loguniform has been deprecated in v3.0.0. This feature will be removed in v6.0.0. See https://github.com/optuna/optuna/releases/tag/v3.0.0. Use suggest_float(..., log=True) instead.\n",
      "  'lambda': trial.suggest_loguniform('lambda', 1e-3, 10.0),\n",
      "/var/folders/wj/gwqv8kfj18317lgnlmf6zypw0000gn/T/ipykernel_1406/184723262.py:11: FutureWarning: suggest_loguniform has been deprecated in v3.0.0. This feature will be removed in v6.0.0. See https://github.com/optuna/optuna/releases/tag/v3.0.0. Use suggest_float(..., log=True) instead.\n",
      "  'alpha': trial.suggest_loguniform('alpha', 1e-3, 10.0),\n",
      "/Users/kennethleung/opt/anaconda3/lib/python3.9/site-packages/xgboost/sklearn.py:885: UserWarning: `early_stopping_rounds` in `fit` method is deprecated for better compatibility with scikit-learn, use `early_stopping_rounds` in constructor or`set_params` instead.\n",
      "  warnings.warn(\n"
     ]
    },
    {
     "name": "stdout",
     "output_type": "stream",
     "text": [
      "[500]\tvalidation_0-mlogloss:0.53780\n",
      "[1000]\tvalidation_0-mlogloss:0.51154\n",
      "[1500]\tvalidation_0-mlogloss:0.50295\n",
      "[2000]\tvalidation_0-mlogloss:0.49775\n",
      "[2500]\tvalidation_0-mlogloss:0.49397\n",
      "[3000]\tvalidation_0-mlogloss:0.49115\n",
      "[3500]\tvalidation_0-mlogloss:0.48876\n",
      "[3999]\tvalidation_0-mlogloss:0.48676\n",
      "1\n",
      "[0]\tvalidation_0-mlogloss:1.08681\n"
     ]
    },
    {
     "name": "stderr",
     "output_type": "stream",
     "text": [
      "/var/folders/wj/gwqv8kfj18317lgnlmf6zypw0000gn/T/ipykernel_1406/184723262.py:10: FutureWarning: suggest_loguniform has been deprecated in v3.0.0. This feature will be removed in v6.0.0. See https://github.com/optuna/optuna/releases/tag/v3.0.0. Use suggest_float(..., log=True) instead.\n",
      "  'lambda': trial.suggest_loguniform('lambda', 1e-3, 10.0),\n",
      "/var/folders/wj/gwqv8kfj18317lgnlmf6zypw0000gn/T/ipykernel_1406/184723262.py:11: FutureWarning: suggest_loguniform has been deprecated in v3.0.0. This feature will be removed in v6.0.0. See https://github.com/optuna/optuna/releases/tag/v3.0.0. Use suggest_float(..., log=True) instead.\n",
      "  'alpha': trial.suggest_loguniform('alpha', 1e-3, 10.0),\n",
      "/Users/kennethleung/opt/anaconda3/lib/python3.9/site-packages/xgboost/sklearn.py:885: UserWarning: `early_stopping_rounds` in `fit` method is deprecated for better compatibility with scikit-learn, use `early_stopping_rounds` in constructor or`set_params` instead.\n",
      "  warnings.warn(\n"
     ]
    },
    {
     "name": "stdout",
     "output_type": "stream",
     "text": [
      "[500]\tvalidation_0-mlogloss:0.50477\n",
      "[1000]\tvalidation_0-mlogloss:0.48934\n",
      "[1499]\tvalidation_0-mlogloss:0.48129\n",
      "1\n",
      "[0]\tvalidation_0-mlogloss:1.08978\n"
     ]
    },
    {
     "name": "stderr",
     "output_type": "stream",
     "text": [
      "/var/folders/wj/gwqv8kfj18317lgnlmf6zypw0000gn/T/ipykernel_1406/184723262.py:10: FutureWarning: suggest_loguniform has been deprecated in v3.0.0. This feature will be removed in v6.0.0. See https://github.com/optuna/optuna/releases/tag/v3.0.0. Use suggest_float(..., log=True) instead.\n",
      "  'lambda': trial.suggest_loguniform('lambda', 1e-3, 10.0),\n",
      "/var/folders/wj/gwqv8kfj18317lgnlmf6zypw0000gn/T/ipykernel_1406/184723262.py:11: FutureWarning: suggest_loguniform has been deprecated in v3.0.0. This feature will be removed in v6.0.0. See https://github.com/optuna/optuna/releases/tag/v3.0.0. Use suggest_float(..., log=True) instead.\n",
      "  'alpha': trial.suggest_loguniform('alpha', 1e-3, 10.0),\n",
      "/Users/kennethleung/opt/anaconda3/lib/python3.9/site-packages/xgboost/sklearn.py:885: UserWarning: `early_stopping_rounds` in `fit` method is deprecated for better compatibility with scikit-learn, use `early_stopping_rounds` in constructor or`set_params` instead.\n",
      "  warnings.warn(\n"
     ]
    },
    {
     "name": "stdout",
     "output_type": "stream",
     "text": [
      "[500]\tvalidation_0-mlogloss:0.50986\n",
      "[1000]\tvalidation_0-mlogloss:0.49308\n",
      "[1500]\tvalidation_0-mlogloss:0.48547\n",
      "[2000]\tvalidation_0-mlogloss:0.48021\n",
      "[2500]\tvalidation_0-mlogloss:0.47616\n",
      "[3000]\tvalidation_0-mlogloss:0.47292\n",
      "[3500]\tvalidation_0-mlogloss:0.47011\n",
      "[4000]\tvalidation_0-mlogloss:0.46770\n",
      "[4500]\tvalidation_0-mlogloss:0.46559\n",
      "[4999]\tvalidation_0-mlogloss:0.46367\n",
      "1\n",
      "[0]\tvalidation_0-mlogloss:1.08523\n"
     ]
    },
    {
     "name": "stderr",
     "output_type": "stream",
     "text": [
      "/var/folders/wj/gwqv8kfj18317lgnlmf6zypw0000gn/T/ipykernel_1406/184723262.py:10: FutureWarning: suggest_loguniform has been deprecated in v3.0.0. This feature will be removed in v6.0.0. See https://github.com/optuna/optuna/releases/tag/v3.0.0. Use suggest_float(..., log=True) instead.\n",
      "  'lambda': trial.suggest_loguniform('lambda', 1e-3, 10.0),\n",
      "/var/folders/wj/gwqv8kfj18317lgnlmf6zypw0000gn/T/ipykernel_1406/184723262.py:11: FutureWarning: suggest_loguniform has been deprecated in v3.0.0. This feature will be removed in v6.0.0. See https://github.com/optuna/optuna/releases/tag/v3.0.0. Use suggest_float(..., log=True) instead.\n",
      "  'alpha': trial.suggest_loguniform('alpha', 1e-3, 10.0),\n",
      "/Users/kennethleung/opt/anaconda3/lib/python3.9/site-packages/xgboost/sklearn.py:885: UserWarning: `early_stopping_rounds` in `fit` method is deprecated for better compatibility with scikit-learn, use `early_stopping_rounds` in constructor or`set_params` instead.\n",
      "  warnings.warn(\n"
     ]
    },
    {
     "name": "stdout",
     "output_type": "stream",
     "text": [
      "[500]\tvalidation_0-mlogloss:0.48678\n",
      "[1000]\tvalidation_0-mlogloss:0.47013\n",
      "[1500]\tvalidation_0-mlogloss:0.46093\n",
      "[1999]\tvalidation_0-mlogloss:0.45451\n",
      "1\n",
      "[0]\tvalidation_0-mlogloss:1.08914\n"
     ]
    },
    {
     "name": "stderr",
     "output_type": "stream",
     "text": [
      "/var/folders/wj/gwqv8kfj18317lgnlmf6zypw0000gn/T/ipykernel_1406/184723262.py:10: FutureWarning: suggest_loguniform has been deprecated in v3.0.0. This feature will be removed in v6.0.0. See https://github.com/optuna/optuna/releases/tag/v3.0.0. Use suggest_float(..., log=True) instead.\n",
      "  'lambda': trial.suggest_loguniform('lambda', 1e-3, 10.0),\n",
      "/var/folders/wj/gwqv8kfj18317lgnlmf6zypw0000gn/T/ipykernel_1406/184723262.py:11: FutureWarning: suggest_loguniform has been deprecated in v3.0.0. This feature will be removed in v6.0.0. See https://github.com/optuna/optuna/releases/tag/v3.0.0. Use suggest_float(..., log=True) instead.\n",
      "  'alpha': trial.suggest_loguniform('alpha', 1e-3, 10.0),\n",
      "/Users/kennethleung/opt/anaconda3/lib/python3.9/site-packages/xgboost/sklearn.py:885: UserWarning: `early_stopping_rounds` in `fit` method is deprecated for better compatibility with scikit-learn, use `early_stopping_rounds` in constructor or`set_params` instead.\n",
      "  warnings.warn(\n"
     ]
    },
    {
     "name": "stdout",
     "output_type": "stream",
     "text": [
      "[500]\tvalidation_0-mlogloss:0.44929\n",
      "[1000]\tvalidation_0-mlogloss:0.42479\n",
      "[1500]\tvalidation_0-mlogloss:0.41334\n",
      "[2000]\tvalidation_0-mlogloss:0.40552\n",
      "[2499]\tvalidation_0-mlogloss:0.39950\n",
      "1\n",
      "[0]\tvalidation_0-mlogloss:1.09385\n"
     ]
    },
    {
     "name": "stderr",
     "output_type": "stream",
     "text": [
      "/var/folders/wj/gwqv8kfj18317lgnlmf6zypw0000gn/T/ipykernel_1406/184723262.py:10: FutureWarning: suggest_loguniform has been deprecated in v3.0.0. This feature will be removed in v6.0.0. See https://github.com/optuna/optuna/releases/tag/v3.0.0. Use suggest_float(..., log=True) instead.\n",
      "  'lambda': trial.suggest_loguniform('lambda', 1e-3, 10.0),\n",
      "/var/folders/wj/gwqv8kfj18317lgnlmf6zypw0000gn/T/ipykernel_1406/184723262.py:11: FutureWarning: suggest_loguniform has been deprecated in v3.0.0. This feature will be removed in v6.0.0. See https://github.com/optuna/optuna/releases/tag/v3.0.0. Use suggest_float(..., log=True) instead.\n",
      "  'alpha': trial.suggest_loguniform('alpha', 1e-3, 10.0),\n",
      "/Users/kennethleung/opt/anaconda3/lib/python3.9/site-packages/xgboost/sklearn.py:885: UserWarning: `early_stopping_rounds` in `fit` method is deprecated for better compatibility with scikit-learn, use `early_stopping_rounds` in constructor or`set_params` instead.\n",
      "  warnings.warn(\n"
     ]
    },
    {
     "name": "stdout",
     "output_type": "stream",
     "text": [
      "[499]\tvalidation_0-mlogloss:0.57926\n",
      "1\n",
      "[0]\tvalidation_0-mlogloss:1.09336\n"
     ]
    },
    {
     "name": "stderr",
     "output_type": "stream",
     "text": [
      "/var/folders/wj/gwqv8kfj18317lgnlmf6zypw0000gn/T/ipykernel_1406/184723262.py:10: FutureWarning: suggest_loguniform has been deprecated in v3.0.0. This feature will be removed in v6.0.0. See https://github.com/optuna/optuna/releases/tag/v3.0.0. Use suggest_float(..., log=True) instead.\n",
      "  'lambda': trial.suggest_loguniform('lambda', 1e-3, 10.0),\n",
      "/var/folders/wj/gwqv8kfj18317lgnlmf6zypw0000gn/T/ipykernel_1406/184723262.py:11: FutureWarning: suggest_loguniform has been deprecated in v3.0.0. This feature will be removed in v6.0.0. See https://github.com/optuna/optuna/releases/tag/v3.0.0. Use suggest_float(..., log=True) instead.\n",
      "  'alpha': trial.suggest_loguniform('alpha', 1e-3, 10.0),\n",
      "/Users/kennethleung/opt/anaconda3/lib/python3.9/site-packages/xgboost/sklearn.py:885: UserWarning: `early_stopping_rounds` in `fit` method is deprecated for better compatibility with scikit-learn, use `early_stopping_rounds` in constructor or`set_params` instead.\n",
      "  warnings.warn(\n"
     ]
    },
    {
     "name": "stdout",
     "output_type": "stream",
     "text": [
      "[500]\tvalidation_0-mlogloss:0.52442\n",
      "[1000]\tvalidation_0-mlogloss:0.49541\n",
      "[1500]\tvalidation_0-mlogloss:0.48536\n",
      "[2000]\tvalidation_0-mlogloss:0.47981\n",
      "[2500]\tvalidation_0-mlogloss:0.47573\n",
      "[2999]\tvalidation_0-mlogloss:0.47232\n",
      "1\n",
      "[0]\tvalidation_0-mlogloss:1.08563\n"
     ]
    },
    {
     "name": "stderr",
     "output_type": "stream",
     "text": [
      "/var/folders/wj/gwqv8kfj18317lgnlmf6zypw0000gn/T/ipykernel_1406/184723262.py:10: FutureWarning: suggest_loguniform has been deprecated in v3.0.0. This feature will be removed in v6.0.0. See https://github.com/optuna/optuna/releases/tag/v3.0.0. Use suggest_float(..., log=True) instead.\n",
      "  'lambda': trial.suggest_loguniform('lambda', 1e-3, 10.0),\n",
      "/var/folders/wj/gwqv8kfj18317lgnlmf6zypw0000gn/T/ipykernel_1406/184723262.py:11: FutureWarning: suggest_loguniform has been deprecated in v3.0.0. This feature will be removed in v6.0.0. See https://github.com/optuna/optuna/releases/tag/v3.0.0. Use suggest_float(..., log=True) instead.\n",
      "  'alpha': trial.suggest_loguniform('alpha', 1e-3, 10.0),\n",
      "/Users/kennethleung/opt/anaconda3/lib/python3.9/site-packages/xgboost/sklearn.py:885: UserWarning: `early_stopping_rounds` in `fit` method is deprecated for better compatibility with scikit-learn, use `early_stopping_rounds` in constructor or`set_params` instead.\n",
      "  warnings.warn(\n"
     ]
    },
    {
     "name": "stdout",
     "output_type": "stream",
     "text": [
      "[499]\tvalidation_0-mlogloss:0.52042\n",
      "1\n",
      "[0]\tvalidation_0-mlogloss:1.08832\n"
     ]
    },
    {
     "name": "stderr",
     "output_type": "stream",
     "text": [
      "/var/folders/wj/gwqv8kfj18317lgnlmf6zypw0000gn/T/ipykernel_1406/184723262.py:10: FutureWarning: suggest_loguniform has been deprecated in v3.0.0. This feature will be removed in v6.0.0. See https://github.com/optuna/optuna/releases/tag/v3.0.0. Use suggest_float(..., log=True) instead.\n",
      "  'lambda': trial.suggest_loguniform('lambda', 1e-3, 10.0),\n",
      "/var/folders/wj/gwqv8kfj18317lgnlmf6zypw0000gn/T/ipykernel_1406/184723262.py:11: FutureWarning: suggest_loguniform has been deprecated in v3.0.0. This feature will be removed in v6.0.0. See https://github.com/optuna/optuna/releases/tag/v3.0.0. Use suggest_float(..., log=True) instead.\n",
      "  'alpha': trial.suggest_loguniform('alpha', 1e-3, 10.0),\n",
      "/Users/kennethleung/opt/anaconda3/lib/python3.9/site-packages/xgboost/sklearn.py:885: UserWarning: `early_stopping_rounds` in `fit` method is deprecated for better compatibility with scikit-learn, use `early_stopping_rounds` in constructor or`set_params` instead.\n",
      "  warnings.warn(\n"
     ]
    },
    {
     "name": "stdout",
     "output_type": "stream",
     "text": [
      "[500]\tvalidation_0-mlogloss:0.51879\n",
      "[1000]\tvalidation_0-mlogloss:0.50333\n",
      "[1500]\tvalidation_0-mlogloss:0.49522\n",
      "[2000]\tvalidation_0-mlogloss:0.48961\n",
      "[2500]\tvalidation_0-mlogloss:0.48537\n",
      "[3000]\tvalidation_0-mlogloss:0.48187\n",
      "[3500]\tvalidation_0-mlogloss:0.47897\n",
      "[3999]\tvalidation_0-mlogloss:0.47644\n",
      "1\n",
      "[0]\tvalidation_0-mlogloss:1.08595\n"
     ]
    },
    {
     "name": "stderr",
     "output_type": "stream",
     "text": [
      "/var/folders/wj/gwqv8kfj18317lgnlmf6zypw0000gn/T/ipykernel_1406/184723262.py:10: FutureWarning: suggest_loguniform has been deprecated in v3.0.0. This feature will be removed in v6.0.0. See https://github.com/optuna/optuna/releases/tag/v3.0.0. Use suggest_float(..., log=True) instead.\n",
      "  'lambda': trial.suggest_loguniform('lambda', 1e-3, 10.0),\n",
      "/var/folders/wj/gwqv8kfj18317lgnlmf6zypw0000gn/T/ipykernel_1406/184723262.py:11: FutureWarning: suggest_loguniform has been deprecated in v3.0.0. This feature will be removed in v6.0.0. See https://github.com/optuna/optuna/releases/tag/v3.0.0. Use suggest_float(..., log=True) instead.\n",
      "  'alpha': trial.suggest_loguniform('alpha', 1e-3, 10.0),\n",
      "/Users/kennethleung/opt/anaconda3/lib/python3.9/site-packages/xgboost/sklearn.py:885: UserWarning: `early_stopping_rounds` in `fit` method is deprecated for better compatibility with scikit-learn, use `early_stopping_rounds` in constructor or`set_params` instead.\n",
      "  warnings.warn(\n"
     ]
    },
    {
     "name": "stdout",
     "output_type": "stream",
     "text": [
      "[500]\tvalidation_0-mlogloss:0.50225\n",
      "[1000]\tvalidation_0-mlogloss:0.48739\n",
      "[1500]\tvalidation_0-mlogloss:0.47992\n",
      "[2000]\tvalidation_0-mlogloss:0.47466\n",
      "[2500]\tvalidation_0-mlogloss:0.47072\n",
      "[3000]\tvalidation_0-mlogloss:0.46737\n",
      "[3500]\tvalidation_0-mlogloss:0.46452\n",
      "[4000]\tvalidation_0-mlogloss:0.46193\n",
      "[4500]\tvalidation_0-mlogloss:0.45983\n",
      "[4999]\tvalidation_0-mlogloss:0.45781\n",
      "1\n",
      "[0]\tvalidation_0-mlogloss:1.09465\n"
     ]
    },
    {
     "name": "stderr",
     "output_type": "stream",
     "text": [
      "/var/folders/wj/gwqv8kfj18317lgnlmf6zypw0000gn/T/ipykernel_1406/184723262.py:10: FutureWarning: suggest_loguniform has been deprecated in v3.0.0. This feature will be removed in v6.0.0. See https://github.com/optuna/optuna/releases/tag/v3.0.0. Use suggest_float(..., log=True) instead.\n",
      "  'lambda': trial.suggest_loguniform('lambda', 1e-3, 10.0),\n",
      "/var/folders/wj/gwqv8kfj18317lgnlmf6zypw0000gn/T/ipykernel_1406/184723262.py:11: FutureWarning: suggest_loguniform has been deprecated in v3.0.0. This feature will be removed in v6.0.0. See https://github.com/optuna/optuna/releases/tag/v3.0.0. Use suggest_float(..., log=True) instead.\n",
      "  'alpha': trial.suggest_loguniform('alpha', 1e-3, 10.0),\n",
      "/Users/kennethleung/opt/anaconda3/lib/python3.9/site-packages/xgboost/sklearn.py:885: UserWarning: `early_stopping_rounds` in `fit` method is deprecated for better compatibility with scikit-learn, use `early_stopping_rounds` in constructor or`set_params` instead.\n",
      "  warnings.warn(\n"
     ]
    },
    {
     "name": "stdout",
     "output_type": "stream",
     "text": [
      "[500]\tvalidation_0-mlogloss:0.54680\n",
      "[1000]\tvalidation_0-mlogloss:0.52256\n",
      "[1500]\tvalidation_0-mlogloss:0.51399\n",
      "[2000]\tvalidation_0-mlogloss:0.50864\n",
      "[2500]\tvalidation_0-mlogloss:0.50479\n",
      "[3000]\tvalidation_0-mlogloss:0.50195\n",
      "[3499]\tvalidation_0-mlogloss:0.49950\n",
      "1\n"
     ]
    },
    {
     "name": "stderr",
     "output_type": "stream",
     "text": [
      "/var/folders/wj/gwqv8kfj18317lgnlmf6zypw0000gn/T/ipykernel_1406/184723262.py:10: FutureWarning: suggest_loguniform has been deprecated in v3.0.0. This feature will be removed in v6.0.0. See https://github.com/optuna/optuna/releases/tag/v3.0.0. Use suggest_float(..., log=True) instead.\n",
      "  'lambda': trial.suggest_loguniform('lambda', 1e-3, 10.0),\n",
      "/var/folders/wj/gwqv8kfj18317lgnlmf6zypw0000gn/T/ipykernel_1406/184723262.py:11: FutureWarning: suggest_loguniform has been deprecated in v3.0.0. This feature will be removed in v6.0.0. See https://github.com/optuna/optuna/releases/tag/v3.0.0. Use suggest_float(..., log=True) instead.\n",
      "  'alpha': trial.suggest_loguniform('alpha', 1e-3, 10.0),\n",
      "/Users/kennethleung/opt/anaconda3/lib/python3.9/site-packages/xgboost/sklearn.py:885: UserWarning: `early_stopping_rounds` in `fit` method is deprecated for better compatibility with scikit-learn, use `early_stopping_rounds` in constructor or`set_params` instead.\n",
      "  warnings.warn(\n"
     ]
    },
    {
     "name": "stdout",
     "output_type": "stream",
     "text": [
      "[0]\tvalidation_0-mlogloss:1.08808\n",
      "[500]\tvalidation_0-mlogloss:0.50629\n",
      "[1000]\tvalidation_0-mlogloss:0.49269\n",
      "[1499]\tvalidation_0-mlogloss:0.48583\n",
      "1\n",
      "[0]\tvalidation_0-mlogloss:1.09133\n"
     ]
    },
    {
     "name": "stderr",
     "output_type": "stream",
     "text": [
      "/var/folders/wj/gwqv8kfj18317lgnlmf6zypw0000gn/T/ipykernel_1406/184723262.py:10: FutureWarning: suggest_loguniform has been deprecated in v3.0.0. This feature will be removed in v6.0.0. See https://github.com/optuna/optuna/releases/tag/v3.0.0. Use suggest_float(..., log=True) instead.\n",
      "  'lambda': trial.suggest_loguniform('lambda', 1e-3, 10.0),\n",
      "/var/folders/wj/gwqv8kfj18317lgnlmf6zypw0000gn/T/ipykernel_1406/184723262.py:11: FutureWarning: suggest_loguniform has been deprecated in v3.0.0. This feature will be removed in v6.0.0. See https://github.com/optuna/optuna/releases/tag/v3.0.0. Use suggest_float(..., log=True) instead.\n",
      "  'alpha': trial.suggest_loguniform('alpha', 1e-3, 10.0),\n",
      "/Users/kennethleung/opt/anaconda3/lib/python3.9/site-packages/xgboost/sklearn.py:885: UserWarning: `early_stopping_rounds` in `fit` method is deprecated for better compatibility with scikit-learn, use `early_stopping_rounds` in constructor or`set_params` instead.\n",
      "  warnings.warn(\n"
     ]
    },
    {
     "name": "stdout",
     "output_type": "stream",
     "text": [
      "[500]\tvalidation_0-mlogloss:0.51560\n",
      "[1000]\tvalidation_0-mlogloss:0.49508\n",
      "[1499]\tvalidation_0-mlogloss:0.48622\n",
      "1\n",
      "[0]\tvalidation_0-mlogloss:1.08666\n"
     ]
    },
    {
     "name": "stderr",
     "output_type": "stream",
     "text": [
      "/var/folders/wj/gwqv8kfj18317lgnlmf6zypw0000gn/T/ipykernel_1406/184723262.py:10: FutureWarning: suggest_loguniform has been deprecated in v3.0.0. This feature will be removed in v6.0.0. See https://github.com/optuna/optuna/releases/tag/v3.0.0. Use suggest_float(..., log=True) instead.\n",
      "  'lambda': trial.suggest_loguniform('lambda', 1e-3, 10.0),\n",
      "/var/folders/wj/gwqv8kfj18317lgnlmf6zypw0000gn/T/ipykernel_1406/184723262.py:11: FutureWarning: suggest_loguniform has been deprecated in v3.0.0. This feature will be removed in v6.0.0. See https://github.com/optuna/optuna/releases/tag/v3.0.0. Use suggest_float(..., log=True) instead.\n",
      "  'alpha': trial.suggest_loguniform('alpha', 1e-3, 10.0),\n",
      "/Users/kennethleung/opt/anaconda3/lib/python3.9/site-packages/xgboost/sklearn.py:885: UserWarning: `early_stopping_rounds` in `fit` method is deprecated for better compatibility with scikit-learn, use `early_stopping_rounds` in constructor or`set_params` instead.\n",
      "  warnings.warn(\n"
     ]
    },
    {
     "name": "stdout",
     "output_type": "stream",
     "text": [
      "[500]\tvalidation_0-mlogloss:0.49800\n",
      "[1000]\tvalidation_0-mlogloss:0.48158\n",
      "[1500]\tvalidation_0-mlogloss:0.47282\n",
      "[2000]\tvalidation_0-mlogloss:0.46665\n",
      "[2500]\tvalidation_0-mlogloss:0.46181\n",
      "[3000]\tvalidation_0-mlogloss:0.45782\n",
      "[3500]\tvalidation_0-mlogloss:0.45444\n",
      "[3999]\tvalidation_0-mlogloss:0.45151\n",
      "1\n",
      "[0]\tvalidation_0-mlogloss:1.09455\n"
     ]
    },
    {
     "name": "stderr",
     "output_type": "stream",
     "text": [
      "/var/folders/wj/gwqv8kfj18317lgnlmf6zypw0000gn/T/ipykernel_1406/184723262.py:10: FutureWarning: suggest_loguniform has been deprecated in v3.0.0. This feature will be removed in v6.0.0. See https://github.com/optuna/optuna/releases/tag/v3.0.0. Use suggest_float(..., log=True) instead.\n",
      "  'lambda': trial.suggest_loguniform('lambda', 1e-3, 10.0),\n",
      "/var/folders/wj/gwqv8kfj18317lgnlmf6zypw0000gn/T/ipykernel_1406/184723262.py:11: FutureWarning: suggest_loguniform has been deprecated in v3.0.0. This feature will be removed in v6.0.0. See https://github.com/optuna/optuna/releases/tag/v3.0.0. Use suggest_float(..., log=True) instead.\n",
      "  'alpha': trial.suggest_loguniform('alpha', 1e-3, 10.0),\n",
      "/Users/kennethleung/opt/anaconda3/lib/python3.9/site-packages/xgboost/sklearn.py:885: UserWarning: `early_stopping_rounds` in `fit` method is deprecated for better compatibility with scikit-learn, use `early_stopping_rounds` in constructor or`set_params` instead.\n",
      "  warnings.warn(\n"
     ]
    },
    {
     "name": "stdout",
     "output_type": "stream",
     "text": [
      "[500]\tvalidation_0-mlogloss:0.51921\n",
      "[1000]\tvalidation_0-mlogloss:0.48781\n",
      "[1499]\tvalidation_0-mlogloss:0.47695\n",
      "1\n",
      "[0]\tvalidation_0-mlogloss:1.09329\n"
     ]
    },
    {
     "name": "stderr",
     "output_type": "stream",
     "text": [
      "/var/folders/wj/gwqv8kfj18317lgnlmf6zypw0000gn/T/ipykernel_1406/184723262.py:10: FutureWarning: suggest_loguniform has been deprecated in v3.0.0. This feature will be removed in v6.0.0. See https://github.com/optuna/optuna/releases/tag/v3.0.0. Use suggest_float(..., log=True) instead.\n",
      "  'lambda': trial.suggest_loguniform('lambda', 1e-3, 10.0),\n",
      "/var/folders/wj/gwqv8kfj18317lgnlmf6zypw0000gn/T/ipykernel_1406/184723262.py:11: FutureWarning: suggest_loguniform has been deprecated in v3.0.0. This feature will be removed in v6.0.0. See https://github.com/optuna/optuna/releases/tag/v3.0.0. Use suggest_float(..., log=True) instead.\n",
      "  'alpha': trial.suggest_loguniform('alpha', 1e-3, 10.0),\n",
      "/Users/kennethleung/opt/anaconda3/lib/python3.9/site-packages/xgboost/sklearn.py:885: UserWarning: `early_stopping_rounds` in `fit` method is deprecated for better compatibility with scikit-learn, use `early_stopping_rounds` in constructor or`set_params` instead.\n",
      "  warnings.warn(\n"
     ]
    },
    {
     "name": "stdout",
     "output_type": "stream",
     "text": [
      "[500]\tvalidation_0-mlogloss:0.56936\n",
      "[1000]\tvalidation_0-mlogloss:0.53753\n",
      "[1500]\tvalidation_0-mlogloss:0.52905\n",
      "[2000]\tvalidation_0-mlogloss:0.52467\n",
      "[2500]\tvalidation_0-mlogloss:0.52148\n",
      "[3000]\tvalidation_0-mlogloss:0.51887\n",
      "[3500]\tvalidation_0-mlogloss:0.51658\n",
      "[3999]\tvalidation_0-mlogloss:0.51461\n",
      "1\n",
      "[0]\tvalidation_0-mlogloss:1.09518\n"
     ]
    },
    {
     "name": "stderr",
     "output_type": "stream",
     "text": [
      "/var/folders/wj/gwqv8kfj18317lgnlmf6zypw0000gn/T/ipykernel_1406/184723262.py:10: FutureWarning: suggest_loguniform has been deprecated in v3.0.0. This feature will be removed in v6.0.0. See https://github.com/optuna/optuna/releases/tag/v3.0.0. Use suggest_float(..., log=True) instead.\n",
      "  'lambda': trial.suggest_loguniform('lambda', 1e-3, 10.0),\n",
      "/var/folders/wj/gwqv8kfj18317lgnlmf6zypw0000gn/T/ipykernel_1406/184723262.py:11: FutureWarning: suggest_loguniform has been deprecated in v3.0.0. This feature will be removed in v6.0.0. See https://github.com/optuna/optuna/releases/tag/v3.0.0. Use suggest_float(..., log=True) instead.\n",
      "  'alpha': trial.suggest_loguniform('alpha', 1e-3, 10.0),\n",
      "/Users/kennethleung/opt/anaconda3/lib/python3.9/site-packages/xgboost/sklearn.py:885: UserWarning: `early_stopping_rounds` in `fit` method is deprecated for better compatibility with scikit-learn, use `early_stopping_rounds` in constructor or`set_params` instead.\n",
      "  warnings.warn(\n"
     ]
    },
    {
     "name": "stdout",
     "output_type": "stream",
     "text": [
      "[500]\tvalidation_0-mlogloss:0.55508\n",
      "[1000]\tvalidation_0-mlogloss:0.52606\n",
      "[1500]\tvalidation_0-mlogloss:0.51660\n",
      "[2000]\tvalidation_0-mlogloss:0.51072\n",
      "[2500]\tvalidation_0-mlogloss:0.50659\n",
      "[2999]\tvalidation_0-mlogloss:0.50361\n",
      "1\n",
      "[0]\tvalidation_0-mlogloss:1.08402\n"
     ]
    },
    {
     "name": "stderr",
     "output_type": "stream",
     "text": [
      "/var/folders/wj/gwqv8kfj18317lgnlmf6zypw0000gn/T/ipykernel_1406/184723262.py:10: FutureWarning: suggest_loguniform has been deprecated in v3.0.0. This feature will be removed in v6.0.0. See https://github.com/optuna/optuna/releases/tag/v3.0.0. Use suggest_float(..., log=True) instead.\n",
      "  'lambda': trial.suggest_loguniform('lambda', 1e-3, 10.0),\n",
      "/var/folders/wj/gwqv8kfj18317lgnlmf6zypw0000gn/T/ipykernel_1406/184723262.py:11: FutureWarning: suggest_loguniform has been deprecated in v3.0.0. This feature will be removed in v6.0.0. See https://github.com/optuna/optuna/releases/tag/v3.0.0. Use suggest_float(..., log=True) instead.\n",
      "  'alpha': trial.suggest_loguniform('alpha', 1e-3, 10.0),\n",
      "/Users/kennethleung/opt/anaconda3/lib/python3.9/site-packages/xgboost/sklearn.py:885: UserWarning: `early_stopping_rounds` in `fit` method is deprecated for better compatibility with scikit-learn, use `early_stopping_rounds` in constructor or`set_params` instead.\n",
      "  warnings.warn(\n"
     ]
    },
    {
     "name": "stdout",
     "output_type": "stream",
     "text": [
      "[500]\tvalidation_0-mlogloss:0.50961\n",
      "[1000]\tvalidation_0-mlogloss:0.49513\n",
      "[1500]\tvalidation_0-mlogloss:0.48777\n",
      "[2000]\tvalidation_0-mlogloss:0.48266\n",
      "[2499]\tvalidation_0-mlogloss:0.47884\n",
      "1\n",
      "[0]\tvalidation_0-mlogloss:1.09298\n"
     ]
    },
    {
     "name": "stderr",
     "output_type": "stream",
     "text": [
      "/var/folders/wj/gwqv8kfj18317lgnlmf6zypw0000gn/T/ipykernel_1406/184723262.py:10: FutureWarning: suggest_loguniform has been deprecated in v3.0.0. This feature will be removed in v6.0.0. See https://github.com/optuna/optuna/releases/tag/v3.0.0. Use suggest_float(..., log=True) instead.\n",
      "  'lambda': trial.suggest_loguniform('lambda', 1e-3, 10.0),\n",
      "/var/folders/wj/gwqv8kfj18317lgnlmf6zypw0000gn/T/ipykernel_1406/184723262.py:11: FutureWarning: suggest_loguniform has been deprecated in v3.0.0. This feature will be removed in v6.0.0. See https://github.com/optuna/optuna/releases/tag/v3.0.0. Use suggest_float(..., log=True) instead.\n",
      "  'alpha': trial.suggest_loguniform('alpha', 1e-3, 10.0),\n",
      "/Users/kennethleung/opt/anaconda3/lib/python3.9/site-packages/xgboost/sklearn.py:885: UserWarning: `early_stopping_rounds` in `fit` method is deprecated for better compatibility with scikit-learn, use `early_stopping_rounds` in constructor or`set_params` instead.\n",
      "  warnings.warn(\n"
     ]
    },
    {
     "name": "stdout",
     "output_type": "stream",
     "text": [
      "[500]\tvalidation_0-mlogloss:0.52522\n",
      "[999]\tvalidation_0-mlogloss:0.50134\n",
      "1\n",
      "[0]\tvalidation_0-mlogloss:1.09256\n"
     ]
    },
    {
     "name": "stderr",
     "output_type": "stream",
     "text": [
      "/var/folders/wj/gwqv8kfj18317lgnlmf6zypw0000gn/T/ipykernel_1406/184723262.py:10: FutureWarning: suggest_loguniform has been deprecated in v3.0.0. This feature will be removed in v6.0.0. See https://github.com/optuna/optuna/releases/tag/v3.0.0. Use suggest_float(..., log=True) instead.\n",
      "  'lambda': trial.suggest_loguniform('lambda', 1e-3, 10.0),\n",
      "/var/folders/wj/gwqv8kfj18317lgnlmf6zypw0000gn/T/ipykernel_1406/184723262.py:11: FutureWarning: suggest_loguniform has been deprecated in v3.0.0. This feature will be removed in v6.0.0. See https://github.com/optuna/optuna/releases/tag/v3.0.0. Use suggest_float(..., log=True) instead.\n",
      "  'alpha': trial.suggest_loguniform('alpha', 1e-3, 10.0),\n",
      "/Users/kennethleung/opt/anaconda3/lib/python3.9/site-packages/xgboost/sklearn.py:885: UserWarning: `early_stopping_rounds` in `fit` method is deprecated for better compatibility with scikit-learn, use `early_stopping_rounds` in constructor or`set_params` instead.\n",
      "  warnings.warn(\n"
     ]
    },
    {
     "name": "stdout",
     "output_type": "stream",
     "text": [
      "[500]\tvalidation_0-mlogloss:0.51296\n",
      "[1000]\tvalidation_0-mlogloss:0.48213\n",
      "[1500]\tvalidation_0-mlogloss:0.47232\n",
      "[2000]\tvalidation_0-mlogloss:0.46623\n",
      "[2500]\tvalidation_0-mlogloss:0.46131\n",
      "[3000]\tvalidation_0-mlogloss:0.45723\n",
      "[3500]\tvalidation_0-mlogloss:0.45371\n",
      "[4000]\tvalidation_0-mlogloss:0.45041\n",
      "[4499]\tvalidation_0-mlogloss:0.44758\n"
     ]
    }
   ],
   "source": [
    "optuna.logging.set_verbosity(optuna.logging.WARNING)\n",
    "study = optuna.create_study(direction='maximize')\n",
    "study.optimize(objective, n_trials=20, show_progress_bar=True)\n"
   ]
  },
  {
   "cell_type": "code",
   "execution_count": 217,
   "id": "6781e066",
   "metadata": {
    "scrolled": true
   },
   "outputs": [
    {
     "name": "stdout",
     "output_type": "stream",
     "text": [
      "Number of finished trials: 20\n",
      "Best trial: {'lambda': 0.5638673580858264, 'alpha': 0.00882913704049085, 'colsample_bytree': 0.3, 'subsample': 0.8, 'learning_rate': 0.014, 'n_estimators': 4000, 'max_depth': 5, 'random_state': 2020, 'min_child_weight': 166}\n",
      "Best objective value: 0.6281676210211776\n"
     ]
    }
   ],
   "source": [
    "print('Number of finished trials:', len(study.trials))\n",
    "print('Best trial:', study.best_trial.params)\n",
    "print('Best objective value:', study.best_value)"
   ]
  },
  {
   "cell_type": "code",
   "execution_count": 222,
   "id": "20729f20",
   "metadata": {},
   "outputs": [
    {
     "name": "stdout",
     "output_type": "stream",
     "text": [
      "              precision    recall  f1-score   support\n",
      "\n",
      "           0       0.47      0.17      0.25       841\n",
      "           1       0.93      0.96      0.95      1279\n",
      "           2       0.82      0.94      0.88      3555\n",
      "\n",
      "    accuracy                           0.83      5675\n",
      "   macro avg       0.74      0.69      0.69      5675\n",
      "weighted avg       0.80      0.83      0.80      5675\n",
      "\n"
     ]
    }
   ],
   "source": [
    "best_params = {'lambda': 0.5638673580858264, 'alpha': 0.00882913704049085, 'colsample_bytree': 0.3, 'subsample': 0.8, 'learning_rate': 0.014, 'n_estimators': 4000, 'max_depth': 5, 'random_state': 2020, 'min_child_weight': 166}\n",
    "\n",
    "opt_model = xgb.XGBClassifier(**best_params)\n",
    "\n",
    "opt_model.fit(x_train, np.ravel(y_train)) # train tree\n",
    "\n",
    "predict_xgb = opt_model.predict_proba(x_test) # 1st col = pred val, 2nd col = pred prob\n",
    "\n",
    "predict_xgb_prob = pd.DataFrame(predict_xgb,columns = ['Sick','Training', 'Vacation'])\n",
    "\n",
    "prob_preds = pd.concat([predict_xgb_prob, y_test.reset_index(drop=True)],axis=1)\n",
    "\n",
    "prob_preds['y_pred'] = prob_preds.apply(find_max_and_assign,axis=1)\n",
    "\n",
    "\n",
    "print(classification_report(prob_preds[0], prob_preds['y_pred']))"
   ]
  },
  {
   "cell_type": "code",
   "execution_count": null,
   "id": "818805bd",
   "metadata": {},
   "outputs": [],
   "source": [
    "pivot_table(values='call_time', index = 'call_hour', columns='year', aggfunc='sum')\n",
    "year_hour_pivot.head()"
   ]
  },
  {
   "cell_type": "code",
   "execution_count": 251,
   "id": "3f7e1695",
   "metadata": {},
   "outputs": [
    {
     "data": {
      "text/plain": [
       "0        [Vacation]\n",
       "1        [Training]\n",
       "2        [Training]\n",
       "3            [Sick]\n",
       "4        [Vacation]\n",
       "            ...    \n",
       "28369        [Sick]\n",
       "28370    [Vacation]\n",
       "28371    [Vacation]\n",
       "28372    [Vacation]\n",
       "28373    [Vacation]\n",
       "Name: Exception Type, Length: 28374, dtype: object"
      ]
     },
     "execution_count": 251,
     "metadata": {},
     "output_type": "execute_result"
    }
   ],
   "source": [
    "staff_df['Exception Type'].str.split(', ')"
   ]
  },
  {
   "cell_type": "code",
   "execution_count": 255,
   "id": "f5ce6ede",
   "metadata": {},
   "outputs": [
    {
     "data": {
      "text/html": [
       "<div>\n",
       "<style scoped>\n",
       "    .dataframe tbody tr th:only-of-type {\n",
       "        vertical-align: middle;\n",
       "    }\n",
       "\n",
       "    .dataframe tbody tr th {\n",
       "        vertical-align: top;\n",
       "    }\n",
       "\n",
       "    .dataframe thead th {\n",
       "        text-align: right;\n",
       "    }\n",
       "</style>\n",
       "<table border=\"1\" class=\"dataframe\">\n",
       "  <thead>\n",
       "    <tr style=\"text-align: right;\">\n",
       "      <th></th>\n",
       "      <th>Platoon</th>\n",
       "      <th>Officer Badge #</th>\n",
       "      <th>Exception Date</th>\n",
       "      <th>Exception Start Time</th>\n",
       "      <th># of Hours</th>\n",
       "      <th>Exception Type</th>\n",
       "      <th>year</th>\n",
       "      <th>month</th>\n",
       "      <th>day</th>\n",
       "      <th>month_day</th>\n",
       "      <th>hour</th>\n",
       "      <th>shift</th>\n",
       "      <th>season</th>\n",
       "      <th>month_num</th>\n",
       "    </tr>\n",
       "  </thead>\n",
       "  <tbody>\n",
       "    <tr>\n",
       "      <th>0</th>\n",
       "      <td>4 District B Platoon</td>\n",
       "      <td>34260</td>\n",
       "      <td>2020-02-27</td>\n",
       "      <td>07:00:00</td>\n",
       "      <td>12.0</td>\n",
       "      <td>Vacation</td>\n",
       "      <td>2020</td>\n",
       "      <td>Feb</td>\n",
       "      <td>27</td>\n",
       "      <td>Feb-27</td>\n",
       "      <td>7</td>\n",
       "      <td>day</td>\n",
       "      <td>winter</td>\n",
       "      <td>2</td>\n",
       "    </tr>\n",
       "    <tr>\n",
       "      <th>1</th>\n",
       "      <td>4 District B Platoon</td>\n",
       "      <td>34260</td>\n",
       "      <td>2020-02-20</td>\n",
       "      <td>07:00:00</td>\n",
       "      <td>10.0</td>\n",
       "      <td>Training</td>\n",
       "      <td>2020</td>\n",
       "      <td>Feb</td>\n",
       "      <td>20</td>\n",
       "      <td>Feb-20</td>\n",
       "      <td>7</td>\n",
       "      <td>day</td>\n",
       "      <td>winter</td>\n",
       "      <td>2</td>\n",
       "    </tr>\n",
       "    <tr>\n",
       "      <th>2</th>\n",
       "      <td>4 District B Platoon</td>\n",
       "      <td>34260</td>\n",
       "      <td>2020-02-19</td>\n",
       "      <td>07:00:00</td>\n",
       "      <td>10.0</td>\n",
       "      <td>Training</td>\n",
       "      <td>2020</td>\n",
       "      <td>Feb</td>\n",
       "      <td>19</td>\n",
       "      <td>Feb-19</td>\n",
       "      <td>7</td>\n",
       "      <td>day</td>\n",
       "      <td>winter</td>\n",
       "      <td>2</td>\n",
       "    </tr>\n",
       "    <tr>\n",
       "      <th>3</th>\n",
       "      <td>4 District B Platoon</td>\n",
       "      <td>34260</td>\n",
       "      <td>2020-03-07</td>\n",
       "      <td>07:00:00</td>\n",
       "      <td>12.0</td>\n",
       "      <td>Sick</td>\n",
       "      <td>2020</td>\n",
       "      <td>Mar</td>\n",
       "      <td>7</td>\n",
       "      <td>Mar-07</td>\n",
       "      <td>7</td>\n",
       "      <td>day</td>\n",
       "      <td>winter</td>\n",
       "      <td>3</td>\n",
       "    </tr>\n",
       "    <tr>\n",
       "      <th>4</th>\n",
       "      <td>4 District B Platoon</td>\n",
       "      <td>34260</td>\n",
       "      <td>2020-02-28</td>\n",
       "      <td>07:00:00</td>\n",
       "      <td>12.0</td>\n",
       "      <td>Vacation</td>\n",
       "      <td>2020</td>\n",
       "      <td>Feb</td>\n",
       "      <td>28</td>\n",
       "      <td>Feb-28</td>\n",
       "      <td>7</td>\n",
       "      <td>day</td>\n",
       "      <td>winter</td>\n",
       "      <td>2</td>\n",
       "    </tr>\n",
       "  </tbody>\n",
       "</table>\n",
       "</div>"
      ],
      "text/plain": [
       "                Platoon  Officer Badge # Exception Date Exception Start Time  \\\n",
       "0  4 District B Platoon            34260     2020-02-27             07:00:00   \n",
       "1  4 District B Platoon            34260     2020-02-20             07:00:00   \n",
       "2  4 District B Platoon            34260     2020-02-19             07:00:00   \n",
       "3  4 District B Platoon            34260     2020-03-07             07:00:00   \n",
       "4  4 District B Platoon            34260     2020-02-28             07:00:00   \n",
       "\n",
       "   # of Hours Exception Type  year month  day month_day  hour shift  season  \\\n",
       "0        12.0       Vacation  2020   Feb   27    Feb-27     7   day  winter   \n",
       "1        10.0       Training  2020   Feb   20    Feb-20     7   day  winter   \n",
       "2        10.0       Training  2020   Feb   19    Feb-19     7   day  winter   \n",
       "3        12.0           Sick  2020   Mar    7    Mar-07     7   day  winter   \n",
       "4        12.0       Vacation  2020   Feb   28    Feb-28     7   day  winter   \n",
       "\n",
       "   month_num  \n",
       "0          2  \n",
       "1          2  \n",
       "2          2  \n",
       "3          3  \n",
       "4          2  "
      ]
     },
     "execution_count": 255,
     "metadata": {},
     "output_type": "execute_result"
    }
   ],
   "source": [
    "staff_df.head()"
   ]
  },
  {
   "cell_type": "code",
   "execution_count": 293,
   "id": "2329f0a1",
   "metadata": {},
   "outputs": [
    {
     "data": {
      "text/html": [
       "<div>\n",
       "<style scoped>\n",
       "    .dataframe tbody tr th:only-of-type {\n",
       "        vertical-align: middle;\n",
       "    }\n",
       "\n",
       "    .dataframe tbody tr th {\n",
       "        vertical-align: top;\n",
       "    }\n",
       "\n",
       "    .dataframe thead th {\n",
       "        text-align: right;\n",
       "    }\n",
       "</style>\n",
       "<table border=\"1\" class=\"dataframe\">\n",
       "  <thead>\n",
       "    <tr style=\"text-align: right;\">\n",
       "      <th>shift</th>\n",
       "      <th>Exception Date</th>\n",
       "      <th>day shift</th>\n",
       "      <th>evening shift</th>\n",
       "      <th>night shift</th>\n",
       "    </tr>\n",
       "  </thead>\n",
       "  <tbody>\n",
       "    <tr>\n",
       "      <th>0</th>\n",
       "      <td>2020-01-01</td>\n",
       "      <td>8.0</td>\n",
       "      <td>14.0</td>\n",
       "      <td>4.0</td>\n",
       "    </tr>\n",
       "    <tr>\n",
       "      <th>1</th>\n",
       "      <td>2020-01-02</td>\n",
       "      <td>7.0</td>\n",
       "      <td>9.0</td>\n",
       "      <td>2.0</td>\n",
       "    </tr>\n",
       "    <tr>\n",
       "      <th>2</th>\n",
       "      <td>2020-01-03</td>\n",
       "      <td>7.0</td>\n",
       "      <td>11.0</td>\n",
       "      <td>1.0</td>\n",
       "    </tr>\n",
       "    <tr>\n",
       "      <th>3</th>\n",
       "      <td>2020-01-04</td>\n",
       "      <td>2.0</td>\n",
       "      <td>7.0</td>\n",
       "      <td>1.0</td>\n",
       "    </tr>\n",
       "    <tr>\n",
       "      <th>4</th>\n",
       "      <td>2020-01-05</td>\n",
       "      <td>3.0</td>\n",
       "      <td>12.0</td>\n",
       "      <td>1.0</td>\n",
       "    </tr>\n",
       "    <tr>\n",
       "      <th>...</th>\n",
       "      <td>...</td>\n",
       "      <td>...</td>\n",
       "      <td>...</td>\n",
       "      <td>...</td>\n",
       "    </tr>\n",
       "    <tr>\n",
       "      <th>1091</th>\n",
       "      <td>2022-12-27</td>\n",
       "      <td>3.0</td>\n",
       "      <td>13.0</td>\n",
       "      <td>11.0</td>\n",
       "    </tr>\n",
       "    <tr>\n",
       "      <th>1092</th>\n",
       "      <td>2022-12-28</td>\n",
       "      <td>4.0</td>\n",
       "      <td>16.0</td>\n",
       "      <td>7.0</td>\n",
       "    </tr>\n",
       "    <tr>\n",
       "      <th>1093</th>\n",
       "      <td>2022-12-29</td>\n",
       "      <td>12.0</td>\n",
       "      <td>13.0</td>\n",
       "      <td>7.0</td>\n",
       "    </tr>\n",
       "    <tr>\n",
       "      <th>1094</th>\n",
       "      <td>2022-12-30</td>\n",
       "      <td>6.0</td>\n",
       "      <td>17.0</td>\n",
       "      <td>12.0</td>\n",
       "    </tr>\n",
       "    <tr>\n",
       "      <th>1095</th>\n",
       "      <td>2022-12-31</td>\n",
       "      <td>10.0</td>\n",
       "      <td>15.0</td>\n",
       "      <td>7.0</td>\n",
       "    </tr>\n",
       "  </tbody>\n",
       "</table>\n",
       "<p>1096 rows × 4 columns</p>\n",
       "</div>"
      ],
      "text/plain": [
       "shift Exception Date  day shift  evening shift  night shift\n",
       "0         2020-01-01        8.0           14.0          4.0\n",
       "1         2020-01-02        7.0            9.0          2.0\n",
       "2         2020-01-03        7.0           11.0          1.0\n",
       "3         2020-01-04        2.0            7.0          1.0\n",
       "4         2020-01-05        3.0           12.0          1.0\n",
       "...              ...        ...            ...          ...\n",
       "1091      2022-12-27        3.0           13.0         11.0\n",
       "1092      2022-12-28        4.0           16.0          7.0\n",
       "1093      2022-12-29       12.0           13.0          7.0\n",
       "1094      2022-12-30        6.0           17.0         12.0\n",
       "1095      2022-12-31       10.0           15.0          7.0\n",
       "\n",
       "[1096 rows x 4 columns]"
      ]
     },
     "execution_count": 293,
     "metadata": {},
     "output_type": "execute_result"
    }
   ],
   "source": [
    "staff_df['shift']= staff_df['Exception Start Time'].apply(lambda x: shifts(int(x[:2])))\n",
    "date_shift = staff_df.groupby(['Exception Date', 'shift']).count().reset_index()[['Exception Date', 'shift','Platoon']]\n",
    "date_shift =date_shift.rename(columns={'Platoon':'shift_count'})\n",
    "date_shift_pivot=date_shift.pivot_table(index='Exception Date', columns='shift', values='shift_count')\n",
    "date_shift_pivot = date_shift_pivot.reset_index()\n",
    "date_shift_pivot"
   ]
  },
  {
   "cell_type": "code",
   "execution_count": 336,
   "id": "97702cf3",
   "metadata": {},
   "outputs": [
    {
     "data": {
      "text/plain": [
       "Index(['Platoon', 'Officer Badge #', 'Exception Date', 'Exception Start Time',\n",
       "       '# of Hours', 'Exception Type', 'year', 'month', 'day', 'month_day',\n",
       "       'hour', 'shift', 'season', 'month_num', 'call_hour'],\n",
       "      dtype='object')"
      ]
     },
     "execution_count": 336,
     "metadata": {},
     "output_type": "execute_result"
    }
   ],
   "source": [
    "staff_df.columns"
   ]
  },
  {
   "cell_type": "code",
   "execution_count": null,
   "id": "5e8573d3",
   "metadata": {},
   "outputs": [],
   "source": []
  },
  {
   "cell_type": "code",
   "execution_count": 337,
   "id": "37b9357d",
   "metadata": {},
   "outputs": [
    {
     "ename": "ValueError",
     "evalue": "Index contains duplicate entries, cannot reshape",
     "output_type": "error",
     "traceback": [
      "\u001b[0;31m---------------------------------------------------------------------------\u001b[0m",
      "\u001b[0;31mValueError\u001b[0m                                Traceback (most recent call last)",
      "\u001b[0;32m/var/folders/wj/gwqv8kfj18317lgnlmf6zypw0000gn/T/ipykernel_1406/2686676236.py\u001b[0m in \u001b[0;36m<cell line: 1>\u001b[0;34m()\u001b[0m\n\u001b[0;32m----> 1\u001b[0;31m staff_df.pivot(index=['# of Hours', 'year', 'month', 'day', 'month_day',\n\u001b[0m\u001b[1;32m      2\u001b[0m        'hour', 'shift', 'season', 'month_num', 'call_hour'], \n\u001b[1;32m      3\u001b[0m                columns='Exception Type')\n",
      "\u001b[0;32m~/opt/anaconda3/lib/python3.9/site-packages/pandas/core/frame.py\u001b[0m in \u001b[0;36mpivot\u001b[0;34m(self, columns, index, values)\u001b[0m\n\u001b[1;32m   9023\u001b[0m         \u001b[0;32mfrom\u001b[0m \u001b[0mpandas\u001b[0m\u001b[0;34m.\u001b[0m\u001b[0mcore\u001b[0m\u001b[0;34m.\u001b[0m\u001b[0mreshape\u001b[0m\u001b[0;34m.\u001b[0m\u001b[0mpivot\u001b[0m \u001b[0;32mimport\u001b[0m \u001b[0mpivot\u001b[0m\u001b[0;34m\u001b[0m\u001b[0;34m\u001b[0m\u001b[0m\n\u001b[1;32m   9024\u001b[0m \u001b[0;34m\u001b[0m\u001b[0m\n\u001b[0;32m-> 9025\u001b[0;31m         \u001b[0;32mreturn\u001b[0m \u001b[0mpivot\u001b[0m\u001b[0;34m(\u001b[0m\u001b[0mself\u001b[0m\u001b[0;34m,\u001b[0m \u001b[0mindex\u001b[0m\u001b[0;34m=\u001b[0m\u001b[0mindex\u001b[0m\u001b[0;34m,\u001b[0m \u001b[0mcolumns\u001b[0m\u001b[0;34m=\u001b[0m\u001b[0mcolumns\u001b[0m\u001b[0;34m,\u001b[0m \u001b[0mvalues\u001b[0m\u001b[0;34m=\u001b[0m\u001b[0mvalues\u001b[0m\u001b[0;34m)\u001b[0m\u001b[0;34m\u001b[0m\u001b[0;34m\u001b[0m\u001b[0m\n\u001b[0m\u001b[1;32m   9026\u001b[0m \u001b[0;34m\u001b[0m\u001b[0m\n\u001b[1;32m   9027\u001b[0m     _shared_docs[\n",
      "\u001b[0;32m~/opt/anaconda3/lib/python3.9/site-packages/pandas/core/reshape/pivot.py\u001b[0m in \u001b[0;36mpivot\u001b[0;34m(data, columns, index, values)\u001b[0m\n\u001b[1;32m    551\u001b[0m     \u001b[0;31m# [List[Any], ExtensionArray, ndarray[Any, Any], Index, Series]\"; expected\u001b[0m\u001b[0;34m\u001b[0m\u001b[0;34m\u001b[0m\u001b[0m\n\u001b[1;32m    552\u001b[0m     \u001b[0;31m# \"Hashable\"\u001b[0m\u001b[0;34m\u001b[0m\u001b[0;34m\u001b[0m\u001b[0m\n\u001b[0;32m--> 553\u001b[0;31m     \u001b[0mresult\u001b[0m \u001b[0;34m=\u001b[0m \u001b[0mindexed\u001b[0m\u001b[0;34m.\u001b[0m\u001b[0munstack\u001b[0m\u001b[0;34m(\u001b[0m\u001b[0mcolumns_listlike\u001b[0m\u001b[0;34m)\u001b[0m  \u001b[0;31m# type: ignore[arg-type]\u001b[0m\u001b[0;34m\u001b[0m\u001b[0;34m\u001b[0m\u001b[0m\n\u001b[0m\u001b[1;32m    554\u001b[0m     result.index.names = [\n\u001b[1;32m    555\u001b[0m         \u001b[0mname\u001b[0m \u001b[0;32mif\u001b[0m \u001b[0mname\u001b[0m \u001b[0;32mis\u001b[0m \u001b[0;32mnot\u001b[0m \u001b[0mlib\u001b[0m\u001b[0;34m.\u001b[0m\u001b[0mno_default\u001b[0m \u001b[0;32melse\u001b[0m \u001b[0;32mNone\u001b[0m \u001b[0;32mfor\u001b[0m \u001b[0mname\u001b[0m \u001b[0;32min\u001b[0m \u001b[0mresult\u001b[0m\u001b[0;34m.\u001b[0m\u001b[0mindex\u001b[0m\u001b[0;34m.\u001b[0m\u001b[0mnames\u001b[0m\u001b[0;34m\u001b[0m\u001b[0;34m\u001b[0m\u001b[0m\n",
      "\u001b[0;32m~/opt/anaconda3/lib/python3.9/site-packages/pandas/core/frame.py\u001b[0m in \u001b[0;36munstack\u001b[0;34m(self, level, fill_value, sort)\u001b[0m\n\u001b[1;32m   9620\u001b[0m         \u001b[0;32mfrom\u001b[0m \u001b[0mpandas\u001b[0m\u001b[0;34m.\u001b[0m\u001b[0mcore\u001b[0m\u001b[0;34m.\u001b[0m\u001b[0mreshape\u001b[0m\u001b[0;34m.\u001b[0m\u001b[0mreshape\u001b[0m \u001b[0;32mimport\u001b[0m \u001b[0munstack\u001b[0m\u001b[0;34m\u001b[0m\u001b[0;34m\u001b[0m\u001b[0m\n\u001b[1;32m   9621\u001b[0m \u001b[0;34m\u001b[0m\u001b[0m\n\u001b[0;32m-> 9622\u001b[0;31m         \u001b[0mresult\u001b[0m \u001b[0;34m=\u001b[0m \u001b[0munstack\u001b[0m\u001b[0;34m(\u001b[0m\u001b[0mself\u001b[0m\u001b[0;34m,\u001b[0m \u001b[0mlevel\u001b[0m\u001b[0;34m,\u001b[0m \u001b[0mfill_value\u001b[0m\u001b[0;34m,\u001b[0m \u001b[0msort\u001b[0m\u001b[0;34m)\u001b[0m\u001b[0;34m\u001b[0m\u001b[0;34m\u001b[0m\u001b[0m\n\u001b[0m\u001b[1;32m   9623\u001b[0m \u001b[0;34m\u001b[0m\u001b[0m\n\u001b[1;32m   9624\u001b[0m         \u001b[0;32mreturn\u001b[0m \u001b[0mresult\u001b[0m\u001b[0;34m.\u001b[0m\u001b[0m__finalize__\u001b[0m\u001b[0;34m(\u001b[0m\u001b[0mself\u001b[0m\u001b[0;34m,\u001b[0m \u001b[0mmethod\u001b[0m\u001b[0;34m=\u001b[0m\u001b[0;34m\"unstack\"\u001b[0m\u001b[0;34m)\u001b[0m\u001b[0;34m\u001b[0m\u001b[0;34m\u001b[0m\u001b[0m\n",
      "\u001b[0;32m~/opt/anaconda3/lib/python3.9/site-packages/pandas/core/reshape/reshape.py\u001b[0m in \u001b[0;36munstack\u001b[0;34m(obj, level, fill_value, sort)\u001b[0m\n\u001b[1;32m    502\u001b[0m     \u001b[0;32mif\u001b[0m \u001b[0misinstance\u001b[0m\u001b[0;34m(\u001b[0m\u001b[0mobj\u001b[0m\u001b[0;34m,\u001b[0m \u001b[0mDataFrame\u001b[0m\u001b[0;34m)\u001b[0m\u001b[0;34m:\u001b[0m\u001b[0;34m\u001b[0m\u001b[0;34m\u001b[0m\u001b[0m\n\u001b[1;32m    503\u001b[0m         \u001b[0;32mif\u001b[0m \u001b[0misinstance\u001b[0m\u001b[0;34m(\u001b[0m\u001b[0mobj\u001b[0m\u001b[0;34m.\u001b[0m\u001b[0mindex\u001b[0m\u001b[0;34m,\u001b[0m \u001b[0mMultiIndex\u001b[0m\u001b[0;34m)\u001b[0m\u001b[0;34m:\u001b[0m\u001b[0;34m\u001b[0m\u001b[0;34m\u001b[0m\u001b[0m\n\u001b[0;32m--> 504\u001b[0;31m             \u001b[0;32mreturn\u001b[0m \u001b[0m_unstack_frame\u001b[0m\u001b[0;34m(\u001b[0m\u001b[0mobj\u001b[0m\u001b[0;34m,\u001b[0m \u001b[0mlevel\u001b[0m\u001b[0;34m,\u001b[0m \u001b[0mfill_value\u001b[0m\u001b[0;34m=\u001b[0m\u001b[0mfill_value\u001b[0m\u001b[0;34m,\u001b[0m \u001b[0msort\u001b[0m\u001b[0;34m=\u001b[0m\u001b[0msort\u001b[0m\u001b[0;34m)\u001b[0m\u001b[0;34m\u001b[0m\u001b[0;34m\u001b[0m\u001b[0m\n\u001b[0m\u001b[1;32m    505\u001b[0m         \u001b[0;32melse\u001b[0m\u001b[0;34m:\u001b[0m\u001b[0;34m\u001b[0m\u001b[0;34m\u001b[0m\u001b[0m\n\u001b[1;32m    506\u001b[0m             \u001b[0;32mreturn\u001b[0m \u001b[0mobj\u001b[0m\u001b[0;34m.\u001b[0m\u001b[0mT\u001b[0m\u001b[0;34m.\u001b[0m\u001b[0mstack\u001b[0m\u001b[0;34m(\u001b[0m\u001b[0mfuture_stack\u001b[0m\u001b[0;34m=\u001b[0m\u001b[0;32mTrue\u001b[0m\u001b[0;34m)\u001b[0m\u001b[0;34m\u001b[0m\u001b[0;34m\u001b[0m\u001b[0m\n",
      "\u001b[0;32m~/opt/anaconda3/lib/python3.9/site-packages/pandas/core/reshape/reshape.py\u001b[0m in \u001b[0;36m_unstack_frame\u001b[0;34m(obj, level, fill_value, sort)\u001b[0m\n\u001b[1;32m    527\u001b[0m ) -> DataFrame:\n\u001b[1;32m    528\u001b[0m     \u001b[0;32massert\u001b[0m \u001b[0misinstance\u001b[0m\u001b[0;34m(\u001b[0m\u001b[0mobj\u001b[0m\u001b[0;34m.\u001b[0m\u001b[0mindex\u001b[0m\u001b[0;34m,\u001b[0m \u001b[0mMultiIndex\u001b[0m\u001b[0;34m)\u001b[0m  \u001b[0;31m# checked by caller\u001b[0m\u001b[0;34m\u001b[0m\u001b[0;34m\u001b[0m\u001b[0m\n\u001b[0;32m--> 529\u001b[0;31m     unstacker = _Unstacker(\n\u001b[0m\u001b[1;32m    530\u001b[0m         \u001b[0mobj\u001b[0m\u001b[0;34m.\u001b[0m\u001b[0mindex\u001b[0m\u001b[0;34m,\u001b[0m \u001b[0mlevel\u001b[0m\u001b[0;34m=\u001b[0m\u001b[0mlevel\u001b[0m\u001b[0;34m,\u001b[0m \u001b[0mconstructor\u001b[0m\u001b[0;34m=\u001b[0m\u001b[0mobj\u001b[0m\u001b[0;34m.\u001b[0m\u001b[0m_constructor\u001b[0m\u001b[0;34m,\u001b[0m \u001b[0msort\u001b[0m\u001b[0;34m=\u001b[0m\u001b[0msort\u001b[0m\u001b[0;34m\u001b[0m\u001b[0;34m\u001b[0m\u001b[0m\n\u001b[1;32m    531\u001b[0m     )\n",
      "\u001b[0;32m~/opt/anaconda3/lib/python3.9/site-packages/pandas/core/reshape/reshape.py\u001b[0m in \u001b[0;36m__init__\u001b[0;34m(self, index, level, constructor, sort)\u001b[0m\n\u001b[1;32m    152\u001b[0m             )\n\u001b[1;32m    153\u001b[0m \u001b[0;34m\u001b[0m\u001b[0m\n\u001b[0;32m--> 154\u001b[0;31m         \u001b[0mself\u001b[0m\u001b[0;34m.\u001b[0m\u001b[0m_make_selectors\u001b[0m\u001b[0;34m(\u001b[0m\u001b[0;34m)\u001b[0m\u001b[0;34m\u001b[0m\u001b[0;34m\u001b[0m\u001b[0m\n\u001b[0m\u001b[1;32m    155\u001b[0m \u001b[0;34m\u001b[0m\u001b[0m\n\u001b[1;32m    156\u001b[0m     \u001b[0;34m@\u001b[0m\u001b[0mcache_readonly\u001b[0m\u001b[0;34m\u001b[0m\u001b[0;34m\u001b[0m\u001b[0m\n",
      "\u001b[0;32m~/opt/anaconda3/lib/python3.9/site-packages/pandas/core/reshape/reshape.py\u001b[0m in \u001b[0;36m_make_selectors\u001b[0;34m(self)\u001b[0m\n\u001b[1;32m    208\u001b[0m \u001b[0;34m\u001b[0m\u001b[0m\n\u001b[1;32m    209\u001b[0m         \u001b[0;32mif\u001b[0m \u001b[0mmask\u001b[0m\u001b[0;34m.\u001b[0m\u001b[0msum\u001b[0m\u001b[0;34m(\u001b[0m\u001b[0;34m)\u001b[0m \u001b[0;34m<\u001b[0m \u001b[0mlen\u001b[0m\u001b[0;34m(\u001b[0m\u001b[0mself\u001b[0m\u001b[0;34m.\u001b[0m\u001b[0mindex\u001b[0m\u001b[0;34m)\u001b[0m\u001b[0;34m:\u001b[0m\u001b[0;34m\u001b[0m\u001b[0;34m\u001b[0m\u001b[0m\n\u001b[0;32m--> 210\u001b[0;31m             \u001b[0;32mraise\u001b[0m \u001b[0mValueError\u001b[0m\u001b[0;34m(\u001b[0m\u001b[0;34m\"Index contains duplicate entries, cannot reshape\"\u001b[0m\u001b[0;34m)\u001b[0m\u001b[0;34m\u001b[0m\u001b[0;34m\u001b[0m\u001b[0m\n\u001b[0m\u001b[1;32m    211\u001b[0m \u001b[0;34m\u001b[0m\u001b[0m\n\u001b[1;32m    212\u001b[0m         \u001b[0mself\u001b[0m\u001b[0;34m.\u001b[0m\u001b[0mgroup_index\u001b[0m \u001b[0;34m=\u001b[0m \u001b[0mcomp_index\u001b[0m\u001b[0;34m\u001b[0m\u001b[0;34m\u001b[0m\u001b[0m\n",
      "\u001b[0;31mValueError\u001b[0m: Index contains duplicate entries, cannot reshape"
     ]
    }
   ],
   "source": [
    "staff_df.pivot(index=['# of Hours', 'year', 'month', 'day', 'month_day',\n",
    "       'hour', 'shift', 'season', 'month_num', 'call_hour'], \n",
    "               columns='Exception Type')"
   ]
  },
  {
   "cell_type": "code",
   "execution_count": 340,
   "id": "f149b97d",
   "metadata": {},
   "outputs": [
    {
     "data": {
      "text/html": [
       "<div>\n",
       "<style scoped>\n",
       "    .dataframe tbody tr th:only-of-type {\n",
       "        vertical-align: middle;\n",
       "    }\n",
       "\n",
       "    .dataframe tbody tr th {\n",
       "        vertical-align: top;\n",
       "    }\n",
       "\n",
       "    .dataframe thead th {\n",
       "        text-align: right;\n",
       "    }\n",
       "</style>\n",
       "<table border=\"1\" class=\"dataframe\">\n",
       "  <thead>\n",
       "    <tr style=\"text-align: right;\">\n",
       "      <th></th>\n",
       "      <th>Platoon</th>\n",
       "      <th>Officer Badge #</th>\n",
       "      <th>Exception Date</th>\n",
       "      <th>Exception Start Time</th>\n",
       "      <th># of Hours</th>\n",
       "      <th>Exception Type</th>\n",
       "      <th>year</th>\n",
       "      <th>month</th>\n",
       "      <th>day</th>\n",
       "      <th>month_day</th>\n",
       "      <th>hour</th>\n",
       "      <th>shift</th>\n",
       "      <th>season</th>\n",
       "      <th>month_num</th>\n",
       "      <th>call_hour</th>\n",
       "    </tr>\n",
       "  </thead>\n",
       "  <tbody>\n",
       "    <tr>\n",
       "      <th>0</th>\n",
       "      <td>4 District B Platoon</td>\n",
       "      <td>34260</td>\n",
       "      <td>2020-02-27</td>\n",
       "      <td>07:00:00</td>\n",
       "      <td>12.0</td>\n",
       "      <td>Vacation</td>\n",
       "      <td>2020</td>\n",
       "      <td>2</td>\n",
       "      <td>27</td>\n",
       "      <td>Feb-27</td>\n",
       "      <td>7</td>\n",
       "      <td>day shift</td>\n",
       "      <td>winter</td>\n",
       "      <td>2</td>\n",
       "      <td>7</td>\n",
       "    </tr>\n",
       "    <tr>\n",
       "      <th>1</th>\n",
       "      <td>4 District B Platoon</td>\n",
       "      <td>34260</td>\n",
       "      <td>2020-02-20</td>\n",
       "      <td>07:00:00</td>\n",
       "      <td>10.0</td>\n",
       "      <td>Training</td>\n",
       "      <td>2020</td>\n",
       "      <td>2</td>\n",
       "      <td>20</td>\n",
       "      <td>Feb-20</td>\n",
       "      <td>7</td>\n",
       "      <td>day shift</td>\n",
       "      <td>winter</td>\n",
       "      <td>2</td>\n",
       "      <td>7</td>\n",
       "    </tr>\n",
       "    <tr>\n",
       "      <th>2</th>\n",
       "      <td>4 District B Platoon</td>\n",
       "      <td>34260</td>\n",
       "      <td>2020-02-19</td>\n",
       "      <td>07:00:00</td>\n",
       "      <td>10.0</td>\n",
       "      <td>Training</td>\n",
       "      <td>2020</td>\n",
       "      <td>2</td>\n",
       "      <td>19</td>\n",
       "      <td>Feb-19</td>\n",
       "      <td>7</td>\n",
       "      <td>day shift</td>\n",
       "      <td>winter</td>\n",
       "      <td>2</td>\n",
       "      <td>7</td>\n",
       "    </tr>\n",
       "    <tr>\n",
       "      <th>3</th>\n",
       "      <td>4 District B Platoon</td>\n",
       "      <td>34260</td>\n",
       "      <td>2020-03-07</td>\n",
       "      <td>07:00:00</td>\n",
       "      <td>12.0</td>\n",
       "      <td>Sick</td>\n",
       "      <td>2020</td>\n",
       "      <td>2</td>\n",
       "      <td>7</td>\n",
       "      <td>Mar-07</td>\n",
       "      <td>7</td>\n",
       "      <td>day shift</td>\n",
       "      <td>winter</td>\n",
       "      <td>3</td>\n",
       "      <td>7</td>\n",
       "    </tr>\n",
       "    <tr>\n",
       "      <th>4</th>\n",
       "      <td>4 District B Platoon</td>\n",
       "      <td>34260</td>\n",
       "      <td>2020-02-28</td>\n",
       "      <td>07:00:00</td>\n",
       "      <td>12.0</td>\n",
       "      <td>Vacation</td>\n",
       "      <td>2020</td>\n",
       "      <td>2</td>\n",
       "      <td>28</td>\n",
       "      <td>Feb-28</td>\n",
       "      <td>7</td>\n",
       "      <td>day shift</td>\n",
       "      <td>winter</td>\n",
       "      <td>2</td>\n",
       "      <td>7</td>\n",
       "    </tr>\n",
       "  </tbody>\n",
       "</table>\n",
       "</div>"
      ],
      "text/plain": [
       "                Platoon  Officer Badge # Exception Date Exception Start Time  \\\n",
       "0  4 District B Platoon            34260     2020-02-27             07:00:00   \n",
       "1  4 District B Platoon            34260     2020-02-20             07:00:00   \n",
       "2  4 District B Platoon            34260     2020-02-19             07:00:00   \n",
       "3  4 District B Platoon            34260     2020-03-07             07:00:00   \n",
       "4  4 District B Platoon            34260     2020-02-28             07:00:00   \n",
       "\n",
       "   # of Hours Exception Type  year  month  day month_day  hour      shift  \\\n",
       "0        12.0       Vacation  2020      2   27    Feb-27     7  day shift   \n",
       "1        10.0       Training  2020      2   20    Feb-20     7  day shift   \n",
       "2        10.0       Training  2020      2   19    Feb-19     7  day shift   \n",
       "3        12.0           Sick  2020      2    7    Mar-07     7  day shift   \n",
       "4        12.0       Vacation  2020      2   28    Feb-28     7  day shift   \n",
       "\n",
       "   season  month_num  call_hour  \n",
       "0  winter          2          7  \n",
       "1  winter          2          7  \n",
       "2  winter          2          7  \n",
       "3  winter          3          7  \n",
       "4  winter          2          7  "
      ]
     },
     "execution_count": 340,
     "metadata": {},
     "output_type": "execute_result"
    }
   ],
   "source": [
    "staff_df['shift']= staff_df['Exception Start Time'].apply(lambda x: shifts(int(x[:2])))\n",
    "staff_df['season'] = staff_df['Exception Date'].apply(seasonality)\n",
    "staff_df['month'] = staff_df['Exception Date'].apply(lambda x: int(x[:5:7]))\n",
    "staff_df['day'] = staff_df['Exception Date'].apply(lambda x: int(x[-2:]))\n",
    "staff_df['call_hour'] = staff_df['Exception Start Time'].apply(lambda x: int(x[:2]))\n",
    "staff_df.head()"
   ]
  },
  {
   "cell_type": "code",
   "execution_count": 345,
   "id": "4ccbc18f",
   "metadata": {
    "scrolled": true
   },
   "outputs": [],
   "source": [
    "df = staff_df.copy()\n",
    "# Pivot table for 'Exception Type'\n",
    "exception_pivot = df.pivot_table(index='Exception Date', columns='Exception Type', values='# of Hours', aggfunc='sum', fill_value=0)\n",
    "\n",
    "# Pivot table for 'Shift'\n",
    "shift_pivot = df.pivot_table(index='Exception Date', columns='shift', aggfunc='size', fill_value=0)\n",
    "\n",
    "# Aggregate other necessary columns by 'Exception Date'\n",
    "agg_df = df.groupby('Exception Date').agg({\n",
    "    'month': 'first',\n",
    "    'day': 'first',\n",
    "    '# of Hours': 'sum',  # Summing the '# of Hours'\n",
    "    'shift': pd.Series.nunique  # Counting distinct shift types\n",
    "}).rename(columns={'shift': 'Number of Shift Types'})\n",
    "\n",
    "# Merge the pivot tables with the aggregated DataFrame\n",
    "final_df = pd.merge(agg_df, exception_pivot, left_on='Exception Date', right_index=True)\n",
    "final_df = pd.merge(final_df, shift_pivot, left_on='Exception Date', right_index=True)\n"
   ]
  },
  {
   "cell_type": "code",
   "execution_count": 354,
   "id": "0844f696",
   "metadata": {},
   "outputs": [],
   "source": [
    "def replace_outliers(df, columns):\n",
    "    \n",
    "    for col in columns:\n",
    "\n",
    "        # Calculate Q1 and Q3\n",
    "        Q1 = df[col].quantile(0.25)\n",
    "        Q3 = df[col].quantile(0.75)\n",
    "\n",
    "        # Calculate IQR\n",
    "        IQR = Q3 - Q1\n",
    "\n",
    "        # Define Outlier Thresholds\n",
    "        lower_bound = Q1 - 1.5 * IQR\n",
    "        upper_bound = Q3 + 1.5 * IQR\n",
    "\n",
    "        # Identifying outliers\n",
    "        outliers = df[(df[col] < lower_bound) | (df[col] > upper_bound)]\n",
    "\n",
    "        df[col] = df[col].apply(lambda x: lower_bound if x < lower_bound else (upper_bound if x > upper_bound else x))\n",
    "\n",
    "    return df"
   ]
  },
  {
   "cell_type": "code",
   "execution_count": 355,
   "id": "d4880578",
   "metadata": {},
   "outputs": [
    {
     "name": "stdout",
     "output_type": "stream",
     "text": [
      "Index(['month', 'day', '# of Hours', 'Number of Shift Types', 'Sick',\n",
      "       'Training', 'Vacation', 'day shift', 'evening shift', 'night shift'],\n",
      "      dtype='object')\n"
     ]
    },
    {
     "data": {
      "text/html": [
       "<div>\n",
       "<style scoped>\n",
       "    .dataframe tbody tr th:only-of-type {\n",
       "        vertical-align: middle;\n",
       "    }\n",
       "\n",
       "    .dataframe tbody tr th {\n",
       "        vertical-align: top;\n",
       "    }\n",
       "\n",
       "    .dataframe thead th {\n",
       "        text-align: right;\n",
       "    }\n",
       "</style>\n",
       "<table border=\"1\" class=\"dataframe\">\n",
       "  <thead>\n",
       "    <tr style=\"text-align: right;\">\n",
       "      <th></th>\n",
       "      <th>month</th>\n",
       "      <th>day</th>\n",
       "      <th># of Hours</th>\n",
       "      <th>Number of Shift Types</th>\n",
       "      <th>Sick</th>\n",
       "      <th>Training</th>\n",
       "      <th>Vacation</th>\n",
       "      <th>day shift</th>\n",
       "      <th>evening shift</th>\n",
       "      <th>night shift</th>\n",
       "    </tr>\n",
       "    <tr>\n",
       "      <th>Exception Date</th>\n",
       "      <th></th>\n",
       "      <th></th>\n",
       "      <th></th>\n",
       "      <th></th>\n",
       "      <th></th>\n",
       "      <th></th>\n",
       "      <th></th>\n",
       "      <th></th>\n",
       "      <th></th>\n",
       "      <th></th>\n",
       "    </tr>\n",
       "  </thead>\n",
       "  <tbody>\n",
       "    <tr>\n",
       "      <th>2020-01-01</th>\n",
       "      <td>2</td>\n",
       "      <td>1</td>\n",
       "      <td>298.5</td>\n",
       "      <td>3</td>\n",
       "      <td>24.0</td>\n",
       "      <td>0.0</td>\n",
       "      <td>274.5</td>\n",
       "      <td>8</td>\n",
       "      <td>14</td>\n",
       "      <td>4</td>\n",
       "    </tr>\n",
       "    <tr>\n",
       "      <th>2020-01-02</th>\n",
       "      <td>2</td>\n",
       "      <td>2</td>\n",
       "      <td>191.0</td>\n",
       "      <td>3</td>\n",
       "      <td>24.0</td>\n",
       "      <td>30.0</td>\n",
       "      <td>137.0</td>\n",
       "      <td>7</td>\n",
       "      <td>9</td>\n",
       "      <td>2</td>\n",
       "    </tr>\n",
       "    <tr>\n",
       "      <th>2020-01-03</th>\n",
       "      <td>2</td>\n",
       "      <td>3</td>\n",
       "      <td>213.0</td>\n",
       "      <td>3</td>\n",
       "      <td>48.0</td>\n",
       "      <td>30.0</td>\n",
       "      <td>135.0</td>\n",
       "      <td>7</td>\n",
       "      <td>11</td>\n",
       "      <td>1</td>\n",
       "    </tr>\n",
       "    <tr>\n",
       "      <th>2020-01-04</th>\n",
       "      <td>2</td>\n",
       "      <td>4</td>\n",
       "      <td>98.0</td>\n",
       "      <td>3</td>\n",
       "      <td>12.0</td>\n",
       "      <td>20.0</td>\n",
       "      <td>66.0</td>\n",
       "      <td>2</td>\n",
       "      <td>7</td>\n",
       "      <td>1</td>\n",
       "    </tr>\n",
       "    <tr>\n",
       "      <th>2020-01-05</th>\n",
       "      <td>2</td>\n",
       "      <td>5</td>\n",
       "      <td>178.0</td>\n",
       "      <td>3</td>\n",
       "      <td>38.0</td>\n",
       "      <td>20.0</td>\n",
       "      <td>120.0</td>\n",
       "      <td>3</td>\n",
       "      <td>12</td>\n",
       "      <td>1</td>\n",
       "    </tr>\n",
       "  </tbody>\n",
       "</table>\n",
       "</div>"
      ],
      "text/plain": [
       "                month  day  # of Hours  Number of Shift Types  Sick  Training  \\\n",
       "Exception Date                                                                  \n",
       "2020-01-01          2    1       298.5                      3  24.0       0.0   \n",
       "2020-01-02          2    2       191.0                      3  24.0      30.0   \n",
       "2020-01-03          2    3       213.0                      3  48.0      30.0   \n",
       "2020-01-04          2    4        98.0                      3  12.0      20.0   \n",
       "2020-01-05          2    5       178.0                      3  38.0      20.0   \n",
       "\n",
       "                Vacation  day shift  evening shift  night shift  \n",
       "Exception Date                                                   \n",
       "2020-01-01         274.5          8             14            4  \n",
       "2020-01-02         137.0          7              9            2  \n",
       "2020-01-03         135.0          7             11            1  \n",
       "2020-01-04          66.0          2              7            1  \n",
       "2020-01-05         120.0          3             12            1  "
      ]
     },
     "execution_count": 355,
     "metadata": {},
     "output_type": "execute_result"
    }
   ],
   "source": [
    "print(final_df.columns)\n",
    "final_df.head()"
   ]
  },
  {
   "cell_type": "code",
   "execution_count": 356,
   "id": "2507ab4d",
   "metadata": {
    "scrolled": true
   },
   "outputs": [
    {
     "data": {
      "text/plain": [
       "month                      int64\n",
       "day                        int64\n",
       "# of Hours               float64\n",
       "Number of Shift Types      int64\n",
       "Sick                     float64\n",
       "Training                 float64\n",
       "Vacation                 float64\n",
       "day shift                  int64\n",
       "evening shift              int64\n",
       "night shift                int64\n",
       "dtype: object"
      ]
     },
     "execution_count": 356,
     "metadata": {},
     "output_type": "execute_result"
    }
   ],
   "source": [
    "final_df.dtypes"
   ]
  },
  {
   "cell_type": "code",
   "execution_count": 397,
   "id": "b0290a31",
   "metadata": {},
   "outputs": [
    {
     "data": {
      "text/html": [
       "<div>\n",
       "<style scoped>\n",
       "    .dataframe tbody tr th:only-of-type {\n",
       "        vertical-align: middle;\n",
       "    }\n",
       "\n",
       "    .dataframe tbody tr th {\n",
       "        vertical-align: top;\n",
       "    }\n",
       "\n",
       "    .dataframe thead th {\n",
       "        text-align: right;\n",
       "    }\n",
       "</style>\n",
       "<table border=\"1\" class=\"dataframe\">\n",
       "  <thead>\n",
       "    <tr style=\"text-align: right;\">\n",
       "      <th></th>\n",
       "      <th>month</th>\n",
       "      <th>day</th>\n",
       "      <th># of Hours</th>\n",
       "      <th>Number of Shift Types</th>\n",
       "      <th>Sick</th>\n",
       "      <th>Training</th>\n",
       "      <th>Vacation</th>\n",
       "      <th>day shift</th>\n",
       "      <th>evening shift</th>\n",
       "      <th>night shift</th>\n",
       "    </tr>\n",
       "    <tr>\n",
       "      <th>Exception Date</th>\n",
       "      <th></th>\n",
       "      <th></th>\n",
       "      <th></th>\n",
       "      <th></th>\n",
       "      <th></th>\n",
       "      <th></th>\n",
       "      <th></th>\n",
       "      <th></th>\n",
       "      <th></th>\n",
       "      <th></th>\n",
       "    </tr>\n",
       "  </thead>\n",
       "  <tbody>\n",
       "    <tr>\n",
       "      <th>2020-01-01</th>\n",
       "      <td>2</td>\n",
       "      <td>1</td>\n",
       "      <td>298.5</td>\n",
       "      <td>3</td>\n",
       "      <td>24.0</td>\n",
       "      <td>0.0</td>\n",
       "      <td>274.5</td>\n",
       "      <td>8</td>\n",
       "      <td>14</td>\n",
       "      <td>4</td>\n",
       "    </tr>\n",
       "    <tr>\n",
       "      <th>2020-01-02</th>\n",
       "      <td>2</td>\n",
       "      <td>2</td>\n",
       "      <td>191.0</td>\n",
       "      <td>3</td>\n",
       "      <td>24.0</td>\n",
       "      <td>30.0</td>\n",
       "      <td>137.0</td>\n",
       "      <td>7</td>\n",
       "      <td>9</td>\n",
       "      <td>2</td>\n",
       "    </tr>\n",
       "    <tr>\n",
       "      <th>2020-01-03</th>\n",
       "      <td>2</td>\n",
       "      <td>3</td>\n",
       "      <td>213.0</td>\n",
       "      <td>3</td>\n",
       "      <td>48.0</td>\n",
       "      <td>30.0</td>\n",
       "      <td>135.0</td>\n",
       "      <td>7</td>\n",
       "      <td>11</td>\n",
       "      <td>1</td>\n",
       "    </tr>\n",
       "    <tr>\n",
       "      <th>2020-01-04</th>\n",
       "      <td>2</td>\n",
       "      <td>4</td>\n",
       "      <td>98.0</td>\n",
       "      <td>3</td>\n",
       "      <td>12.0</td>\n",
       "      <td>20.0</td>\n",
       "      <td>66.0</td>\n",
       "      <td>2</td>\n",
       "      <td>7</td>\n",
       "      <td>1</td>\n",
       "    </tr>\n",
       "    <tr>\n",
       "      <th>2020-01-05</th>\n",
       "      <td>2</td>\n",
       "      <td>5</td>\n",
       "      <td>178.0</td>\n",
       "      <td>3</td>\n",
       "      <td>38.0</td>\n",
       "      <td>20.0</td>\n",
       "      <td>120.0</td>\n",
       "      <td>3</td>\n",
       "      <td>12</td>\n",
       "      <td>1</td>\n",
       "    </tr>\n",
       "  </tbody>\n",
       "</table>\n",
       "</div>"
      ],
      "text/plain": [
       "                month  day  # of Hours  Number of Shift Types  Sick  Training  \\\n",
       "Exception Date                                                                  \n",
       "2020-01-01          2    1       298.5                      3  24.0       0.0   \n",
       "2020-01-02          2    2       191.0                      3  24.0      30.0   \n",
       "2020-01-03          2    3       213.0                      3  48.0      30.0   \n",
       "2020-01-04          2    4        98.0                      3  12.0      20.0   \n",
       "2020-01-05          2    5       178.0                      3  38.0      20.0   \n",
       "\n",
       "                Vacation  day shift  evening shift  night shift  \n",
       "Exception Date                                                   \n",
       "2020-01-01         274.5          8             14            4  \n",
       "2020-01-02         137.0          7              9            2  \n",
       "2020-01-03         135.0          7             11            1  \n",
       "2020-01-04          66.0          2              7            1  \n",
       "2020-01-05         120.0          3             12            1  "
      ]
     },
     "execution_count": 397,
     "metadata": {},
     "output_type": "execute_result"
    }
   ],
   "source": [
    "final_df.head()"
   ]
  },
  {
   "cell_type": "code",
   "execution_count": 361,
   "id": "15db5fdd",
   "metadata": {},
   "outputs": [],
   "source": [
    "final_df = replace_outliers(final_df,['Sick', 'Training', 'Vacation'])\n",
    "\n",
    "df = final_df.copy()\n",
    "\n",
    "\n",
    "\n",
    "X = df[['month', 'day', '# of Hours', \n",
    "        'Number of Shift Types', 'day shift',\n",
    "        'evening shift', 'night shift']]\n",
    "\n",
    "target = ['Sick', 'Training', 'Vacation']\n",
    "\n",
    "Y= df[target]\n",
    "\n",
    "y_std = Y.std()\n",
    "y_mean = Y.mean()\n",
    "\n",
    "\n",
    "x_train, x_test, y_train, y_test = model_selection.train_test_split(\n",
    "    X, Y, \n",
    "    random_state=888, \n",
    "    test_size=0.20)"
   ]
  },
  {
   "cell_type": "code",
   "execution_count": 362,
   "id": "634a70d2",
   "metadata": {},
   "outputs": [
    {
     "data": {
      "text/plain": [
       "Sick         41.256786\n",
       "Training     43.986770\n",
       "Vacation    175.938526\n",
       "dtype: float64"
      ]
     },
     "execution_count": 362,
     "metadata": {},
     "output_type": "execute_result"
    }
   ],
   "source": [
    "y_mean"
   ]
  },
  {
   "cell_type": "code",
   "execution_count": 366,
   "id": "d97729f2",
   "metadata": {},
   "outputs": [],
   "source": [
    "def objective(trial, X_data = X, Y_data = Y):\n",
    "    print(1)\n",
    "    x_train, x_test, y_train, y_test = model_selection.train_test_split(\n",
    "        X_data, Y_data, random_state= 888, test_size = 0.20)\n",
    "    \n",
    "    # params copied from notebook\n",
    "    param = {\n",
    "        'tree_method':'hist',  # this parameter means using the GPU when training our model to speedup the training process\n",
    "        'device' : \"cuda\",\n",
    "        'lambda': trial.suggest_loguniform('lambda', 1e-3, 10.0),\n",
    "        'alpha': trial.suggest_loguniform('alpha', 1e-3, 10.0),\n",
    "        'colsample_bytree': trial.suggest_categorical('colsample_bytree', [0.3,0.4,0.5,0.6,0.7,0.8,0.9, 1.0]),\n",
    "        'subsample': trial.suggest_categorical('subsample', [0.4,0.5,0.6,0.7,0.8,1.0]),\n",
    "        'learning_rate': trial.suggest_categorical('learning_rate', [0.001,0.01,0.02,0.3, 0.05,0.07,0.10,0.15,0.2]),\n",
    "        'n_estimators': trial.suggest_int('n_estimators', 500, 5000, 500),\n",
    "        'max_depth': trial.suggest_categorical('max_depth', [5,7,9,11,13,15,17,20]),\n",
    "        'random_state': trial.suggest_categorical('random_state', [24, 48,2020]),\n",
    "        'min_child_weight': trial.suggest_int('min_child_weight', 1, 300),\n",
    "        \n",
    "    }\n",
    "    \n",
    "    model = xgb.XGBRegressor(**param)  \n",
    "    \n",
    "    model.fit(x_train,y_train,eval_set=[(x_train,y_train)],early_stopping_rounds=100,verbose=500)\n",
    "    \n",
    "    preds = model.predict(x_test)\n",
    "    \n",
    "    rmse = mean_squared_error(y_test, preds,squared=True)\n",
    "    \n",
    "    return rmse"
   ]
  },
  {
   "cell_type": "code",
   "execution_count": 367,
   "id": "a4270504",
   "metadata": {},
   "outputs": [
    {
     "data": {
      "application/vnd.jupyter.widget-view+json": {
       "model_id": "6dd207daaf2b4b91b837f75e5a2685fc",
       "version_major": 2,
       "version_minor": 0
      },
      "text/plain": [
       "  0%|          | 0/50 [00:00<?, ?it/s]"
      ]
     },
     "metadata": {},
     "output_type": "display_data"
    },
    {
     "name": "stdout",
     "output_type": "stream",
     "text": [
      "1\n",
      "[0]\tvalidation_0-rmse:77.87965\n"
     ]
    },
    {
     "name": "stderr",
     "output_type": "stream",
     "text": [
      "/var/folders/wj/gwqv8kfj18317lgnlmf6zypw0000gn/T/ipykernel_1406/616591595.py:10: FutureWarning: suggest_loguniform has been deprecated in v3.0.0. This feature will be removed in v6.0.0. See https://github.com/optuna/optuna/releases/tag/v3.0.0. Use suggest_float(..., log=True) instead.\n",
      "  'lambda': trial.suggest_loguniform('lambda', 1e-3, 10.0),\n",
      "/var/folders/wj/gwqv8kfj18317lgnlmf6zypw0000gn/T/ipykernel_1406/616591595.py:11: FutureWarning: suggest_loguniform has been deprecated in v3.0.0. This feature will be removed in v6.0.0. See https://github.com/optuna/optuna/releases/tag/v3.0.0. Use suggest_float(..., log=True) instead.\n",
      "  'alpha': trial.suggest_loguniform('alpha', 1e-3, 10.0),\n",
      "/Users/kennethleung/opt/anaconda3/lib/python3.9/site-packages/xgboost/sklearn.py:885: UserWarning: `early_stopping_rounds` in `fit` method is deprecated for better compatibility with scikit-learn, use `early_stopping_rounds` in constructor or`set_params` instead.\n",
      "  warnings.warn(\n"
     ]
    },
    {
     "name": "stdout",
     "output_type": "stream",
     "text": [
      "[500]\tvalidation_0-rmse:21.44757\n",
      "[1000]\tvalidation_0-rmse:18.70298\n",
      "[1500]\tvalidation_0-rmse:16.81875\n",
      "[2000]\tvalidation_0-rmse:15.36200\n",
      "[2500]\tvalidation_0-rmse:14.17964\n",
      "[2999]\tvalidation_0-rmse:13.19728\n",
      "1\n",
      "[0]\tvalidation_0-rmse:71.36705\n"
     ]
    },
    {
     "name": "stderr",
     "output_type": "stream",
     "text": [
      "/Users/kennethleung/opt/anaconda3/lib/python3.9/site-packages/sklearn/utils/validation.py:757: FutureWarning: is_sparse is deprecated and will be removed in a future version. Check `isinstance(dtype, pd.SparseDtype)` instead.\n",
      "  if not hasattr(array, \"sparse\") and array.dtypes.apply(is_sparse).any():\n",
      "/Users/kennethleung/opt/anaconda3/lib/python3.9/site-packages/sklearn/utils/validation.py:595: FutureWarning: is_sparse is deprecated and will be removed in a future version. Check `isinstance(dtype, pd.SparseDtype)` instead.\n",
      "  if is_sparse(pd_dtype):\n",
      "/Users/kennethleung/opt/anaconda3/lib/python3.9/site-packages/sklearn/utils/validation.py:604: FutureWarning: is_sparse is deprecated and will be removed in a future version. Check `isinstance(dtype, pd.SparseDtype)` instead.\n",
      "  if is_sparse(pd_dtype) or not is_extension_array_dtype(pd_dtype):\n",
      "/var/folders/wj/gwqv8kfj18317lgnlmf6zypw0000gn/T/ipykernel_1406/616591595.py:10: FutureWarning: suggest_loguniform has been deprecated in v3.0.0. This feature will be removed in v6.0.0. See https://github.com/optuna/optuna/releases/tag/v3.0.0. Use suggest_float(..., log=True) instead.\n",
      "  'lambda': trial.suggest_loguniform('lambda', 1e-3, 10.0),\n",
      "/var/folders/wj/gwqv8kfj18317lgnlmf6zypw0000gn/T/ipykernel_1406/616591595.py:11: FutureWarning: suggest_loguniform has been deprecated in v3.0.0. This feature will be removed in v6.0.0. See https://github.com/optuna/optuna/releases/tag/v3.0.0. Use suggest_float(..., log=True) instead.\n",
      "  'alpha': trial.suggest_loguniform('alpha', 1e-3, 10.0),\n",
      "/Users/kennethleung/opt/anaconda3/lib/python3.9/site-packages/xgboost/sklearn.py:885: UserWarning: `early_stopping_rounds` in `fit` method is deprecated for better compatibility with scikit-learn, use `early_stopping_rounds` in constructor or`set_params` instead.\n",
      "  warnings.warn(\n"
     ]
    },
    {
     "name": "stdout",
     "output_type": "stream",
     "text": [
      "[500]\tvalidation_0-rmse:26.69154\n",
      "[1000]\tvalidation_0-rmse:25.63836\n",
      "[1500]\tvalidation_0-rmse:24.83873\n",
      "[2000]\tvalidation_0-rmse:24.19076\n",
      "[2500]\tvalidation_0-rmse:23.67579\n",
      "[3000]\tvalidation_0-rmse:23.20132\n",
      "[3500]\tvalidation_0-rmse:22.84498\n",
      "[4000]\tvalidation_0-rmse:22.48130\n",
      "[4499]\tvalidation_0-rmse:22.14585\n",
      "1\n",
      "[0]\tvalidation_0-rmse:83.19265\n"
     ]
    },
    {
     "name": "stderr",
     "output_type": "stream",
     "text": [
      "/Users/kennethleung/opt/anaconda3/lib/python3.9/site-packages/sklearn/utils/validation.py:757: FutureWarning: is_sparse is deprecated and will be removed in a future version. Check `isinstance(dtype, pd.SparseDtype)` instead.\n",
      "  if not hasattr(array, \"sparse\") and array.dtypes.apply(is_sparse).any():\n",
      "/Users/kennethleung/opt/anaconda3/lib/python3.9/site-packages/sklearn/utils/validation.py:595: FutureWarning: is_sparse is deprecated and will be removed in a future version. Check `isinstance(dtype, pd.SparseDtype)` instead.\n",
      "  if is_sparse(pd_dtype):\n",
      "/Users/kennethleung/opt/anaconda3/lib/python3.9/site-packages/sklearn/utils/validation.py:604: FutureWarning: is_sparse is deprecated and will be removed in a future version. Check `isinstance(dtype, pd.SparseDtype)` instead.\n",
      "  if is_sparse(pd_dtype) or not is_extension_array_dtype(pd_dtype):\n",
      "/var/folders/wj/gwqv8kfj18317lgnlmf6zypw0000gn/T/ipykernel_1406/616591595.py:10: FutureWarning: suggest_loguniform has been deprecated in v3.0.0. This feature will be removed in v6.0.0. See https://github.com/optuna/optuna/releases/tag/v3.0.0. Use suggest_float(..., log=True) instead.\n",
      "  'lambda': trial.suggest_loguniform('lambda', 1e-3, 10.0),\n",
      "/var/folders/wj/gwqv8kfj18317lgnlmf6zypw0000gn/T/ipykernel_1406/616591595.py:11: FutureWarning: suggest_loguniform has been deprecated in v3.0.0. This feature will be removed in v6.0.0. See https://github.com/optuna/optuna/releases/tag/v3.0.0. Use suggest_float(..., log=True) instead.\n",
      "  'alpha': trial.suggest_loguniform('alpha', 1e-3, 10.0),\n",
      "/Users/kennethleung/opt/anaconda3/lib/python3.9/site-packages/xgboost/sklearn.py:885: UserWarning: `early_stopping_rounds` in `fit` method is deprecated for better compatibility with scikit-learn, use `early_stopping_rounds` in constructor or`set_params` instead.\n",
      "  warnings.warn(\n"
     ]
    },
    {
     "name": "stdout",
     "output_type": "stream",
     "text": [
      "[500]\tvalidation_0-rmse:27.25152\n",
      "[999]\tvalidation_0-rmse:26.32159\n",
      "1\n",
      "[0]\tvalidation_0-rmse:76.24541\n"
     ]
    },
    {
     "name": "stderr",
     "output_type": "stream",
     "text": [
      "/Users/kennethleung/opt/anaconda3/lib/python3.9/site-packages/sklearn/utils/validation.py:757: FutureWarning: is_sparse is deprecated and will be removed in a future version. Check `isinstance(dtype, pd.SparseDtype)` instead.\n",
      "  if not hasattr(array, \"sparse\") and array.dtypes.apply(is_sparse).any():\n",
      "/Users/kennethleung/opt/anaconda3/lib/python3.9/site-packages/sklearn/utils/validation.py:595: FutureWarning: is_sparse is deprecated and will be removed in a future version. Check `isinstance(dtype, pd.SparseDtype)` instead.\n",
      "  if is_sparse(pd_dtype):\n",
      "/Users/kennethleung/opt/anaconda3/lib/python3.9/site-packages/sklearn/utils/validation.py:604: FutureWarning: is_sparse is deprecated and will be removed in a future version. Check `isinstance(dtype, pd.SparseDtype)` instead.\n",
      "  if is_sparse(pd_dtype) or not is_extension_array_dtype(pd_dtype):\n",
      "/var/folders/wj/gwqv8kfj18317lgnlmf6zypw0000gn/T/ipykernel_1406/616591595.py:10: FutureWarning: suggest_loguniform has been deprecated in v3.0.0. This feature will be removed in v6.0.0. See https://github.com/optuna/optuna/releases/tag/v3.0.0. Use suggest_float(..., log=True) instead.\n",
      "  'lambda': trial.suggest_loguniform('lambda', 1e-3, 10.0),\n",
      "/var/folders/wj/gwqv8kfj18317lgnlmf6zypw0000gn/T/ipykernel_1406/616591595.py:11: FutureWarning: suggest_loguniform has been deprecated in v3.0.0. This feature will be removed in v6.0.0. See https://github.com/optuna/optuna/releases/tag/v3.0.0. Use suggest_float(..., log=True) instead.\n",
      "  'alpha': trial.suggest_loguniform('alpha', 1e-3, 10.0),\n",
      "/Users/kennethleung/opt/anaconda3/lib/python3.9/site-packages/xgboost/sklearn.py:885: UserWarning: `early_stopping_rounds` in `fit` method is deprecated for better compatibility with scikit-learn, use `early_stopping_rounds` in constructor or`set_params` instead.\n",
      "  warnings.warn(\n"
     ]
    },
    {
     "name": "stdout",
     "output_type": "stream",
     "text": [
      "[499]\tvalidation_0-rmse:24.24566\n",
      "1\n",
      "[0]\tvalidation_0-rmse:83.70355\n"
     ]
    },
    {
     "name": "stderr",
     "output_type": "stream",
     "text": [
      "/Users/kennethleung/opt/anaconda3/lib/python3.9/site-packages/sklearn/utils/validation.py:757: FutureWarning: is_sparse is deprecated and will be removed in a future version. Check `isinstance(dtype, pd.SparseDtype)` instead.\n",
      "  if not hasattr(array, \"sparse\") and array.dtypes.apply(is_sparse).any():\n",
      "/Users/kennethleung/opt/anaconda3/lib/python3.9/site-packages/sklearn/utils/validation.py:595: FutureWarning: is_sparse is deprecated and will be removed in a future version. Check `isinstance(dtype, pd.SparseDtype)` instead.\n",
      "  if is_sparse(pd_dtype):\n",
      "/Users/kennethleung/opt/anaconda3/lib/python3.9/site-packages/sklearn/utils/validation.py:604: FutureWarning: is_sparse is deprecated and will be removed in a future version. Check `isinstance(dtype, pd.SparseDtype)` instead.\n",
      "  if is_sparse(pd_dtype) or not is_extension_array_dtype(pd_dtype):\n",
      "/var/folders/wj/gwqv8kfj18317lgnlmf6zypw0000gn/T/ipykernel_1406/616591595.py:10: FutureWarning: suggest_loguniform has been deprecated in v3.0.0. This feature will be removed in v6.0.0. See https://github.com/optuna/optuna/releases/tag/v3.0.0. Use suggest_float(..., log=True) instead.\n",
      "  'lambda': trial.suggest_loguniform('lambda', 1e-3, 10.0),\n",
      "/var/folders/wj/gwqv8kfj18317lgnlmf6zypw0000gn/T/ipykernel_1406/616591595.py:11: FutureWarning: suggest_loguniform has been deprecated in v3.0.0. This feature will be removed in v6.0.0. See https://github.com/optuna/optuna/releases/tag/v3.0.0. Use suggest_float(..., log=True) instead.\n",
      "  'alpha': trial.suggest_loguniform('alpha', 1e-3, 10.0),\n",
      "/Users/kennethleung/opt/anaconda3/lib/python3.9/site-packages/xgboost/sklearn.py:885: UserWarning: `early_stopping_rounds` in `fit` method is deprecated for better compatibility with scikit-learn, use `early_stopping_rounds` in constructor or`set_params` instead.\n",
      "  warnings.warn(\n"
     ]
    },
    {
     "name": "stdout",
     "output_type": "stream",
     "text": [
      "[500]\tvalidation_0-rmse:49.73898\n",
      "[999]\tvalidation_0-rmse:46.77540\n",
      "1\n",
      "[0]\tvalidation_0-rmse:78.46434\n"
     ]
    },
    {
     "name": "stderr",
     "output_type": "stream",
     "text": [
      "/Users/kennethleung/opt/anaconda3/lib/python3.9/site-packages/sklearn/utils/validation.py:757: FutureWarning: is_sparse is deprecated and will be removed in a future version. Check `isinstance(dtype, pd.SparseDtype)` instead.\n",
      "  if not hasattr(array, \"sparse\") and array.dtypes.apply(is_sparse).any():\n",
      "/Users/kennethleung/opt/anaconda3/lib/python3.9/site-packages/sklearn/utils/validation.py:595: FutureWarning: is_sparse is deprecated and will be removed in a future version. Check `isinstance(dtype, pd.SparseDtype)` instead.\n",
      "  if is_sparse(pd_dtype):\n",
      "/Users/kennethleung/opt/anaconda3/lib/python3.9/site-packages/sklearn/utils/validation.py:604: FutureWarning: is_sparse is deprecated and will be removed in a future version. Check `isinstance(dtype, pd.SparseDtype)` instead.\n",
      "  if is_sparse(pd_dtype) or not is_extension_array_dtype(pd_dtype):\n",
      "/var/folders/wj/gwqv8kfj18317lgnlmf6zypw0000gn/T/ipykernel_1406/616591595.py:10: FutureWarning: suggest_loguniform has been deprecated in v3.0.0. This feature will be removed in v6.0.0. See https://github.com/optuna/optuna/releases/tag/v3.0.0. Use suggest_float(..., log=True) instead.\n",
      "  'lambda': trial.suggest_loguniform('lambda', 1e-3, 10.0),\n",
      "/var/folders/wj/gwqv8kfj18317lgnlmf6zypw0000gn/T/ipykernel_1406/616591595.py:11: FutureWarning: suggest_loguniform has been deprecated in v3.0.0. This feature will be removed in v6.0.0. See https://github.com/optuna/optuna/releases/tag/v3.0.0. Use suggest_float(..., log=True) instead.\n",
      "  'alpha': trial.suggest_loguniform('alpha', 1e-3, 10.0),\n",
      "/Users/kennethleung/opt/anaconda3/lib/python3.9/site-packages/xgboost/sklearn.py:885: UserWarning: `early_stopping_rounds` in `fit` method is deprecated for better compatibility with scikit-learn, use `early_stopping_rounds` in constructor or`set_params` instead.\n",
      "  warnings.warn(\n"
     ]
    },
    {
     "name": "stdout",
     "output_type": "stream",
     "text": [
      "[500]\tvalidation_0-rmse:34.45203\n",
      "[1000]\tvalidation_0-rmse:34.12561\n",
      "[1500]\tvalidation_0-rmse:33.96165\n",
      "[2000]\tvalidation_0-rmse:33.80546\n",
      "[2500]\tvalidation_0-rmse:33.66531\n",
      "[3000]\tvalidation_0-rmse:33.60181\n",
      "[3500]\tvalidation_0-rmse:33.52883\n",
      "[4000]\tvalidation_0-rmse:33.44415\n",
      "[4500]\tvalidation_0-rmse:33.39749\n",
      "[4999]\tvalidation_0-rmse:33.36116\n",
      "1\n",
      "[0]\tvalidation_0-rmse:72.21066\n"
     ]
    },
    {
     "name": "stderr",
     "output_type": "stream",
     "text": [
      "/Users/kennethleung/opt/anaconda3/lib/python3.9/site-packages/sklearn/utils/validation.py:757: FutureWarning: is_sparse is deprecated and will be removed in a future version. Check `isinstance(dtype, pd.SparseDtype)` instead.\n",
      "  if not hasattr(array, \"sparse\") and array.dtypes.apply(is_sparse).any():\n",
      "/Users/kennethleung/opt/anaconda3/lib/python3.9/site-packages/sklearn/utils/validation.py:595: FutureWarning: is_sparse is deprecated and will be removed in a future version. Check `isinstance(dtype, pd.SparseDtype)` instead.\n",
      "  if is_sparse(pd_dtype):\n",
      "/Users/kennethleung/opt/anaconda3/lib/python3.9/site-packages/sklearn/utils/validation.py:604: FutureWarning: is_sparse is deprecated and will be removed in a future version. Check `isinstance(dtype, pd.SparseDtype)` instead.\n",
      "  if is_sparse(pd_dtype) or not is_extension_array_dtype(pd_dtype):\n",
      "/var/folders/wj/gwqv8kfj18317lgnlmf6zypw0000gn/T/ipykernel_1406/616591595.py:10: FutureWarning: suggest_loguniform has been deprecated in v3.0.0. This feature will be removed in v6.0.0. See https://github.com/optuna/optuna/releases/tag/v3.0.0. Use suggest_float(..., log=True) instead.\n",
      "  'lambda': trial.suggest_loguniform('lambda', 1e-3, 10.0),\n",
      "/var/folders/wj/gwqv8kfj18317lgnlmf6zypw0000gn/T/ipykernel_1406/616591595.py:11: FutureWarning: suggest_loguniform has been deprecated in v3.0.0. This feature will be removed in v6.0.0. See https://github.com/optuna/optuna/releases/tag/v3.0.0. Use suggest_float(..., log=True) instead.\n",
      "  'alpha': trial.suggest_loguniform('alpha', 1e-3, 10.0),\n",
      "/Users/kennethleung/opt/anaconda3/lib/python3.9/site-packages/xgboost/sklearn.py:885: UserWarning: `early_stopping_rounds` in `fit` method is deprecated for better compatibility with scikit-learn, use `early_stopping_rounds` in constructor or`set_params` instead.\n",
      "  warnings.warn(\n"
     ]
    },
    {
     "name": "stdout",
     "output_type": "stream",
     "text": [
      "[500]\tvalidation_0-rmse:43.80332\n",
      "[999]\tvalidation_0-rmse:42.37689\n",
      "1\n",
      "[0]\tvalidation_0-rmse:75.38792\n"
     ]
    },
    {
     "name": "stderr",
     "output_type": "stream",
     "text": [
      "/Users/kennethleung/opt/anaconda3/lib/python3.9/site-packages/sklearn/utils/validation.py:757: FutureWarning: is_sparse is deprecated and will be removed in a future version. Check `isinstance(dtype, pd.SparseDtype)` instead.\n",
      "  if not hasattr(array, \"sparse\") and array.dtypes.apply(is_sparse).any():\n",
      "/Users/kennethleung/opt/anaconda3/lib/python3.9/site-packages/sklearn/utils/validation.py:595: FutureWarning: is_sparse is deprecated and will be removed in a future version. Check `isinstance(dtype, pd.SparseDtype)` instead.\n",
      "  if is_sparse(pd_dtype):\n",
      "/Users/kennethleung/opt/anaconda3/lib/python3.9/site-packages/sklearn/utils/validation.py:604: FutureWarning: is_sparse is deprecated and will be removed in a future version. Check `isinstance(dtype, pd.SparseDtype)` instead.\n",
      "  if is_sparse(pd_dtype) or not is_extension_array_dtype(pd_dtype):\n",
      "/var/folders/wj/gwqv8kfj18317lgnlmf6zypw0000gn/T/ipykernel_1406/616591595.py:10: FutureWarning: suggest_loguniform has been deprecated in v3.0.0. This feature will be removed in v6.0.0. See https://github.com/optuna/optuna/releases/tag/v3.0.0. Use suggest_float(..., log=True) instead.\n",
      "  'lambda': trial.suggest_loguniform('lambda', 1e-3, 10.0),\n",
      "/var/folders/wj/gwqv8kfj18317lgnlmf6zypw0000gn/T/ipykernel_1406/616591595.py:11: FutureWarning: suggest_loguniform has been deprecated in v3.0.0. This feature will be removed in v6.0.0. See https://github.com/optuna/optuna/releases/tag/v3.0.0. Use suggest_float(..., log=True) instead.\n",
      "  'alpha': trial.suggest_loguniform('alpha', 1e-3, 10.0),\n",
      "/Users/kennethleung/opt/anaconda3/lib/python3.9/site-packages/xgboost/sklearn.py:885: UserWarning: `early_stopping_rounds` in `fit` method is deprecated for better compatibility with scikit-learn, use `early_stopping_rounds` in constructor or`set_params` instead.\n",
      "  warnings.warn(\n"
     ]
    },
    {
     "name": "stdout",
     "output_type": "stream",
     "text": [
      "[500]\tvalidation_0-rmse:26.11451\n",
      "[1000]\tvalidation_0-rmse:24.96055\n",
      "[1500]\tvalidation_0-rmse:24.11846\n",
      "[2000]\tvalidation_0-rmse:23.45743\n",
      "[2500]\tvalidation_0-rmse:22.90685\n",
      "[3000]\tvalidation_0-rmse:22.41363\n",
      "[3500]\tvalidation_0-rmse:21.99781\n",
      "[4000]\tvalidation_0-rmse:21.61602\n",
      "[4499]\tvalidation_0-rmse:21.28761\n",
      "1\n",
      "[0]\tvalidation_0-rmse:84.49117\n"
     ]
    },
    {
     "name": "stderr",
     "output_type": "stream",
     "text": [
      "/Users/kennethleung/opt/anaconda3/lib/python3.9/site-packages/sklearn/utils/validation.py:757: FutureWarning: is_sparse is deprecated and will be removed in a future version. Check `isinstance(dtype, pd.SparseDtype)` instead.\n",
      "  if not hasattr(array, \"sparse\") and array.dtypes.apply(is_sparse).any():\n",
      "/Users/kennethleung/opt/anaconda3/lib/python3.9/site-packages/sklearn/utils/validation.py:595: FutureWarning: is_sparse is deprecated and will be removed in a future version. Check `isinstance(dtype, pd.SparseDtype)` instead.\n",
      "  if is_sparse(pd_dtype):\n",
      "/Users/kennethleung/opt/anaconda3/lib/python3.9/site-packages/sklearn/utils/validation.py:604: FutureWarning: is_sparse is deprecated and will be removed in a future version. Check `isinstance(dtype, pd.SparseDtype)` instead.\n",
      "  if is_sparse(pd_dtype) or not is_extension_array_dtype(pd_dtype):\n",
      "/var/folders/wj/gwqv8kfj18317lgnlmf6zypw0000gn/T/ipykernel_1406/616591595.py:10: FutureWarning: suggest_loguniform has been deprecated in v3.0.0. This feature will be removed in v6.0.0. See https://github.com/optuna/optuna/releases/tag/v3.0.0. Use suggest_float(..., log=True) instead.\n",
      "  'lambda': trial.suggest_loguniform('lambda', 1e-3, 10.0),\n",
      "/var/folders/wj/gwqv8kfj18317lgnlmf6zypw0000gn/T/ipykernel_1406/616591595.py:11: FutureWarning: suggest_loguniform has been deprecated in v3.0.0. This feature will be removed in v6.0.0. See https://github.com/optuna/optuna/releases/tag/v3.0.0. Use suggest_float(..., log=True) instead.\n",
      "  'alpha': trial.suggest_loguniform('alpha', 1e-3, 10.0),\n",
      "/Users/kennethleung/opt/anaconda3/lib/python3.9/site-packages/xgboost/sklearn.py:885: UserWarning: `early_stopping_rounds` in `fit` method is deprecated for better compatibility with scikit-learn, use `early_stopping_rounds` in constructor or`set_params` instead.\n",
      "  warnings.warn(\n"
     ]
    },
    {
     "name": "stdout",
     "output_type": "stream",
     "text": [
      "[500]\tvalidation_0-rmse:57.76159\n",
      "[999]\tvalidation_0-rmse:42.82549\n",
      "1\n",
      "[0]\tvalidation_0-rmse:84.50300\n"
     ]
    },
    {
     "name": "stderr",
     "output_type": "stream",
     "text": [
      "/Users/kennethleung/opt/anaconda3/lib/python3.9/site-packages/sklearn/utils/validation.py:757: FutureWarning: is_sparse is deprecated and will be removed in a future version. Check `isinstance(dtype, pd.SparseDtype)` instead.\n",
      "  if not hasattr(array, \"sparse\") and array.dtypes.apply(is_sparse).any():\n",
      "/Users/kennethleung/opt/anaconda3/lib/python3.9/site-packages/sklearn/utils/validation.py:595: FutureWarning: is_sparse is deprecated and will be removed in a future version. Check `isinstance(dtype, pd.SparseDtype)` instead.\n",
      "  if is_sparse(pd_dtype):\n",
      "/Users/kennethleung/opt/anaconda3/lib/python3.9/site-packages/sklearn/utils/validation.py:604: FutureWarning: is_sparse is deprecated and will be removed in a future version. Check `isinstance(dtype, pd.SparseDtype)` instead.\n",
      "  if is_sparse(pd_dtype) or not is_extension_array_dtype(pd_dtype):\n",
      "/var/folders/wj/gwqv8kfj18317lgnlmf6zypw0000gn/T/ipykernel_1406/616591595.py:10: FutureWarning: suggest_loguniform has been deprecated in v3.0.0. This feature will be removed in v6.0.0. See https://github.com/optuna/optuna/releases/tag/v3.0.0. Use suggest_float(..., log=True) instead.\n",
      "  'lambda': trial.suggest_loguniform('lambda', 1e-3, 10.0),\n",
      "/var/folders/wj/gwqv8kfj18317lgnlmf6zypw0000gn/T/ipykernel_1406/616591595.py:11: FutureWarning: suggest_loguniform has been deprecated in v3.0.0. This feature will be removed in v6.0.0. See https://github.com/optuna/optuna/releases/tag/v3.0.0. Use suggest_float(..., log=True) instead.\n",
      "  'alpha': trial.suggest_loguniform('alpha', 1e-3, 10.0),\n",
      "/Users/kennethleung/opt/anaconda3/lib/python3.9/site-packages/xgboost/sklearn.py:885: UserWarning: `early_stopping_rounds` in `fit` method is deprecated for better compatibility with scikit-learn, use `early_stopping_rounds` in constructor or`set_params` instead.\n",
      "  warnings.warn(\n"
     ]
    },
    {
     "name": "stdout",
     "output_type": "stream",
     "text": [
      "[500]\tvalidation_0-rmse:63.54109\n",
      "[1000]\tvalidation_0-rmse:51.97819\n",
      "[1499]\tvalidation_0-rmse:45.60886\n",
      "1\n",
      "[0]\tvalidation_0-rmse:79.52822\n"
     ]
    },
    {
     "name": "stderr",
     "output_type": "stream",
     "text": [
      "/Users/kennethleung/opt/anaconda3/lib/python3.9/site-packages/sklearn/utils/validation.py:757: FutureWarning: is_sparse is deprecated and will be removed in a future version. Check `isinstance(dtype, pd.SparseDtype)` instead.\n",
      "  if not hasattr(array, \"sparse\") and array.dtypes.apply(is_sparse).any():\n",
      "/Users/kennethleung/opt/anaconda3/lib/python3.9/site-packages/sklearn/utils/validation.py:595: FutureWarning: is_sparse is deprecated and will be removed in a future version. Check `isinstance(dtype, pd.SparseDtype)` instead.\n",
      "  if is_sparse(pd_dtype):\n",
      "/Users/kennethleung/opt/anaconda3/lib/python3.9/site-packages/sklearn/utils/validation.py:604: FutureWarning: is_sparse is deprecated and will be removed in a future version. Check `isinstance(dtype, pd.SparseDtype)` instead.\n",
      "  if is_sparse(pd_dtype) or not is_extension_array_dtype(pd_dtype):\n",
      "/var/folders/wj/gwqv8kfj18317lgnlmf6zypw0000gn/T/ipykernel_1406/616591595.py:10: FutureWarning: suggest_loguniform has been deprecated in v3.0.0. This feature will be removed in v6.0.0. See https://github.com/optuna/optuna/releases/tag/v3.0.0. Use suggest_float(..., log=True) instead.\n",
      "  'lambda': trial.suggest_loguniform('lambda', 1e-3, 10.0),\n",
      "/var/folders/wj/gwqv8kfj18317lgnlmf6zypw0000gn/T/ipykernel_1406/616591595.py:11: FutureWarning: suggest_loguniform has been deprecated in v3.0.0. This feature will be removed in v6.0.0. See https://github.com/optuna/optuna/releases/tag/v3.0.0. Use suggest_float(..., log=True) instead.\n",
      "  'alpha': trial.suggest_loguniform('alpha', 1e-3, 10.0),\n",
      "/Users/kennethleung/opt/anaconda3/lib/python3.9/site-packages/xgboost/sklearn.py:885: UserWarning: `early_stopping_rounds` in `fit` method is deprecated for better compatibility with scikit-learn, use `early_stopping_rounds` in constructor or`set_params` instead.\n",
      "  warnings.warn(\n"
     ]
    },
    {
     "name": "stdout",
     "output_type": "stream",
     "text": [
      "[500]\tvalidation_0-rmse:7.07461\n",
      "[1000]\tvalidation_0-rmse:3.42153\n",
      "[1500]\tvalidation_0-rmse:1.88499\n",
      "[2000]\tvalidation_0-rmse:1.05320\n",
      "[2499]\tvalidation_0-rmse:0.63777\n",
      "1\n",
      "[0]\tvalidation_0-rmse:76.27167\n"
     ]
    },
    {
     "name": "stderr",
     "output_type": "stream",
     "text": [
      "/Users/kennethleung/opt/anaconda3/lib/python3.9/site-packages/sklearn/utils/validation.py:757: FutureWarning: is_sparse is deprecated and will be removed in a future version. Check `isinstance(dtype, pd.SparseDtype)` instead.\n",
      "  if not hasattr(array, \"sparse\") and array.dtypes.apply(is_sparse).any():\n",
      "/Users/kennethleung/opt/anaconda3/lib/python3.9/site-packages/sklearn/utils/validation.py:595: FutureWarning: is_sparse is deprecated and will be removed in a future version. Check `isinstance(dtype, pd.SparseDtype)` instead.\n",
      "  if is_sparse(pd_dtype):\n",
      "/Users/kennethleung/opt/anaconda3/lib/python3.9/site-packages/sklearn/utils/validation.py:604: FutureWarning: is_sparse is deprecated and will be removed in a future version. Check `isinstance(dtype, pd.SparseDtype)` instead.\n",
      "  if is_sparse(pd_dtype) or not is_extension_array_dtype(pd_dtype):\n",
      "/var/folders/wj/gwqv8kfj18317lgnlmf6zypw0000gn/T/ipykernel_1406/616591595.py:10: FutureWarning: suggest_loguniform has been deprecated in v3.0.0. This feature will be removed in v6.0.0. See https://github.com/optuna/optuna/releases/tag/v3.0.0. Use suggest_float(..., log=True) instead.\n",
      "  'lambda': trial.suggest_loguniform('lambda', 1e-3, 10.0),\n",
      "/var/folders/wj/gwqv8kfj18317lgnlmf6zypw0000gn/T/ipykernel_1406/616591595.py:11: FutureWarning: suggest_loguniform has been deprecated in v3.0.0. This feature will be removed in v6.0.0. See https://github.com/optuna/optuna/releases/tag/v3.0.0. Use suggest_float(..., log=True) instead.\n",
      "  'alpha': trial.suggest_loguniform('alpha', 1e-3, 10.0),\n",
      "/Users/kennethleung/opt/anaconda3/lib/python3.9/site-packages/xgboost/sklearn.py:885: UserWarning: `early_stopping_rounds` in `fit` method is deprecated for better compatibility with scikit-learn, use `early_stopping_rounds` in constructor or`set_params` instead.\n",
      "  warnings.warn(\n"
     ]
    },
    {
     "name": "stdout",
     "output_type": "stream",
     "text": [
      "[499]\tvalidation_0-rmse:25.50996\n",
      "1\n",
      "[0]\tvalidation_0-rmse:83.20453\n"
     ]
    },
    {
     "name": "stderr",
     "output_type": "stream",
     "text": [
      "/Users/kennethleung/opt/anaconda3/lib/python3.9/site-packages/sklearn/utils/validation.py:757: FutureWarning: is_sparse is deprecated and will be removed in a future version. Check `isinstance(dtype, pd.SparseDtype)` instead.\n",
      "  if not hasattr(array, \"sparse\") and array.dtypes.apply(is_sparse).any():\n",
      "/Users/kennethleung/opt/anaconda3/lib/python3.9/site-packages/sklearn/utils/validation.py:595: FutureWarning: is_sparse is deprecated and will be removed in a future version. Check `isinstance(dtype, pd.SparseDtype)` instead.\n",
      "  if is_sparse(pd_dtype):\n",
      "/Users/kennethleung/opt/anaconda3/lib/python3.9/site-packages/sklearn/utils/validation.py:604: FutureWarning: is_sparse is deprecated and will be removed in a future version. Check `isinstance(dtype, pd.SparseDtype)` instead.\n",
      "  if is_sparse(pd_dtype) or not is_extension_array_dtype(pd_dtype):\n",
      "/var/folders/wj/gwqv8kfj18317lgnlmf6zypw0000gn/T/ipykernel_1406/616591595.py:10: FutureWarning: suggest_loguniform has been deprecated in v3.0.0. This feature will be removed in v6.0.0. See https://github.com/optuna/optuna/releases/tag/v3.0.0. Use suggest_float(..., log=True) instead.\n",
      "  'lambda': trial.suggest_loguniform('lambda', 1e-3, 10.0),\n",
      "/var/folders/wj/gwqv8kfj18317lgnlmf6zypw0000gn/T/ipykernel_1406/616591595.py:11: FutureWarning: suggest_loguniform has been deprecated in v3.0.0. This feature will be removed in v6.0.0. See https://github.com/optuna/optuna/releases/tag/v3.0.0. Use suggest_float(..., log=True) instead.\n",
      "  'alpha': trial.suggest_loguniform('alpha', 1e-3, 10.0),\n",
      "/Users/kennethleung/opt/anaconda3/lib/python3.9/site-packages/xgboost/sklearn.py:885: UserWarning: `early_stopping_rounds` in `fit` method is deprecated for better compatibility with scikit-learn, use `early_stopping_rounds` in constructor or`set_params` instead.\n",
      "  warnings.warn(\n"
     ]
    },
    {
     "name": "stdout",
     "output_type": "stream",
     "text": [
      "[500]\tvalidation_0-rmse:28.40101\n",
      "[1000]\tvalidation_0-rmse:27.58240\n",
      "[1500]\tvalidation_0-rmse:27.07473\n",
      "[1999]\tvalidation_0-rmse:26.68359\n",
      "1\n",
      "[0]\tvalidation_0-rmse:83.24436\n"
     ]
    },
    {
     "name": "stderr",
     "output_type": "stream",
     "text": [
      "/Users/kennethleung/opt/anaconda3/lib/python3.9/site-packages/sklearn/utils/validation.py:757: FutureWarning: is_sparse is deprecated and will be removed in a future version. Check `isinstance(dtype, pd.SparseDtype)` instead.\n",
      "  if not hasattr(array, \"sparse\") and array.dtypes.apply(is_sparse).any():\n",
      "/Users/kennethleung/opt/anaconda3/lib/python3.9/site-packages/sklearn/utils/validation.py:595: FutureWarning: is_sparse is deprecated and will be removed in a future version. Check `isinstance(dtype, pd.SparseDtype)` instead.\n",
      "  if is_sparse(pd_dtype):\n",
      "/Users/kennethleung/opt/anaconda3/lib/python3.9/site-packages/sklearn/utils/validation.py:604: FutureWarning: is_sparse is deprecated and will be removed in a future version. Check `isinstance(dtype, pd.SparseDtype)` instead.\n",
      "  if is_sparse(pd_dtype) or not is_extension_array_dtype(pd_dtype):\n",
      "/var/folders/wj/gwqv8kfj18317lgnlmf6zypw0000gn/T/ipykernel_1406/616591595.py:10: FutureWarning: suggest_loguniform has been deprecated in v3.0.0. This feature will be removed in v6.0.0. See https://github.com/optuna/optuna/releases/tag/v3.0.0. Use suggest_float(..., log=True) instead.\n",
      "  'lambda': trial.suggest_loguniform('lambda', 1e-3, 10.0),\n",
      "/var/folders/wj/gwqv8kfj18317lgnlmf6zypw0000gn/T/ipykernel_1406/616591595.py:11: FutureWarning: suggest_loguniform has been deprecated in v3.0.0. This feature will be removed in v6.0.0. See https://github.com/optuna/optuna/releases/tag/v3.0.0. Use suggest_float(..., log=True) instead.\n",
      "  'alpha': trial.suggest_loguniform('alpha', 1e-3, 10.0),\n",
      "/Users/kennethleung/opt/anaconda3/lib/python3.9/site-packages/xgboost/sklearn.py:885: UserWarning: `early_stopping_rounds` in `fit` method is deprecated for better compatibility with scikit-learn, use `early_stopping_rounds` in constructor or`set_params` instead.\n",
      "  warnings.warn(\n"
     ]
    },
    {
     "name": "stdout",
     "output_type": "stream",
     "text": [
      "[500]\tvalidation_0-rmse:28.92626\n",
      "[1000]\tvalidation_0-rmse:28.11414\n",
      "[1500]\tvalidation_0-rmse:27.61865\n",
      "[2000]\tvalidation_0-rmse:27.26690\n",
      "[2499]\tvalidation_0-rmse:26.97276\n",
      "1\n",
      "[0]\tvalidation_0-rmse:82.98529\n"
     ]
    },
    {
     "name": "stderr",
     "output_type": "stream",
     "text": [
      "/Users/kennethleung/opt/anaconda3/lib/python3.9/site-packages/sklearn/utils/validation.py:757: FutureWarning: is_sparse is deprecated and will be removed in a future version. Check `isinstance(dtype, pd.SparseDtype)` instead.\n",
      "  if not hasattr(array, \"sparse\") and array.dtypes.apply(is_sparse).any():\n",
      "/Users/kennethleung/opt/anaconda3/lib/python3.9/site-packages/sklearn/utils/validation.py:595: FutureWarning: is_sparse is deprecated and will be removed in a future version. Check `isinstance(dtype, pd.SparseDtype)` instead.\n",
      "  if is_sparse(pd_dtype):\n",
      "/Users/kennethleung/opt/anaconda3/lib/python3.9/site-packages/sklearn/utils/validation.py:604: FutureWarning: is_sparse is deprecated and will be removed in a future version. Check `isinstance(dtype, pd.SparseDtype)` instead.\n",
      "  if is_sparse(pd_dtype) or not is_extension_array_dtype(pd_dtype):\n",
      "/var/folders/wj/gwqv8kfj18317lgnlmf6zypw0000gn/T/ipykernel_1406/616591595.py:10: FutureWarning: suggest_loguniform has been deprecated in v3.0.0. This feature will be removed in v6.0.0. See https://github.com/optuna/optuna/releases/tag/v3.0.0. Use suggest_float(..., log=True) instead.\n",
      "  'lambda': trial.suggest_loguniform('lambda', 1e-3, 10.0),\n",
      "/var/folders/wj/gwqv8kfj18317lgnlmf6zypw0000gn/T/ipykernel_1406/616591595.py:11: FutureWarning: suggest_loguniform has been deprecated in v3.0.0. This feature will be removed in v6.0.0. See https://github.com/optuna/optuna/releases/tag/v3.0.0. Use suggest_float(..., log=True) instead.\n",
      "  'alpha': trial.suggest_loguniform('alpha', 1e-3, 10.0),\n",
      "/Users/kennethleung/opt/anaconda3/lib/python3.9/site-packages/xgboost/sklearn.py:885: UserWarning: `early_stopping_rounds` in `fit` method is deprecated for better compatibility with scikit-learn, use `early_stopping_rounds` in constructor or`set_params` instead.\n",
      "  warnings.warn(\n"
     ]
    },
    {
     "name": "stdout",
     "output_type": "stream",
     "text": [
      "[500]\tvalidation_0-rmse:5.39322\n",
      "[1000]\tvalidation_0-rmse:2.02289\n",
      "[1500]\tvalidation_0-rmse:1.00426\n",
      "[1999]\tvalidation_0-rmse:0.51466\n",
      "1\n",
      "[0]\tvalidation_0-rmse:84.02074\n"
     ]
    },
    {
     "name": "stderr",
     "output_type": "stream",
     "text": [
      "/Users/kennethleung/opt/anaconda3/lib/python3.9/site-packages/sklearn/utils/validation.py:757: FutureWarning: is_sparse is deprecated and will be removed in a future version. Check `isinstance(dtype, pd.SparseDtype)` instead.\n",
      "  if not hasattr(array, \"sparse\") and array.dtypes.apply(is_sparse).any():\n",
      "/Users/kennethleung/opt/anaconda3/lib/python3.9/site-packages/sklearn/utils/validation.py:595: FutureWarning: is_sparse is deprecated and will be removed in a future version. Check `isinstance(dtype, pd.SparseDtype)` instead.\n",
      "  if is_sparse(pd_dtype):\n",
      "/Users/kennethleung/opt/anaconda3/lib/python3.9/site-packages/sklearn/utils/validation.py:604: FutureWarning: is_sparse is deprecated and will be removed in a future version. Check `isinstance(dtype, pd.SparseDtype)` instead.\n",
      "  if is_sparse(pd_dtype) or not is_extension_array_dtype(pd_dtype):\n",
      "/var/folders/wj/gwqv8kfj18317lgnlmf6zypw0000gn/T/ipykernel_1406/616591595.py:10: FutureWarning: suggest_loguniform has been deprecated in v3.0.0. This feature will be removed in v6.0.0. See https://github.com/optuna/optuna/releases/tag/v3.0.0. Use suggest_float(..., log=True) instead.\n",
      "  'lambda': trial.suggest_loguniform('lambda', 1e-3, 10.0),\n",
      "/var/folders/wj/gwqv8kfj18317lgnlmf6zypw0000gn/T/ipykernel_1406/616591595.py:11: FutureWarning: suggest_loguniform has been deprecated in v3.0.0. This feature will be removed in v6.0.0. See https://github.com/optuna/optuna/releases/tag/v3.0.0. Use suggest_float(..., log=True) instead.\n",
      "  'alpha': trial.suggest_loguniform('alpha', 1e-3, 10.0),\n",
      "/Users/kennethleung/opt/anaconda3/lib/python3.9/site-packages/xgboost/sklearn.py:885: UserWarning: `early_stopping_rounds` in `fit` method is deprecated for better compatibility with scikit-learn, use `early_stopping_rounds` in constructor or`set_params` instead.\n",
      "  warnings.warn(\n"
     ]
    },
    {
     "name": "stdout",
     "output_type": "stream",
     "text": [
      "[500]\tvalidation_0-rmse:33.31688\n",
      "[1000]\tvalidation_0-rmse:32.15284\n",
      "[1500]\tvalidation_0-rmse:31.90484\n",
      "[2000]\tvalidation_0-rmse:31.72707\n",
      "[2500]\tvalidation_0-rmse:31.57620\n",
      "[3000]\tvalidation_0-rmse:31.44345\n",
      "[3499]\tvalidation_0-rmse:31.33205\n",
      "1\n",
      "[0]\tvalidation_0-rmse:81.47610\n"
     ]
    },
    {
     "name": "stderr",
     "output_type": "stream",
     "text": [
      "/Users/kennethleung/opt/anaconda3/lib/python3.9/site-packages/sklearn/utils/validation.py:757: FutureWarning: is_sparse is deprecated and will be removed in a future version. Check `isinstance(dtype, pd.SparseDtype)` instead.\n",
      "  if not hasattr(array, \"sparse\") and array.dtypes.apply(is_sparse).any():\n",
      "/Users/kennethleung/opt/anaconda3/lib/python3.9/site-packages/sklearn/utils/validation.py:595: FutureWarning: is_sparse is deprecated and will be removed in a future version. Check `isinstance(dtype, pd.SparseDtype)` instead.\n",
      "  if is_sparse(pd_dtype):\n",
      "/Users/kennethleung/opt/anaconda3/lib/python3.9/site-packages/sklearn/utils/validation.py:604: FutureWarning: is_sparse is deprecated and will be removed in a future version. Check `isinstance(dtype, pd.SparseDtype)` instead.\n",
      "  if is_sparse(pd_dtype) or not is_extension_array_dtype(pd_dtype):\n",
      "/var/folders/wj/gwqv8kfj18317lgnlmf6zypw0000gn/T/ipykernel_1406/616591595.py:10: FutureWarning: suggest_loguniform has been deprecated in v3.0.0. This feature will be removed in v6.0.0. See https://github.com/optuna/optuna/releases/tag/v3.0.0. Use suggest_float(..., log=True) instead.\n",
      "  'lambda': trial.suggest_loguniform('lambda', 1e-3, 10.0),\n",
      "/var/folders/wj/gwqv8kfj18317lgnlmf6zypw0000gn/T/ipykernel_1406/616591595.py:11: FutureWarning: suggest_loguniform has been deprecated in v3.0.0. This feature will be removed in v6.0.0. See https://github.com/optuna/optuna/releases/tag/v3.0.0. Use suggest_float(..., log=True) instead.\n",
      "  'alpha': trial.suggest_loguniform('alpha', 1e-3, 10.0),\n",
      "/Users/kennethleung/opt/anaconda3/lib/python3.9/site-packages/xgboost/sklearn.py:885: UserWarning: `early_stopping_rounds` in `fit` method is deprecated for better compatibility with scikit-learn, use `early_stopping_rounds` in constructor or`set_params` instead.\n",
      "  warnings.warn(\n"
     ]
    },
    {
     "name": "stdout",
     "output_type": "stream",
     "text": [
      "[500]\tvalidation_0-rmse:32.42218\n",
      "[1000]\tvalidation_0-rmse:32.08266\n",
      "[1500]\tvalidation_0-rmse:31.87054\n",
      "[1999]\tvalidation_0-rmse:31.70176\n",
      "1\n",
      "[0]\tvalidation_0-rmse:83.34496\n"
     ]
    },
    {
     "name": "stderr",
     "output_type": "stream",
     "text": [
      "/Users/kennethleung/opt/anaconda3/lib/python3.9/site-packages/sklearn/utils/validation.py:757: FutureWarning: is_sparse is deprecated and will be removed in a future version. Check `isinstance(dtype, pd.SparseDtype)` instead.\n",
      "  if not hasattr(array, \"sparse\") and array.dtypes.apply(is_sparse).any():\n",
      "/Users/kennethleung/opt/anaconda3/lib/python3.9/site-packages/sklearn/utils/validation.py:595: FutureWarning: is_sparse is deprecated and will be removed in a future version. Check `isinstance(dtype, pd.SparseDtype)` instead.\n",
      "  if is_sparse(pd_dtype):\n",
      "/Users/kennethleung/opt/anaconda3/lib/python3.9/site-packages/sklearn/utils/validation.py:604: FutureWarning: is_sparse is deprecated and will be removed in a future version. Check `isinstance(dtype, pd.SparseDtype)` instead.\n",
      "  if is_sparse(pd_dtype) or not is_extension_array_dtype(pd_dtype):\n",
      "/var/folders/wj/gwqv8kfj18317lgnlmf6zypw0000gn/T/ipykernel_1406/616591595.py:10: FutureWarning: suggest_loguniform has been deprecated in v3.0.0. This feature will be removed in v6.0.0. See https://github.com/optuna/optuna/releases/tag/v3.0.0. Use suggest_float(..., log=True) instead.\n",
      "  'lambda': trial.suggest_loguniform('lambda', 1e-3, 10.0),\n",
      "/var/folders/wj/gwqv8kfj18317lgnlmf6zypw0000gn/T/ipykernel_1406/616591595.py:11: FutureWarning: suggest_loguniform has been deprecated in v3.0.0. This feature will be removed in v6.0.0. See https://github.com/optuna/optuna/releases/tag/v3.0.0. Use suggest_float(..., log=True) instead.\n",
      "  'alpha': trial.suggest_loguniform('alpha', 1e-3, 10.0),\n",
      "/Users/kennethleung/opt/anaconda3/lib/python3.9/site-packages/xgboost/sklearn.py:885: UserWarning: `early_stopping_rounds` in `fit` method is deprecated for better compatibility with scikit-learn, use `early_stopping_rounds` in constructor or`set_params` instead.\n",
      "  warnings.warn(\n"
     ]
    },
    {
     "name": "stdout",
     "output_type": "stream",
     "text": [
      "[500]\tvalidation_0-rmse:34.87228\n",
      "[1000]\tvalidation_0-rmse:34.60966\n",
      "[1500]\tvalidation_0-rmse:34.46481\n",
      "[2000]\tvalidation_0-rmse:34.35336\n",
      "[2500]\tvalidation_0-rmse:34.26477\n",
      "[3000]\tvalidation_0-rmse:34.19684\n",
      "[3499]\tvalidation_0-rmse:34.13504\n",
      "1\n",
      "[0]\tvalidation_0-rmse:83.10199\n"
     ]
    },
    {
     "name": "stderr",
     "output_type": "stream",
     "text": [
      "/Users/kennethleung/opt/anaconda3/lib/python3.9/site-packages/sklearn/utils/validation.py:757: FutureWarning: is_sparse is deprecated and will be removed in a future version. Check `isinstance(dtype, pd.SparseDtype)` instead.\n",
      "  if not hasattr(array, \"sparse\") and array.dtypes.apply(is_sparse).any():\n",
      "/Users/kennethleung/opt/anaconda3/lib/python3.9/site-packages/sklearn/utils/validation.py:595: FutureWarning: is_sparse is deprecated and will be removed in a future version. Check `isinstance(dtype, pd.SparseDtype)` instead.\n",
      "  if is_sparse(pd_dtype):\n",
      "/Users/kennethleung/opt/anaconda3/lib/python3.9/site-packages/sklearn/utils/validation.py:604: FutureWarning: is_sparse is deprecated and will be removed in a future version. Check `isinstance(dtype, pd.SparseDtype)` instead.\n",
      "  if is_sparse(pd_dtype) or not is_extension_array_dtype(pd_dtype):\n",
      "/var/folders/wj/gwqv8kfj18317lgnlmf6zypw0000gn/T/ipykernel_1406/616591595.py:10: FutureWarning: suggest_loguniform has been deprecated in v3.0.0. This feature will be removed in v6.0.0. See https://github.com/optuna/optuna/releases/tag/v3.0.0. Use suggest_float(..., log=True) instead.\n",
      "  'lambda': trial.suggest_loguniform('lambda', 1e-3, 10.0),\n",
      "/var/folders/wj/gwqv8kfj18317lgnlmf6zypw0000gn/T/ipykernel_1406/616591595.py:11: FutureWarning: suggest_loguniform has been deprecated in v3.0.0. This feature will be removed in v6.0.0. See https://github.com/optuna/optuna/releases/tag/v3.0.0. Use suggest_float(..., log=True) instead.\n",
      "  'alpha': trial.suggest_loguniform('alpha', 1e-3, 10.0),\n",
      "/Users/kennethleung/opt/anaconda3/lib/python3.9/site-packages/xgboost/sklearn.py:885: UserWarning: `early_stopping_rounds` in `fit` method is deprecated for better compatibility with scikit-learn, use `early_stopping_rounds` in constructor or`set_params` instead.\n",
      "  warnings.warn(\n"
     ]
    },
    {
     "name": "stdout",
     "output_type": "stream",
     "text": [
      "[500]\tvalidation_0-rmse:22.99684\n",
      "[1000]\tvalidation_0-rmse:20.51891\n",
      "[1499]\tvalidation_0-rmse:18.81764\n",
      "1\n",
      "[0]\tvalidation_0-rmse:81.23156\n"
     ]
    },
    {
     "name": "stderr",
     "output_type": "stream",
     "text": [
      "/Users/kennethleung/opt/anaconda3/lib/python3.9/site-packages/sklearn/utils/validation.py:757: FutureWarning: is_sparse is deprecated and will be removed in a future version. Check `isinstance(dtype, pd.SparseDtype)` instead.\n",
      "  if not hasattr(array, \"sparse\") and array.dtypes.apply(is_sparse).any():\n",
      "/Users/kennethleung/opt/anaconda3/lib/python3.9/site-packages/sklearn/utils/validation.py:595: FutureWarning: is_sparse is deprecated and will be removed in a future version. Check `isinstance(dtype, pd.SparseDtype)` instead.\n",
      "  if is_sparse(pd_dtype):\n",
      "/Users/kennethleung/opt/anaconda3/lib/python3.9/site-packages/sklearn/utils/validation.py:604: FutureWarning: is_sparse is deprecated and will be removed in a future version. Check `isinstance(dtype, pd.SparseDtype)` instead.\n",
      "  if is_sparse(pd_dtype) or not is_extension_array_dtype(pd_dtype):\n",
      "/var/folders/wj/gwqv8kfj18317lgnlmf6zypw0000gn/T/ipykernel_1406/616591595.py:10: FutureWarning: suggest_loguniform has been deprecated in v3.0.0. This feature will be removed in v6.0.0. See https://github.com/optuna/optuna/releases/tag/v3.0.0. Use suggest_float(..., log=True) instead.\n",
      "  'lambda': trial.suggest_loguniform('lambda', 1e-3, 10.0),\n",
      "/var/folders/wj/gwqv8kfj18317lgnlmf6zypw0000gn/T/ipykernel_1406/616591595.py:11: FutureWarning: suggest_loguniform has been deprecated in v3.0.0. This feature will be removed in v6.0.0. See https://github.com/optuna/optuna/releases/tag/v3.0.0. Use suggest_float(..., log=True) instead.\n",
      "  'alpha': trial.suggest_loguniform('alpha', 1e-3, 10.0),\n",
      "/Users/kennethleung/opt/anaconda3/lib/python3.9/site-packages/xgboost/sklearn.py:885: UserWarning: `early_stopping_rounds` in `fit` method is deprecated for better compatibility with scikit-learn, use `early_stopping_rounds` in constructor or`set_params` instead.\n",
      "  warnings.warn(\n"
     ]
    },
    {
     "name": "stdout",
     "output_type": "stream",
     "text": [
      "[500]\tvalidation_0-rmse:27.68988\n",
      "[1000]\tvalidation_0-rmse:26.81672\n",
      "[1500]\tvalidation_0-rmse:26.24684\n",
      "[1999]\tvalidation_0-rmse:25.80616\n",
      "1\n",
      "[0]\tvalidation_0-rmse:74.24747\n"
     ]
    },
    {
     "name": "stderr",
     "output_type": "stream",
     "text": [
      "/Users/kennethleung/opt/anaconda3/lib/python3.9/site-packages/sklearn/utils/validation.py:757: FutureWarning: is_sparse is deprecated and will be removed in a future version. Check `isinstance(dtype, pd.SparseDtype)` instead.\n",
      "  if not hasattr(array, \"sparse\") and array.dtypes.apply(is_sparse).any():\n",
      "/Users/kennethleung/opt/anaconda3/lib/python3.9/site-packages/sklearn/utils/validation.py:595: FutureWarning: is_sparse is deprecated and will be removed in a future version. Check `isinstance(dtype, pd.SparseDtype)` instead.\n",
      "  if is_sparse(pd_dtype):\n",
      "/Users/kennethleung/opt/anaconda3/lib/python3.9/site-packages/sklearn/utils/validation.py:604: FutureWarning: is_sparse is deprecated and will be removed in a future version. Check `isinstance(dtype, pd.SparseDtype)` instead.\n",
      "  if is_sparse(pd_dtype) or not is_extension_array_dtype(pd_dtype):\n",
      "/var/folders/wj/gwqv8kfj18317lgnlmf6zypw0000gn/T/ipykernel_1406/616591595.py:10: FutureWarning: suggest_loguniform has been deprecated in v3.0.0. This feature will be removed in v6.0.0. See https://github.com/optuna/optuna/releases/tag/v3.0.0. Use suggest_float(..., log=True) instead.\n",
      "  'lambda': trial.suggest_loguniform('lambda', 1e-3, 10.0),\n",
      "/var/folders/wj/gwqv8kfj18317lgnlmf6zypw0000gn/T/ipykernel_1406/616591595.py:11: FutureWarning: suggest_loguniform has been deprecated in v3.0.0. This feature will be removed in v6.0.0. See https://github.com/optuna/optuna/releases/tag/v3.0.0. Use suggest_float(..., log=True) instead.\n",
      "  'alpha': trial.suggest_loguniform('alpha', 1e-3, 10.0),\n",
      "/Users/kennethleung/opt/anaconda3/lib/python3.9/site-packages/xgboost/sklearn.py:885: UserWarning: `early_stopping_rounds` in `fit` method is deprecated for better compatibility with scikit-learn, use `early_stopping_rounds` in constructor or`set_params` instead.\n",
      "  warnings.warn(\n"
     ]
    },
    {
     "name": "stdout",
     "output_type": "stream",
     "text": [
      "[500]\tvalidation_0-rmse:27.27779\n",
      "[1000]\tvalidation_0-rmse:26.46388\n",
      "[1499]\tvalidation_0-rmse:25.89545\n",
      "1\n",
      "[0]\tvalidation_0-rmse:76.41443\n"
     ]
    },
    {
     "name": "stderr",
     "output_type": "stream",
     "text": [
      "/Users/kennethleung/opt/anaconda3/lib/python3.9/site-packages/sklearn/utils/validation.py:757: FutureWarning: is_sparse is deprecated and will be removed in a future version. Check `isinstance(dtype, pd.SparseDtype)` instead.\n",
      "  if not hasattr(array, \"sparse\") and array.dtypes.apply(is_sparse).any():\n",
      "/Users/kennethleung/opt/anaconda3/lib/python3.9/site-packages/sklearn/utils/validation.py:595: FutureWarning: is_sparse is deprecated and will be removed in a future version. Check `isinstance(dtype, pd.SparseDtype)` instead.\n",
      "  if is_sparse(pd_dtype):\n",
      "/Users/kennethleung/opt/anaconda3/lib/python3.9/site-packages/sklearn/utils/validation.py:604: FutureWarning: is_sparse is deprecated and will be removed in a future version. Check `isinstance(dtype, pd.SparseDtype)` instead.\n",
      "  if is_sparse(pd_dtype) or not is_extension_array_dtype(pd_dtype):\n",
      "/var/folders/wj/gwqv8kfj18317lgnlmf6zypw0000gn/T/ipykernel_1406/616591595.py:10: FutureWarning: suggest_loguniform has been deprecated in v3.0.0. This feature will be removed in v6.0.0. See https://github.com/optuna/optuna/releases/tag/v3.0.0. Use suggest_float(..., log=True) instead.\n",
      "  'lambda': trial.suggest_loguniform('lambda', 1e-3, 10.0),\n",
      "/var/folders/wj/gwqv8kfj18317lgnlmf6zypw0000gn/T/ipykernel_1406/616591595.py:11: FutureWarning: suggest_loguniform has been deprecated in v3.0.0. This feature will be removed in v6.0.0. See https://github.com/optuna/optuna/releases/tag/v3.0.0. Use suggest_float(..., log=True) instead.\n",
      "  'alpha': trial.suggest_loguniform('alpha', 1e-3, 10.0),\n",
      "/Users/kennethleung/opt/anaconda3/lib/python3.9/site-packages/xgboost/sklearn.py:885: UserWarning: `early_stopping_rounds` in `fit` method is deprecated for better compatibility with scikit-learn, use `early_stopping_rounds` in constructor or`set_params` instead.\n",
      "  warnings.warn(\n"
     ]
    },
    {
     "name": "stdout",
     "output_type": "stream",
     "text": [
      "[499]\tvalidation_0-rmse:26.60310\n",
      "1\n",
      "[0]\tvalidation_0-rmse:63.41873\n"
     ]
    },
    {
     "name": "stderr",
     "output_type": "stream",
     "text": [
      "/Users/kennethleung/opt/anaconda3/lib/python3.9/site-packages/sklearn/utils/validation.py:757: FutureWarning: is_sparse is deprecated and will be removed in a future version. Check `isinstance(dtype, pd.SparseDtype)` instead.\n",
      "  if not hasattr(array, \"sparse\") and array.dtypes.apply(is_sparse).any():\n",
      "/Users/kennethleung/opt/anaconda3/lib/python3.9/site-packages/sklearn/utils/validation.py:595: FutureWarning: is_sparse is deprecated and will be removed in a future version. Check `isinstance(dtype, pd.SparseDtype)` instead.\n",
      "  if is_sparse(pd_dtype):\n",
      "/Users/kennethleung/opt/anaconda3/lib/python3.9/site-packages/sklearn/utils/validation.py:604: FutureWarning: is_sparse is deprecated and will be removed in a future version. Check `isinstance(dtype, pd.SparseDtype)` instead.\n",
      "  if is_sparse(pd_dtype) or not is_extension_array_dtype(pd_dtype):\n",
      "/var/folders/wj/gwqv8kfj18317lgnlmf6zypw0000gn/T/ipykernel_1406/616591595.py:10: FutureWarning: suggest_loguniform has been deprecated in v3.0.0. This feature will be removed in v6.0.0. See https://github.com/optuna/optuna/releases/tag/v3.0.0. Use suggest_float(..., log=True) instead.\n",
      "  'lambda': trial.suggest_loguniform('lambda', 1e-3, 10.0),\n",
      "/var/folders/wj/gwqv8kfj18317lgnlmf6zypw0000gn/T/ipykernel_1406/616591595.py:11: FutureWarning: suggest_loguniform has been deprecated in v3.0.0. This feature will be removed in v6.0.0. See https://github.com/optuna/optuna/releases/tag/v3.0.0. Use suggest_float(..., log=True) instead.\n",
      "  'alpha': trial.suggest_loguniform('alpha', 1e-3, 10.0),\n",
      "/Users/kennethleung/opt/anaconda3/lib/python3.9/site-packages/xgboost/sklearn.py:885: UserWarning: `early_stopping_rounds` in `fit` method is deprecated for better compatibility with scikit-learn, use `early_stopping_rounds` in constructor or`set_params` instead.\n",
      "  warnings.warn(\n"
     ]
    },
    {
     "name": "stdout",
     "output_type": "stream",
     "text": [
      "[499]\tvalidation_0-rmse:14.43931\n",
      "1\n",
      "[0]\tvalidation_0-rmse:80.01473\n"
     ]
    },
    {
     "name": "stderr",
     "output_type": "stream",
     "text": [
      "/Users/kennethleung/opt/anaconda3/lib/python3.9/site-packages/sklearn/utils/validation.py:757: FutureWarning: is_sparse is deprecated and will be removed in a future version. Check `isinstance(dtype, pd.SparseDtype)` instead.\n",
      "  if not hasattr(array, \"sparse\") and array.dtypes.apply(is_sparse).any():\n",
      "/Users/kennethleung/opt/anaconda3/lib/python3.9/site-packages/sklearn/utils/validation.py:595: FutureWarning: is_sparse is deprecated and will be removed in a future version. Check `isinstance(dtype, pd.SparseDtype)` instead.\n",
      "  if is_sparse(pd_dtype):\n",
      "/Users/kennethleung/opt/anaconda3/lib/python3.9/site-packages/sklearn/utils/validation.py:604: FutureWarning: is_sparse is deprecated and will be removed in a future version. Check `isinstance(dtype, pd.SparseDtype)` instead.\n",
      "  if is_sparse(pd_dtype) or not is_extension_array_dtype(pd_dtype):\n",
      "/var/folders/wj/gwqv8kfj18317lgnlmf6zypw0000gn/T/ipykernel_1406/616591595.py:10: FutureWarning: suggest_loguniform has been deprecated in v3.0.0. This feature will be removed in v6.0.0. See https://github.com/optuna/optuna/releases/tag/v3.0.0. Use suggest_float(..., log=True) instead.\n",
      "  'lambda': trial.suggest_loguniform('lambda', 1e-3, 10.0),\n",
      "/var/folders/wj/gwqv8kfj18317lgnlmf6zypw0000gn/T/ipykernel_1406/616591595.py:11: FutureWarning: suggest_loguniform has been deprecated in v3.0.0. This feature will be removed in v6.0.0. See https://github.com/optuna/optuna/releases/tag/v3.0.0. Use suggest_float(..., log=True) instead.\n",
      "  'alpha': trial.suggest_loguniform('alpha', 1e-3, 10.0),\n",
      "/Users/kennethleung/opt/anaconda3/lib/python3.9/site-packages/xgboost/sklearn.py:885: UserWarning: `early_stopping_rounds` in `fit` method is deprecated for better compatibility with scikit-learn, use `early_stopping_rounds` in constructor or`set_params` instead.\n",
      "  warnings.warn(\n"
     ]
    },
    {
     "name": "stdout",
     "output_type": "stream",
     "text": [
      "[500]\tvalidation_0-rmse:28.66044\n",
      "[999]\tvalidation_0-rmse:27.86388\n",
      "1\n",
      "[0]\tvalidation_0-rmse:83.89266\n"
     ]
    },
    {
     "name": "stderr",
     "output_type": "stream",
     "text": [
      "/Users/kennethleung/opt/anaconda3/lib/python3.9/site-packages/sklearn/utils/validation.py:757: FutureWarning: is_sparse is deprecated and will be removed in a future version. Check `isinstance(dtype, pd.SparseDtype)` instead.\n",
      "  if not hasattr(array, \"sparse\") and array.dtypes.apply(is_sparse).any():\n",
      "/Users/kennethleung/opt/anaconda3/lib/python3.9/site-packages/sklearn/utils/validation.py:595: FutureWarning: is_sparse is deprecated and will be removed in a future version. Check `isinstance(dtype, pd.SparseDtype)` instead.\n",
      "  if is_sparse(pd_dtype):\n",
      "/Users/kennethleung/opt/anaconda3/lib/python3.9/site-packages/sklearn/utils/validation.py:604: FutureWarning: is_sparse is deprecated and will be removed in a future version. Check `isinstance(dtype, pd.SparseDtype)` instead.\n",
      "  if is_sparse(pd_dtype) or not is_extension_array_dtype(pd_dtype):\n",
      "/var/folders/wj/gwqv8kfj18317lgnlmf6zypw0000gn/T/ipykernel_1406/616591595.py:10: FutureWarning: suggest_loguniform has been deprecated in v3.0.0. This feature will be removed in v6.0.0. See https://github.com/optuna/optuna/releases/tag/v3.0.0. Use suggest_float(..., log=True) instead.\n",
      "  'lambda': trial.suggest_loguniform('lambda', 1e-3, 10.0),\n",
      "/var/folders/wj/gwqv8kfj18317lgnlmf6zypw0000gn/T/ipykernel_1406/616591595.py:11: FutureWarning: suggest_loguniform has been deprecated in v3.0.0. This feature will be removed in v6.0.0. See https://github.com/optuna/optuna/releases/tag/v3.0.0. Use suggest_float(..., log=True) instead.\n",
      "  'alpha': trial.suggest_loguniform('alpha', 1e-3, 10.0),\n",
      "/Users/kennethleung/opt/anaconda3/lib/python3.9/site-packages/xgboost/sklearn.py:885: UserWarning: `early_stopping_rounds` in `fit` method is deprecated for better compatibility with scikit-learn, use `early_stopping_rounds` in constructor or`set_params` instead.\n",
      "  warnings.warn(\n"
     ]
    },
    {
     "name": "stdout",
     "output_type": "stream",
     "text": [
      "[500]\tvalidation_0-rmse:26.33009\n",
      "[1000]\tvalidation_0-rmse:24.58274\n",
      "[1499]\tvalidation_0-rmse:23.44835\n",
      "1\n",
      "[0]\tvalidation_0-rmse:83.88299\n"
     ]
    },
    {
     "name": "stderr",
     "output_type": "stream",
     "text": [
      "/Users/kennethleung/opt/anaconda3/lib/python3.9/site-packages/sklearn/utils/validation.py:757: FutureWarning: is_sparse is deprecated and will be removed in a future version. Check `isinstance(dtype, pd.SparseDtype)` instead.\n",
      "  if not hasattr(array, \"sparse\") and array.dtypes.apply(is_sparse).any():\n",
      "/Users/kennethleung/opt/anaconda3/lib/python3.9/site-packages/sklearn/utils/validation.py:595: FutureWarning: is_sparse is deprecated and will be removed in a future version. Check `isinstance(dtype, pd.SparseDtype)` instead.\n",
      "  if is_sparse(pd_dtype):\n",
      "/Users/kennethleung/opt/anaconda3/lib/python3.9/site-packages/sklearn/utils/validation.py:604: FutureWarning: is_sparse is deprecated and will be removed in a future version. Check `isinstance(dtype, pd.SparseDtype)` instead.\n",
      "  if is_sparse(pd_dtype) or not is_extension_array_dtype(pd_dtype):\n",
      "/var/folders/wj/gwqv8kfj18317lgnlmf6zypw0000gn/T/ipykernel_1406/616591595.py:10: FutureWarning: suggest_loguniform has been deprecated in v3.0.0. This feature will be removed in v6.0.0. See https://github.com/optuna/optuna/releases/tag/v3.0.0. Use suggest_float(..., log=True) instead.\n",
      "  'lambda': trial.suggest_loguniform('lambda', 1e-3, 10.0),\n",
      "/var/folders/wj/gwqv8kfj18317lgnlmf6zypw0000gn/T/ipykernel_1406/616591595.py:11: FutureWarning: suggest_loguniform has been deprecated in v3.0.0. This feature will be removed in v6.0.0. See https://github.com/optuna/optuna/releases/tag/v3.0.0. Use suggest_float(..., log=True) instead.\n",
      "  'alpha': trial.suggest_loguniform('alpha', 1e-3, 10.0),\n",
      "/Users/kennethleung/opt/anaconda3/lib/python3.9/site-packages/xgboost/sklearn.py:885: UserWarning: `early_stopping_rounds` in `fit` method is deprecated for better compatibility with scikit-learn, use `early_stopping_rounds` in constructor or`set_params` instead.\n",
      "  warnings.warn(\n"
     ]
    },
    {
     "name": "stdout",
     "output_type": "stream",
     "text": [
      "[500]\tvalidation_0-rmse:27.26393\n",
      "[1000]\tvalidation_0-rmse:25.96142\n",
      "[1499]\tvalidation_0-rmse:25.11703\n",
      "1\n",
      "[0]\tvalidation_0-rmse:83.90492\n"
     ]
    },
    {
     "name": "stderr",
     "output_type": "stream",
     "text": [
      "/Users/kennethleung/opt/anaconda3/lib/python3.9/site-packages/sklearn/utils/validation.py:757: FutureWarning: is_sparse is deprecated and will be removed in a future version. Check `isinstance(dtype, pd.SparseDtype)` instead.\n",
      "  if not hasattr(array, \"sparse\") and array.dtypes.apply(is_sparse).any():\n",
      "/Users/kennethleung/opt/anaconda3/lib/python3.9/site-packages/sklearn/utils/validation.py:595: FutureWarning: is_sparse is deprecated and will be removed in a future version. Check `isinstance(dtype, pd.SparseDtype)` instead.\n",
      "  if is_sparse(pd_dtype):\n",
      "/Users/kennethleung/opt/anaconda3/lib/python3.9/site-packages/sklearn/utils/validation.py:604: FutureWarning: is_sparse is deprecated and will be removed in a future version. Check `isinstance(dtype, pd.SparseDtype)` instead.\n",
      "  if is_sparse(pd_dtype) or not is_extension_array_dtype(pd_dtype):\n",
      "/var/folders/wj/gwqv8kfj18317lgnlmf6zypw0000gn/T/ipykernel_1406/616591595.py:10: FutureWarning: suggest_loguniform has been deprecated in v3.0.0. This feature will be removed in v6.0.0. See https://github.com/optuna/optuna/releases/tag/v3.0.0. Use suggest_float(..., log=True) instead.\n",
      "  'lambda': trial.suggest_loguniform('lambda', 1e-3, 10.0),\n",
      "/var/folders/wj/gwqv8kfj18317lgnlmf6zypw0000gn/T/ipykernel_1406/616591595.py:11: FutureWarning: suggest_loguniform has been deprecated in v3.0.0. This feature will be removed in v6.0.0. See https://github.com/optuna/optuna/releases/tag/v3.0.0. Use suggest_float(..., log=True) instead.\n",
      "  'alpha': trial.suggest_loguniform('alpha', 1e-3, 10.0),\n",
      "/Users/kennethleung/opt/anaconda3/lib/python3.9/site-packages/xgboost/sklearn.py:885: UserWarning: `early_stopping_rounds` in `fit` method is deprecated for better compatibility with scikit-learn, use `early_stopping_rounds` in constructor or`set_params` instead.\n",
      "  warnings.warn(\n"
     ]
    },
    {
     "name": "stdout",
     "output_type": "stream",
     "text": [
      "[500]\tvalidation_0-rmse:26.68938\n",
      "[1000]\tvalidation_0-rmse:25.03400\n",
      "[1499]\tvalidation_0-rmse:23.98227\n",
      "1\n",
      "[0]\tvalidation_0-rmse:83.87357\n"
     ]
    },
    {
     "name": "stderr",
     "output_type": "stream",
     "text": [
      "/Users/kennethleung/opt/anaconda3/lib/python3.9/site-packages/sklearn/utils/validation.py:757: FutureWarning: is_sparse is deprecated and will be removed in a future version. Check `isinstance(dtype, pd.SparseDtype)` instead.\n",
      "  if not hasattr(array, \"sparse\") and array.dtypes.apply(is_sparse).any():\n",
      "/Users/kennethleung/opt/anaconda3/lib/python3.9/site-packages/sklearn/utils/validation.py:595: FutureWarning: is_sparse is deprecated and will be removed in a future version. Check `isinstance(dtype, pd.SparseDtype)` instead.\n",
      "  if is_sparse(pd_dtype):\n",
      "/Users/kennethleung/opt/anaconda3/lib/python3.9/site-packages/sklearn/utils/validation.py:604: FutureWarning: is_sparse is deprecated and will be removed in a future version. Check `isinstance(dtype, pd.SparseDtype)` instead.\n",
      "  if is_sparse(pd_dtype) or not is_extension_array_dtype(pd_dtype):\n",
      "/var/folders/wj/gwqv8kfj18317lgnlmf6zypw0000gn/T/ipykernel_1406/616591595.py:10: FutureWarning: suggest_loguniform has been deprecated in v3.0.0. This feature will be removed in v6.0.0. See https://github.com/optuna/optuna/releases/tag/v3.0.0. Use suggest_float(..., log=True) instead.\n",
      "  'lambda': trial.suggest_loguniform('lambda', 1e-3, 10.0),\n",
      "/var/folders/wj/gwqv8kfj18317lgnlmf6zypw0000gn/T/ipykernel_1406/616591595.py:11: FutureWarning: suggest_loguniform has been deprecated in v3.0.0. This feature will be removed in v6.0.0. See https://github.com/optuna/optuna/releases/tag/v3.0.0. Use suggest_float(..., log=True) instead.\n",
      "  'alpha': trial.suggest_loguniform('alpha', 1e-3, 10.0),\n",
      "/Users/kennethleung/opt/anaconda3/lib/python3.9/site-packages/xgboost/sklearn.py:885: UserWarning: `early_stopping_rounds` in `fit` method is deprecated for better compatibility with scikit-learn, use `early_stopping_rounds` in constructor or`set_params` instead.\n",
      "  warnings.warn(\n"
     ]
    },
    {
     "name": "stdout",
     "output_type": "stream",
     "text": [
      "[500]\tvalidation_0-rmse:26.31212\n",
      "[1000]\tvalidation_0-rmse:24.65626\n",
      "[1500]\tvalidation_0-rmse:23.56999\n",
      "[2000]\tvalidation_0-rmse:22.73046\n",
      "[2500]\tvalidation_0-rmse:22.01922\n",
      "[2999]\tvalidation_0-rmse:21.38520\n",
      "1\n",
      "[0]\tvalidation_0-rmse:83.94040\n"
     ]
    },
    {
     "name": "stderr",
     "output_type": "stream",
     "text": [
      "/Users/kennethleung/opt/anaconda3/lib/python3.9/site-packages/sklearn/utils/validation.py:757: FutureWarning: is_sparse is deprecated and will be removed in a future version. Check `isinstance(dtype, pd.SparseDtype)` instead.\n",
      "  if not hasattr(array, \"sparse\") and array.dtypes.apply(is_sparse).any():\n",
      "/Users/kennethleung/opt/anaconda3/lib/python3.9/site-packages/sklearn/utils/validation.py:595: FutureWarning: is_sparse is deprecated and will be removed in a future version. Check `isinstance(dtype, pd.SparseDtype)` instead.\n",
      "  if is_sparse(pd_dtype):\n",
      "/Users/kennethleung/opt/anaconda3/lib/python3.9/site-packages/sklearn/utils/validation.py:604: FutureWarning: is_sparse is deprecated and will be removed in a future version. Check `isinstance(dtype, pd.SparseDtype)` instead.\n",
      "  if is_sparse(pd_dtype) or not is_extension_array_dtype(pd_dtype):\n",
      "/var/folders/wj/gwqv8kfj18317lgnlmf6zypw0000gn/T/ipykernel_1406/616591595.py:10: FutureWarning: suggest_loguniform has been deprecated in v3.0.0. This feature will be removed in v6.0.0. See https://github.com/optuna/optuna/releases/tag/v3.0.0. Use suggest_float(..., log=True) instead.\n",
      "  'lambda': trial.suggest_loguniform('lambda', 1e-3, 10.0),\n",
      "/var/folders/wj/gwqv8kfj18317lgnlmf6zypw0000gn/T/ipykernel_1406/616591595.py:11: FutureWarning: suggest_loguniform has been deprecated in v3.0.0. This feature will be removed in v6.0.0. See https://github.com/optuna/optuna/releases/tag/v3.0.0. Use suggest_float(..., log=True) instead.\n",
      "  'alpha': trial.suggest_loguniform('alpha', 1e-3, 10.0),\n",
      "/Users/kennethleung/opt/anaconda3/lib/python3.9/site-packages/xgboost/sklearn.py:885: UserWarning: `early_stopping_rounds` in `fit` method is deprecated for better compatibility with scikit-learn, use `early_stopping_rounds` in constructor or`set_params` instead.\n",
      "  warnings.warn(\n"
     ]
    },
    {
     "name": "stdout",
     "output_type": "stream",
     "text": [
      "[500]\tvalidation_0-rmse:23.46114\n",
      "[1000]\tvalidation_0-rmse:20.42823\n",
      "[1499]\tvalidation_0-rmse:18.34555\n",
      "1\n",
      "[0]\tvalidation_0-rmse:83.91345\n"
     ]
    },
    {
     "name": "stderr",
     "output_type": "stream",
     "text": [
      "/Users/kennethleung/opt/anaconda3/lib/python3.9/site-packages/sklearn/utils/validation.py:757: FutureWarning: is_sparse is deprecated and will be removed in a future version. Check `isinstance(dtype, pd.SparseDtype)` instead.\n",
      "  if not hasattr(array, \"sparse\") and array.dtypes.apply(is_sparse).any():\n",
      "/Users/kennethleung/opt/anaconda3/lib/python3.9/site-packages/sklearn/utils/validation.py:595: FutureWarning: is_sparse is deprecated and will be removed in a future version. Check `isinstance(dtype, pd.SparseDtype)` instead.\n",
      "  if is_sparse(pd_dtype):\n",
      "/Users/kennethleung/opt/anaconda3/lib/python3.9/site-packages/sklearn/utils/validation.py:604: FutureWarning: is_sparse is deprecated and will be removed in a future version. Check `isinstance(dtype, pd.SparseDtype)` instead.\n",
      "  if is_sparse(pd_dtype) or not is_extension_array_dtype(pd_dtype):\n",
      "/var/folders/wj/gwqv8kfj18317lgnlmf6zypw0000gn/T/ipykernel_1406/616591595.py:10: FutureWarning: suggest_loguniform has been deprecated in v3.0.0. This feature will be removed in v6.0.0. See https://github.com/optuna/optuna/releases/tag/v3.0.0. Use suggest_float(..., log=True) instead.\n",
      "  'lambda': trial.suggest_loguniform('lambda', 1e-3, 10.0),\n",
      "/var/folders/wj/gwqv8kfj18317lgnlmf6zypw0000gn/T/ipykernel_1406/616591595.py:11: FutureWarning: suggest_loguniform has been deprecated in v3.0.0. This feature will be removed in v6.0.0. See https://github.com/optuna/optuna/releases/tag/v3.0.0. Use suggest_float(..., log=True) instead.\n",
      "  'alpha': trial.suggest_loguniform('alpha', 1e-3, 10.0),\n",
      "/Users/kennethleung/opt/anaconda3/lib/python3.9/site-packages/xgboost/sklearn.py:885: UserWarning: `early_stopping_rounds` in `fit` method is deprecated for better compatibility with scikit-learn, use `early_stopping_rounds` in constructor or`set_params` instead.\n",
      "  warnings.warn(\n"
     ]
    },
    {
     "name": "stdout",
     "output_type": "stream",
     "text": [
      "[500]\tvalidation_0-rmse:29.12588\n",
      "[1000]\tvalidation_0-rmse:28.24747\n",
      "[1500]\tvalidation_0-rmse:27.74262\n",
      "[2000]\tvalidation_0-rmse:27.36280\n",
      "[2499]\tvalidation_0-rmse:27.04985\n",
      "1\n",
      "[0]\tvalidation_0-rmse:83.90930\n"
     ]
    },
    {
     "name": "stderr",
     "output_type": "stream",
     "text": [
      "/Users/kennethleung/opt/anaconda3/lib/python3.9/site-packages/sklearn/utils/validation.py:757: FutureWarning: is_sparse is deprecated and will be removed in a future version. Check `isinstance(dtype, pd.SparseDtype)` instead.\n",
      "  if not hasattr(array, \"sparse\") and array.dtypes.apply(is_sparse).any():\n",
      "/Users/kennethleung/opt/anaconda3/lib/python3.9/site-packages/sklearn/utils/validation.py:595: FutureWarning: is_sparse is deprecated and will be removed in a future version. Check `isinstance(dtype, pd.SparseDtype)` instead.\n",
      "  if is_sparse(pd_dtype):\n",
      "/Users/kennethleung/opt/anaconda3/lib/python3.9/site-packages/sklearn/utils/validation.py:604: FutureWarning: is_sparse is deprecated and will be removed in a future version. Check `isinstance(dtype, pd.SparseDtype)` instead.\n",
      "  if is_sparse(pd_dtype) or not is_extension_array_dtype(pd_dtype):\n",
      "/var/folders/wj/gwqv8kfj18317lgnlmf6zypw0000gn/T/ipykernel_1406/616591595.py:10: FutureWarning: suggest_loguniform has been deprecated in v3.0.0. This feature will be removed in v6.0.0. See https://github.com/optuna/optuna/releases/tag/v3.0.0. Use suggest_float(..., log=True) instead.\n",
      "  'lambda': trial.suggest_loguniform('lambda', 1e-3, 10.0),\n",
      "/var/folders/wj/gwqv8kfj18317lgnlmf6zypw0000gn/T/ipykernel_1406/616591595.py:11: FutureWarning: suggest_loguniform has been deprecated in v3.0.0. This feature will be removed in v6.0.0. See https://github.com/optuna/optuna/releases/tag/v3.0.0. Use suggest_float(..., log=True) instead.\n",
      "  'alpha': trial.suggest_loguniform('alpha', 1e-3, 10.0),\n",
      "/Users/kennethleung/opt/anaconda3/lib/python3.9/site-packages/xgboost/sklearn.py:885: UserWarning: `early_stopping_rounds` in `fit` method is deprecated for better compatibility with scikit-learn, use `early_stopping_rounds` in constructor or`set_params` instead.\n",
      "  warnings.warn(\n"
     ]
    },
    {
     "name": "stdout",
     "output_type": "stream",
     "text": [
      "[500]\tvalidation_0-rmse:29.10924\n",
      "[1000]\tvalidation_0-rmse:28.23559\n",
      "[1500]\tvalidation_0-rmse:27.73202\n",
      "[2000]\tvalidation_0-rmse:27.35266\n",
      "[2500]\tvalidation_0-rmse:27.03698\n",
      "[3000]\tvalidation_0-rmse:26.77855\n",
      "[3499]\tvalidation_0-rmse:26.54559\n",
      "1\n",
      "[0]\tvalidation_0-rmse:83.96281\n"
     ]
    },
    {
     "name": "stderr",
     "output_type": "stream",
     "text": [
      "/Users/kennethleung/opt/anaconda3/lib/python3.9/site-packages/sklearn/utils/validation.py:757: FutureWarning: is_sparse is deprecated and will be removed in a future version. Check `isinstance(dtype, pd.SparseDtype)` instead.\n",
      "  if not hasattr(array, \"sparse\") and array.dtypes.apply(is_sparse).any():\n",
      "/Users/kennethleung/opt/anaconda3/lib/python3.9/site-packages/sklearn/utils/validation.py:595: FutureWarning: is_sparse is deprecated and will be removed in a future version. Check `isinstance(dtype, pd.SparseDtype)` instead.\n",
      "  if is_sparse(pd_dtype):\n",
      "/Users/kennethleung/opt/anaconda3/lib/python3.9/site-packages/sklearn/utils/validation.py:604: FutureWarning: is_sparse is deprecated and will be removed in a future version. Check `isinstance(dtype, pd.SparseDtype)` instead.\n",
      "  if is_sparse(pd_dtype) or not is_extension_array_dtype(pd_dtype):\n",
      "/var/folders/wj/gwqv8kfj18317lgnlmf6zypw0000gn/T/ipykernel_1406/616591595.py:10: FutureWarning: suggest_loguniform has been deprecated in v3.0.0. This feature will be removed in v6.0.0. See https://github.com/optuna/optuna/releases/tag/v3.0.0. Use suggest_float(..., log=True) instead.\n",
      "  'lambda': trial.suggest_loguniform('lambda', 1e-3, 10.0),\n",
      "/var/folders/wj/gwqv8kfj18317lgnlmf6zypw0000gn/T/ipykernel_1406/616591595.py:11: FutureWarning: suggest_loguniform has been deprecated in v3.0.0. This feature will be removed in v6.0.0. See https://github.com/optuna/optuna/releases/tag/v3.0.0. Use suggest_float(..., log=True) instead.\n",
      "  'alpha': trial.suggest_loguniform('alpha', 1e-3, 10.0),\n",
      "/Users/kennethleung/opt/anaconda3/lib/python3.9/site-packages/xgboost/sklearn.py:885: UserWarning: `early_stopping_rounds` in `fit` method is deprecated for better compatibility with scikit-learn, use `early_stopping_rounds` in constructor or`set_params` instead.\n",
      "  warnings.warn(\n"
     ]
    },
    {
     "name": "stdout",
     "output_type": "stream",
     "text": [
      "[500]\tvalidation_0-rmse:30.71982\n",
      "[1000]\tvalidation_0-rmse:29.84203\n",
      "[1500]\tvalidation_0-rmse:29.41401\n",
      "[2000]\tvalidation_0-rmse:29.11988\n",
      "[2499]\tvalidation_0-rmse:28.87905\n",
      "1\n",
      "[0]\tvalidation_0-rmse:83.90303\n"
     ]
    },
    {
     "name": "stderr",
     "output_type": "stream",
     "text": [
      "/Users/kennethleung/opt/anaconda3/lib/python3.9/site-packages/sklearn/utils/validation.py:757: FutureWarning: is_sparse is deprecated and will be removed in a future version. Check `isinstance(dtype, pd.SparseDtype)` instead.\n",
      "  if not hasattr(array, \"sparse\") and array.dtypes.apply(is_sparse).any():\n",
      "/Users/kennethleung/opt/anaconda3/lib/python3.9/site-packages/sklearn/utils/validation.py:595: FutureWarning: is_sparse is deprecated and will be removed in a future version. Check `isinstance(dtype, pd.SparseDtype)` instead.\n",
      "  if is_sparse(pd_dtype):\n",
      "/Users/kennethleung/opt/anaconda3/lib/python3.9/site-packages/sklearn/utils/validation.py:604: FutureWarning: is_sparse is deprecated and will be removed in a future version. Check `isinstance(dtype, pd.SparseDtype)` instead.\n",
      "  if is_sparse(pd_dtype) or not is_extension_array_dtype(pd_dtype):\n",
      "/var/folders/wj/gwqv8kfj18317lgnlmf6zypw0000gn/T/ipykernel_1406/616591595.py:10: FutureWarning: suggest_loguniform has been deprecated in v3.0.0. This feature will be removed in v6.0.0. See https://github.com/optuna/optuna/releases/tag/v3.0.0. Use suggest_float(..., log=True) instead.\n",
      "  'lambda': trial.suggest_loguniform('lambda', 1e-3, 10.0),\n",
      "/var/folders/wj/gwqv8kfj18317lgnlmf6zypw0000gn/T/ipykernel_1406/616591595.py:11: FutureWarning: suggest_loguniform has been deprecated in v3.0.0. This feature will be removed in v6.0.0. See https://github.com/optuna/optuna/releases/tag/v3.0.0. Use suggest_float(..., log=True) instead.\n",
      "  'alpha': trial.suggest_loguniform('alpha', 1e-3, 10.0),\n",
      "/Users/kennethleung/opt/anaconda3/lib/python3.9/site-packages/xgboost/sklearn.py:885: UserWarning: `early_stopping_rounds` in `fit` method is deprecated for better compatibility with scikit-learn, use `early_stopping_rounds` in constructor or`set_params` instead.\n",
      "  warnings.warn(\n"
     ]
    },
    {
     "name": "stdout",
     "output_type": "stream",
     "text": [
      "[500]\tvalidation_0-rmse:26.70961\n",
      "[1000]\tvalidation_0-rmse:25.21855\n",
      "[1500]\tvalidation_0-rmse:24.23197\n",
      "[2000]\tvalidation_0-rmse:23.45941\n",
      "[2500]\tvalidation_0-rmse:22.82083\n",
      "[2999]\tvalidation_0-rmse:22.26599\n",
      "1\n",
      "[0]\tvalidation_0-rmse:77.73828\n"
     ]
    },
    {
     "name": "stderr",
     "output_type": "stream",
     "text": [
      "/Users/kennethleung/opt/anaconda3/lib/python3.9/site-packages/sklearn/utils/validation.py:757: FutureWarning: is_sparse is deprecated and will be removed in a future version. Check `isinstance(dtype, pd.SparseDtype)` instead.\n",
      "  if not hasattr(array, \"sparse\") and array.dtypes.apply(is_sparse).any():\n",
      "/Users/kennethleung/opt/anaconda3/lib/python3.9/site-packages/sklearn/utils/validation.py:595: FutureWarning: is_sparse is deprecated and will be removed in a future version. Check `isinstance(dtype, pd.SparseDtype)` instead.\n",
      "  if is_sparse(pd_dtype):\n",
      "/Users/kennethleung/opt/anaconda3/lib/python3.9/site-packages/sklearn/utils/validation.py:604: FutureWarning: is_sparse is deprecated and will be removed in a future version. Check `isinstance(dtype, pd.SparseDtype)` instead.\n",
      "  if is_sparse(pd_dtype) or not is_extension_array_dtype(pd_dtype):\n",
      "/var/folders/wj/gwqv8kfj18317lgnlmf6zypw0000gn/T/ipykernel_1406/616591595.py:10: FutureWarning: suggest_loguniform has been deprecated in v3.0.0. This feature will be removed in v6.0.0. See https://github.com/optuna/optuna/releases/tag/v3.0.0. Use suggest_float(..., log=True) instead.\n",
      "  'lambda': trial.suggest_loguniform('lambda', 1e-3, 10.0),\n",
      "/var/folders/wj/gwqv8kfj18317lgnlmf6zypw0000gn/T/ipykernel_1406/616591595.py:11: FutureWarning: suggest_loguniform has been deprecated in v3.0.0. This feature will be removed in v6.0.0. See https://github.com/optuna/optuna/releases/tag/v3.0.0. Use suggest_float(..., log=True) instead.\n",
      "  'alpha': trial.suggest_loguniform('alpha', 1e-3, 10.0),\n",
      "/Users/kennethleung/opt/anaconda3/lib/python3.9/site-packages/xgboost/sklearn.py:885: UserWarning: `early_stopping_rounds` in `fit` method is deprecated for better compatibility with scikit-learn, use `early_stopping_rounds` in constructor or`set_params` instead.\n",
      "  warnings.warn(\n"
     ]
    },
    {
     "name": "stdout",
     "output_type": "stream",
     "text": [
      "[500]\tvalidation_0-rmse:18.68397\n",
      "[999]\tvalidation_0-rmse:15.09927\n",
      "1\n",
      "[0]\tvalidation_0-rmse:83.96975\n"
     ]
    },
    {
     "name": "stderr",
     "output_type": "stream",
     "text": [
      "/Users/kennethleung/opt/anaconda3/lib/python3.9/site-packages/sklearn/utils/validation.py:757: FutureWarning: is_sparse is deprecated and will be removed in a future version. Check `isinstance(dtype, pd.SparseDtype)` instead.\n",
      "  if not hasattr(array, \"sparse\") and array.dtypes.apply(is_sparse).any():\n",
      "/Users/kennethleung/opt/anaconda3/lib/python3.9/site-packages/sklearn/utils/validation.py:595: FutureWarning: is_sparse is deprecated and will be removed in a future version. Check `isinstance(dtype, pd.SparseDtype)` instead.\n",
      "  if is_sparse(pd_dtype):\n",
      "/Users/kennethleung/opt/anaconda3/lib/python3.9/site-packages/sklearn/utils/validation.py:604: FutureWarning: is_sparse is deprecated and will be removed in a future version. Check `isinstance(dtype, pd.SparseDtype)` instead.\n",
      "  if is_sparse(pd_dtype) or not is_extension_array_dtype(pd_dtype):\n",
      "/var/folders/wj/gwqv8kfj18317lgnlmf6zypw0000gn/T/ipykernel_1406/616591595.py:10: FutureWarning: suggest_loguniform has been deprecated in v3.0.0. This feature will be removed in v6.0.0. See https://github.com/optuna/optuna/releases/tag/v3.0.0. Use suggest_float(..., log=True) instead.\n",
      "  'lambda': trial.suggest_loguniform('lambda', 1e-3, 10.0),\n",
      "/var/folders/wj/gwqv8kfj18317lgnlmf6zypw0000gn/T/ipykernel_1406/616591595.py:11: FutureWarning: suggest_loguniform has been deprecated in v3.0.0. This feature will be removed in v6.0.0. See https://github.com/optuna/optuna/releases/tag/v3.0.0. Use suggest_float(..., log=True) instead.\n",
      "  'alpha': trial.suggest_loguniform('alpha', 1e-3, 10.0),\n",
      "/Users/kennethleung/opt/anaconda3/lib/python3.9/site-packages/xgboost/sklearn.py:885: UserWarning: `early_stopping_rounds` in `fit` method is deprecated for better compatibility with scikit-learn, use `early_stopping_rounds` in constructor or`set_params` instead.\n",
      "  warnings.warn(\n"
     ]
    },
    {
     "name": "stdout",
     "output_type": "stream",
     "text": [
      "[500]\tvalidation_0-rmse:28.90791\n",
      "[1000]\tvalidation_0-rmse:27.97990\n",
      "[1500]\tvalidation_0-rmse:27.47144\n",
      "[1999]\tvalidation_0-rmse:27.08199\n",
      "1\n",
      "[0]\tvalidation_0-rmse:83.96688\n"
     ]
    },
    {
     "name": "stderr",
     "output_type": "stream",
     "text": [
      "/Users/kennethleung/opt/anaconda3/lib/python3.9/site-packages/sklearn/utils/validation.py:757: FutureWarning: is_sparse is deprecated and will be removed in a future version. Check `isinstance(dtype, pd.SparseDtype)` instead.\n",
      "  if not hasattr(array, \"sparse\") and array.dtypes.apply(is_sparse).any():\n",
      "/Users/kennethleung/opt/anaconda3/lib/python3.9/site-packages/sklearn/utils/validation.py:595: FutureWarning: is_sparse is deprecated and will be removed in a future version. Check `isinstance(dtype, pd.SparseDtype)` instead.\n",
      "  if is_sparse(pd_dtype):\n",
      "/Users/kennethleung/opt/anaconda3/lib/python3.9/site-packages/sklearn/utils/validation.py:604: FutureWarning: is_sparse is deprecated and will be removed in a future version. Check `isinstance(dtype, pd.SparseDtype)` instead.\n",
      "  if is_sparse(pd_dtype) or not is_extension_array_dtype(pd_dtype):\n",
      "/var/folders/wj/gwqv8kfj18317lgnlmf6zypw0000gn/T/ipykernel_1406/616591595.py:10: FutureWarning: suggest_loguniform has been deprecated in v3.0.0. This feature will be removed in v6.0.0. See https://github.com/optuna/optuna/releases/tag/v3.0.0. Use suggest_float(..., log=True) instead.\n",
      "  'lambda': trial.suggest_loguniform('lambda', 1e-3, 10.0),\n",
      "/var/folders/wj/gwqv8kfj18317lgnlmf6zypw0000gn/T/ipykernel_1406/616591595.py:11: FutureWarning: suggest_loguniform has been deprecated in v3.0.0. This feature will be removed in v6.0.0. See https://github.com/optuna/optuna/releases/tag/v3.0.0. Use suggest_float(..., log=True) instead.\n",
      "  'alpha': trial.suggest_loguniform('alpha', 1e-3, 10.0),\n",
      "/Users/kennethleung/opt/anaconda3/lib/python3.9/site-packages/xgboost/sklearn.py:885: UserWarning: `early_stopping_rounds` in `fit` method is deprecated for better compatibility with scikit-learn, use `early_stopping_rounds` in constructor or`set_params` instead.\n",
      "  warnings.warn(\n"
     ]
    },
    {
     "name": "stdout",
     "output_type": "stream",
     "text": [
      "[500]\tvalidation_0-rmse:28.81637\n",
      "[1000]\tvalidation_0-rmse:27.88393\n",
      "[1500]\tvalidation_0-rmse:27.36939\n",
      "[2000]\tvalidation_0-rmse:26.96977\n",
      "[2499]\tvalidation_0-rmse:26.65919\n",
      "1\n",
      "[0]\tvalidation_0-rmse:83.94015\n"
     ]
    },
    {
     "name": "stderr",
     "output_type": "stream",
     "text": [
      "/Users/kennethleung/opt/anaconda3/lib/python3.9/site-packages/sklearn/utils/validation.py:757: FutureWarning: is_sparse is deprecated and will be removed in a future version. Check `isinstance(dtype, pd.SparseDtype)` instead.\n",
      "  if not hasattr(array, \"sparse\") and array.dtypes.apply(is_sparse).any():\n",
      "/Users/kennethleung/opt/anaconda3/lib/python3.9/site-packages/sklearn/utils/validation.py:595: FutureWarning: is_sparse is deprecated and will be removed in a future version. Check `isinstance(dtype, pd.SparseDtype)` instead.\n",
      "  if is_sparse(pd_dtype):\n",
      "/Users/kennethleung/opt/anaconda3/lib/python3.9/site-packages/sklearn/utils/validation.py:604: FutureWarning: is_sparse is deprecated and will be removed in a future version. Check `isinstance(dtype, pd.SparseDtype)` instead.\n",
      "  if is_sparse(pd_dtype) or not is_extension_array_dtype(pd_dtype):\n",
      "/var/folders/wj/gwqv8kfj18317lgnlmf6zypw0000gn/T/ipykernel_1406/616591595.py:10: FutureWarning: suggest_loguniform has been deprecated in v3.0.0. This feature will be removed in v6.0.0. See https://github.com/optuna/optuna/releases/tag/v3.0.0. Use suggest_float(..., log=True) instead.\n",
      "  'lambda': trial.suggest_loguniform('lambda', 1e-3, 10.0),\n",
      "/var/folders/wj/gwqv8kfj18317lgnlmf6zypw0000gn/T/ipykernel_1406/616591595.py:11: FutureWarning: suggest_loguniform has been deprecated in v3.0.0. This feature will be removed in v6.0.0. See https://github.com/optuna/optuna/releases/tag/v3.0.0. Use suggest_float(..., log=True) instead.\n",
      "  'alpha': trial.suggest_loguniform('alpha', 1e-3, 10.0),\n",
      "/Users/kennethleung/opt/anaconda3/lib/python3.9/site-packages/xgboost/sklearn.py:885: UserWarning: `early_stopping_rounds` in `fit` method is deprecated for better compatibility with scikit-learn, use `early_stopping_rounds` in constructor or`set_params` instead.\n",
      "  warnings.warn(\n"
     ]
    },
    {
     "name": "stdout",
     "output_type": "stream",
     "text": [
      "[500]\tvalidation_0-rmse:26.55360\n",
      "[1000]\tvalidation_0-rmse:25.09579\n",
      "[1500]\tvalidation_0-rmse:24.13644\n",
      "[1999]\tvalidation_0-rmse:23.37501\n",
      "1\n",
      "[0]\tvalidation_0-rmse:73.73802\n"
     ]
    },
    {
     "name": "stderr",
     "output_type": "stream",
     "text": [
      "/Users/kennethleung/opt/anaconda3/lib/python3.9/site-packages/sklearn/utils/validation.py:757: FutureWarning: is_sparse is deprecated and will be removed in a future version. Check `isinstance(dtype, pd.SparseDtype)` instead.\n",
      "  if not hasattr(array, \"sparse\") and array.dtypes.apply(is_sparse).any():\n",
      "/Users/kennethleung/opt/anaconda3/lib/python3.9/site-packages/sklearn/utils/validation.py:595: FutureWarning: is_sparse is deprecated and will be removed in a future version. Check `isinstance(dtype, pd.SparseDtype)` instead.\n",
      "  if is_sparse(pd_dtype):\n",
      "/Users/kennethleung/opt/anaconda3/lib/python3.9/site-packages/sklearn/utils/validation.py:604: FutureWarning: is_sparse is deprecated and will be removed in a future version. Check `isinstance(dtype, pd.SparseDtype)` instead.\n",
      "  if is_sparse(pd_dtype) or not is_extension_array_dtype(pd_dtype):\n",
      "/var/folders/wj/gwqv8kfj18317lgnlmf6zypw0000gn/T/ipykernel_1406/616591595.py:10: FutureWarning: suggest_loguniform has been deprecated in v3.0.0. This feature will be removed in v6.0.0. See https://github.com/optuna/optuna/releases/tag/v3.0.0. Use suggest_float(..., log=True) instead.\n",
      "  'lambda': trial.suggest_loguniform('lambda', 1e-3, 10.0),\n",
      "/var/folders/wj/gwqv8kfj18317lgnlmf6zypw0000gn/T/ipykernel_1406/616591595.py:11: FutureWarning: suggest_loguniform has been deprecated in v3.0.0. This feature will be removed in v6.0.0. See https://github.com/optuna/optuna/releases/tag/v3.0.0. Use suggest_float(..., log=True) instead.\n",
      "  'alpha': trial.suggest_loguniform('alpha', 1e-3, 10.0),\n",
      "/Users/kennethleung/opt/anaconda3/lib/python3.9/site-packages/xgboost/sklearn.py:885: UserWarning: `early_stopping_rounds` in `fit` method is deprecated for better compatibility with scikit-learn, use `early_stopping_rounds` in constructor or`set_params` instead.\n",
      "  warnings.warn(\n"
     ]
    },
    {
     "name": "stdout",
     "output_type": "stream",
     "text": [
      "[500]\tvalidation_0-rmse:27.88500\n",
      "[1000]\tvalidation_0-rmse:26.98031\n",
      "[1500]\tvalidation_0-rmse:26.49495\n",
      "[1999]\tvalidation_0-rmse:26.09816\n",
      "1\n",
      "[0]\tvalidation_0-rmse:83.98371\n"
     ]
    },
    {
     "name": "stderr",
     "output_type": "stream",
     "text": [
      "/Users/kennethleung/opt/anaconda3/lib/python3.9/site-packages/sklearn/utils/validation.py:757: FutureWarning: is_sparse is deprecated and will be removed in a future version. Check `isinstance(dtype, pd.SparseDtype)` instead.\n",
      "  if not hasattr(array, \"sparse\") and array.dtypes.apply(is_sparse).any():\n",
      "/Users/kennethleung/opt/anaconda3/lib/python3.9/site-packages/sklearn/utils/validation.py:595: FutureWarning: is_sparse is deprecated and will be removed in a future version. Check `isinstance(dtype, pd.SparseDtype)` instead.\n",
      "  if is_sparse(pd_dtype):\n",
      "/Users/kennethleung/opt/anaconda3/lib/python3.9/site-packages/sklearn/utils/validation.py:604: FutureWarning: is_sparse is deprecated and will be removed in a future version. Check `isinstance(dtype, pd.SparseDtype)` instead.\n",
      "  if is_sparse(pd_dtype) or not is_extension_array_dtype(pd_dtype):\n",
      "/var/folders/wj/gwqv8kfj18317lgnlmf6zypw0000gn/T/ipykernel_1406/616591595.py:10: FutureWarning: suggest_loguniform has been deprecated in v3.0.0. This feature will be removed in v6.0.0. See https://github.com/optuna/optuna/releases/tag/v3.0.0. Use suggest_float(..., log=True) instead.\n",
      "  'lambda': trial.suggest_loguniform('lambda', 1e-3, 10.0),\n",
      "/var/folders/wj/gwqv8kfj18317lgnlmf6zypw0000gn/T/ipykernel_1406/616591595.py:11: FutureWarning: suggest_loguniform has been deprecated in v3.0.0. This feature will be removed in v6.0.0. See https://github.com/optuna/optuna/releases/tag/v3.0.0. Use suggest_float(..., log=True) instead.\n",
      "  'alpha': trial.suggest_loguniform('alpha', 1e-3, 10.0),\n",
      "/Users/kennethleung/opt/anaconda3/lib/python3.9/site-packages/xgboost/sklearn.py:885: UserWarning: `early_stopping_rounds` in `fit` method is deprecated for better compatibility with scikit-learn, use `early_stopping_rounds` in constructor or`set_params` instead.\n",
      "  warnings.warn(\n"
     ]
    },
    {
     "name": "stdout",
     "output_type": "stream",
     "text": [
      "[500]\tvalidation_0-rmse:29.25512\n",
      "[1000]\tvalidation_0-rmse:28.22773\n",
      "[1500]\tvalidation_0-rmse:27.72697\n",
      "[2000]\tvalidation_0-rmse:27.33297\n",
      "[2500]\tvalidation_0-rmse:27.01984\n",
      "[2999]\tvalidation_0-rmse:26.74549\n",
      "1\n",
      "[0]\tvalidation_0-rmse:83.87337\n"
     ]
    },
    {
     "name": "stderr",
     "output_type": "stream",
     "text": [
      "/Users/kennethleung/opt/anaconda3/lib/python3.9/site-packages/sklearn/utils/validation.py:757: FutureWarning: is_sparse is deprecated and will be removed in a future version. Check `isinstance(dtype, pd.SparseDtype)` instead.\n",
      "  if not hasattr(array, \"sparse\") and array.dtypes.apply(is_sparse).any():\n",
      "/Users/kennethleung/opt/anaconda3/lib/python3.9/site-packages/sklearn/utils/validation.py:595: FutureWarning: is_sparse is deprecated and will be removed in a future version. Check `isinstance(dtype, pd.SparseDtype)` instead.\n",
      "  if is_sparse(pd_dtype):\n",
      "/Users/kennethleung/opt/anaconda3/lib/python3.9/site-packages/sklearn/utils/validation.py:604: FutureWarning: is_sparse is deprecated and will be removed in a future version. Check `isinstance(dtype, pd.SparseDtype)` instead.\n",
      "  if is_sparse(pd_dtype) or not is_extension_array_dtype(pd_dtype):\n",
      "/var/folders/wj/gwqv8kfj18317lgnlmf6zypw0000gn/T/ipykernel_1406/616591595.py:10: FutureWarning: suggest_loguniform has been deprecated in v3.0.0. This feature will be removed in v6.0.0. See https://github.com/optuna/optuna/releases/tag/v3.0.0. Use suggest_float(..., log=True) instead.\n",
      "  'lambda': trial.suggest_loguniform('lambda', 1e-3, 10.0),\n",
      "/var/folders/wj/gwqv8kfj18317lgnlmf6zypw0000gn/T/ipykernel_1406/616591595.py:11: FutureWarning: suggest_loguniform has been deprecated in v3.0.0. This feature will be removed in v6.0.0. See https://github.com/optuna/optuna/releases/tag/v3.0.0. Use suggest_float(..., log=True) instead.\n",
      "  'alpha': trial.suggest_loguniform('alpha', 1e-3, 10.0),\n",
      "/Users/kennethleung/opt/anaconda3/lib/python3.9/site-packages/xgboost/sklearn.py:885: UserWarning: `early_stopping_rounds` in `fit` method is deprecated for better compatibility with scikit-learn, use `early_stopping_rounds` in constructor or`set_params` instead.\n",
      "  warnings.warn(\n"
     ]
    },
    {
     "name": "stdout",
     "output_type": "stream",
     "text": [
      "[500]\tvalidation_0-rmse:23.80846\n",
      "[1000]\tvalidation_0-rmse:21.42553\n",
      "[1499]\tvalidation_0-rmse:19.72065\n",
      "1\n",
      "[0]\tvalidation_0-rmse:78.02118\n"
     ]
    },
    {
     "name": "stderr",
     "output_type": "stream",
     "text": [
      "/Users/kennethleung/opt/anaconda3/lib/python3.9/site-packages/sklearn/utils/validation.py:757: FutureWarning: is_sparse is deprecated and will be removed in a future version. Check `isinstance(dtype, pd.SparseDtype)` instead.\n",
      "  if not hasattr(array, \"sparse\") and array.dtypes.apply(is_sparse).any():\n",
      "/Users/kennethleung/opt/anaconda3/lib/python3.9/site-packages/sklearn/utils/validation.py:595: FutureWarning: is_sparse is deprecated and will be removed in a future version. Check `isinstance(dtype, pd.SparseDtype)` instead.\n",
      "  if is_sparse(pd_dtype):\n",
      "/Users/kennethleung/opt/anaconda3/lib/python3.9/site-packages/sklearn/utils/validation.py:604: FutureWarning: is_sparse is deprecated and will be removed in a future version. Check `isinstance(dtype, pd.SparseDtype)` instead.\n",
      "  if is_sparse(pd_dtype) or not is_extension_array_dtype(pd_dtype):\n",
      "/var/folders/wj/gwqv8kfj18317lgnlmf6zypw0000gn/T/ipykernel_1406/616591595.py:10: FutureWarning: suggest_loguniform has been deprecated in v3.0.0. This feature will be removed in v6.0.0. See https://github.com/optuna/optuna/releases/tag/v3.0.0. Use suggest_float(..., log=True) instead.\n",
      "  'lambda': trial.suggest_loguniform('lambda', 1e-3, 10.0),\n",
      "/var/folders/wj/gwqv8kfj18317lgnlmf6zypw0000gn/T/ipykernel_1406/616591595.py:11: FutureWarning: suggest_loguniform has been deprecated in v3.0.0. This feature will be removed in v6.0.0. See https://github.com/optuna/optuna/releases/tag/v3.0.0. Use suggest_float(..., log=True) instead.\n",
      "  'alpha': trial.suggest_loguniform('alpha', 1e-3, 10.0),\n",
      "/Users/kennethleung/opt/anaconda3/lib/python3.9/site-packages/xgboost/sklearn.py:885: UserWarning: `early_stopping_rounds` in `fit` method is deprecated for better compatibility with scikit-learn, use `early_stopping_rounds` in constructor or`set_params` instead.\n",
      "  warnings.warn(\n"
     ]
    },
    {
     "name": "stdout",
     "output_type": "stream",
     "text": [
      "[500]\tvalidation_0-rmse:5.42454\n",
      "[1000]\tvalidation_0-rmse:1.77468\n",
      "[1500]\tvalidation_0-rmse:0.67471\n",
      "[2000]\tvalidation_0-rmse:0.27509\n",
      "[2499]\tvalidation_0-rmse:0.11871\n",
      "1\n",
      "[0]\tvalidation_0-rmse:84.49599\n"
     ]
    },
    {
     "name": "stderr",
     "output_type": "stream",
     "text": [
      "/Users/kennethleung/opt/anaconda3/lib/python3.9/site-packages/sklearn/utils/validation.py:757: FutureWarning: is_sparse is deprecated and will be removed in a future version. Check `isinstance(dtype, pd.SparseDtype)` instead.\n",
      "  if not hasattr(array, \"sparse\") and array.dtypes.apply(is_sparse).any():\n",
      "/Users/kennethleung/opt/anaconda3/lib/python3.9/site-packages/sklearn/utils/validation.py:595: FutureWarning: is_sparse is deprecated and will be removed in a future version. Check `isinstance(dtype, pd.SparseDtype)` instead.\n",
      "  if is_sparse(pd_dtype):\n",
      "/Users/kennethleung/opt/anaconda3/lib/python3.9/site-packages/sklearn/utils/validation.py:604: FutureWarning: is_sparse is deprecated and will be removed in a future version. Check `isinstance(dtype, pd.SparseDtype)` instead.\n",
      "  if is_sparse(pd_dtype) or not is_extension_array_dtype(pd_dtype):\n",
      "/var/folders/wj/gwqv8kfj18317lgnlmf6zypw0000gn/T/ipykernel_1406/616591595.py:10: FutureWarning: suggest_loguniform has been deprecated in v3.0.0. This feature will be removed in v6.0.0. See https://github.com/optuna/optuna/releases/tag/v3.0.0. Use suggest_float(..., log=True) instead.\n",
      "  'lambda': trial.suggest_loguniform('lambda', 1e-3, 10.0),\n",
      "/var/folders/wj/gwqv8kfj18317lgnlmf6zypw0000gn/T/ipykernel_1406/616591595.py:11: FutureWarning: suggest_loguniform has been deprecated in v3.0.0. This feature will be removed in v6.0.0. See https://github.com/optuna/optuna/releases/tag/v3.0.0. Use suggest_float(..., log=True) instead.\n",
      "  'alpha': trial.suggest_loguniform('alpha', 1e-3, 10.0),\n",
      "/Users/kennethleung/opt/anaconda3/lib/python3.9/site-packages/xgboost/sklearn.py:885: UserWarning: `early_stopping_rounds` in `fit` method is deprecated for better compatibility with scikit-learn, use `early_stopping_rounds` in constructor or`set_params` instead.\n",
      "  warnings.warn(\n"
     ]
    },
    {
     "name": "stdout",
     "output_type": "stream",
     "text": [
      "[500]\tvalidation_0-rmse:60.67331\n",
      "[999]\tvalidation_0-rmse:46.78457\n",
      "1\n",
      "[0]\tvalidation_0-rmse:83.97205\n"
     ]
    },
    {
     "name": "stderr",
     "output_type": "stream",
     "text": [
      "/Users/kennethleung/opt/anaconda3/lib/python3.9/site-packages/sklearn/utils/validation.py:757: FutureWarning: is_sparse is deprecated and will be removed in a future version. Check `isinstance(dtype, pd.SparseDtype)` instead.\n",
      "  if not hasattr(array, \"sparse\") and array.dtypes.apply(is_sparse).any():\n",
      "/Users/kennethleung/opt/anaconda3/lib/python3.9/site-packages/sklearn/utils/validation.py:595: FutureWarning: is_sparse is deprecated and will be removed in a future version. Check `isinstance(dtype, pd.SparseDtype)` instead.\n",
      "  if is_sparse(pd_dtype):\n",
      "/Users/kennethleung/opt/anaconda3/lib/python3.9/site-packages/sklearn/utils/validation.py:604: FutureWarning: is_sparse is deprecated and will be removed in a future version. Check `isinstance(dtype, pd.SparseDtype)` instead.\n",
      "  if is_sparse(pd_dtype) or not is_extension_array_dtype(pd_dtype):\n",
      "/var/folders/wj/gwqv8kfj18317lgnlmf6zypw0000gn/T/ipykernel_1406/616591595.py:10: FutureWarning: suggest_loguniform has been deprecated in v3.0.0. This feature will be removed in v6.0.0. See https://github.com/optuna/optuna/releases/tag/v3.0.0. Use suggest_float(..., log=True) instead.\n",
      "  'lambda': trial.suggest_loguniform('lambda', 1e-3, 10.0),\n",
      "/var/folders/wj/gwqv8kfj18317lgnlmf6zypw0000gn/T/ipykernel_1406/616591595.py:11: FutureWarning: suggest_loguniform has been deprecated in v3.0.0. This feature will be removed in v6.0.0. See https://github.com/optuna/optuna/releases/tag/v3.0.0. Use suggest_float(..., log=True) instead.\n",
      "  'alpha': trial.suggest_loguniform('alpha', 1e-3, 10.0),\n",
      "/Users/kennethleung/opt/anaconda3/lib/python3.9/site-packages/xgboost/sklearn.py:885: UserWarning: `early_stopping_rounds` in `fit` method is deprecated for better compatibility with scikit-learn, use `early_stopping_rounds` in constructor or`set_params` instead.\n",
      "  warnings.warn(\n"
     ]
    },
    {
     "name": "stdout",
     "output_type": "stream",
     "text": [
      "[500]\tvalidation_0-rmse:29.43282\n",
      "[999]\tvalidation_0-rmse:28.59197\n",
      "1\n",
      "[0]\tvalidation_0-rmse:65.27524\n"
     ]
    },
    {
     "name": "stderr",
     "output_type": "stream",
     "text": [
      "/Users/kennethleung/opt/anaconda3/lib/python3.9/site-packages/sklearn/utils/validation.py:757: FutureWarning: is_sparse is deprecated and will be removed in a future version. Check `isinstance(dtype, pd.SparseDtype)` instead.\n",
      "  if not hasattr(array, \"sparse\") and array.dtypes.apply(is_sparse).any():\n",
      "/Users/kennethleung/opt/anaconda3/lib/python3.9/site-packages/sklearn/utils/validation.py:595: FutureWarning: is_sparse is deprecated and will be removed in a future version. Check `isinstance(dtype, pd.SparseDtype)` instead.\n",
      "  if is_sparse(pd_dtype):\n",
      "/Users/kennethleung/opt/anaconda3/lib/python3.9/site-packages/sklearn/utils/validation.py:604: FutureWarning: is_sparse is deprecated and will be removed in a future version. Check `isinstance(dtype, pd.SparseDtype)` instead.\n",
      "  if is_sparse(pd_dtype) or not is_extension_array_dtype(pd_dtype):\n",
      "/var/folders/wj/gwqv8kfj18317lgnlmf6zypw0000gn/T/ipykernel_1406/616591595.py:10: FutureWarning: suggest_loguniform has been deprecated in v3.0.0. This feature will be removed in v6.0.0. See https://github.com/optuna/optuna/releases/tag/v3.0.0. Use suggest_float(..., log=True) instead.\n",
      "  'lambda': trial.suggest_loguniform('lambda', 1e-3, 10.0),\n",
      "/var/folders/wj/gwqv8kfj18317lgnlmf6zypw0000gn/T/ipykernel_1406/616591595.py:11: FutureWarning: suggest_loguniform has been deprecated in v3.0.0. This feature will be removed in v6.0.0. See https://github.com/optuna/optuna/releases/tag/v3.0.0. Use suggest_float(..., log=True) instead.\n",
      "  'alpha': trial.suggest_loguniform('alpha', 1e-3, 10.0),\n",
      "/Users/kennethleung/opt/anaconda3/lib/python3.9/site-packages/xgboost/sklearn.py:885: UserWarning: `early_stopping_rounds` in `fit` method is deprecated for better compatibility with scikit-learn, use `early_stopping_rounds` in constructor or`set_params` instead.\n",
      "  warnings.warn(\n"
     ]
    },
    {
     "name": "stdout",
     "output_type": "stream",
     "text": [
      "[500]\tvalidation_0-rmse:24.46383\n",
      "[1000]\tvalidation_0-rmse:22.75498\n",
      "[1499]\tvalidation_0-rmse:21.52948\n",
      "1\n",
      "[0]\tvalidation_0-rmse:79.54242\n"
     ]
    },
    {
     "name": "stderr",
     "output_type": "stream",
     "text": [
      "/Users/kennethleung/opt/anaconda3/lib/python3.9/site-packages/sklearn/utils/validation.py:757: FutureWarning: is_sparse is deprecated and will be removed in a future version. Check `isinstance(dtype, pd.SparseDtype)` instead.\n",
      "  if not hasattr(array, \"sparse\") and array.dtypes.apply(is_sparse).any():\n",
      "/Users/kennethleung/opt/anaconda3/lib/python3.9/site-packages/sklearn/utils/validation.py:595: FutureWarning: is_sparse is deprecated and will be removed in a future version. Check `isinstance(dtype, pd.SparseDtype)` instead.\n",
      "  if is_sparse(pd_dtype):\n",
      "/Users/kennethleung/opt/anaconda3/lib/python3.9/site-packages/sklearn/utils/validation.py:604: FutureWarning: is_sparse is deprecated and will be removed in a future version. Check `isinstance(dtype, pd.SparseDtype)` instead.\n",
      "  if is_sparse(pd_dtype) or not is_extension_array_dtype(pd_dtype):\n",
      "/var/folders/wj/gwqv8kfj18317lgnlmf6zypw0000gn/T/ipykernel_1406/616591595.py:10: FutureWarning: suggest_loguniform has been deprecated in v3.0.0. This feature will be removed in v6.0.0. See https://github.com/optuna/optuna/releases/tag/v3.0.0. Use suggest_float(..., log=True) instead.\n",
      "  'lambda': trial.suggest_loguniform('lambda', 1e-3, 10.0),\n",
      "/var/folders/wj/gwqv8kfj18317lgnlmf6zypw0000gn/T/ipykernel_1406/616591595.py:11: FutureWarning: suggest_loguniform has been deprecated in v3.0.0. This feature will be removed in v6.0.0. See https://github.com/optuna/optuna/releases/tag/v3.0.0. Use suggest_float(..., log=True) instead.\n",
      "  'alpha': trial.suggest_loguniform('alpha', 1e-3, 10.0),\n",
      "/Users/kennethleung/opt/anaconda3/lib/python3.9/site-packages/xgboost/sklearn.py:885: UserWarning: `early_stopping_rounds` in `fit` method is deprecated for better compatibility with scikit-learn, use `early_stopping_rounds` in constructor or`set_params` instead.\n",
      "  warnings.warn(\n"
     ]
    },
    {
     "name": "stdout",
     "output_type": "stream",
     "text": [
      "[500]\tvalidation_0-rmse:20.49215\n",
      "[1000]\tvalidation_0-rmse:17.55231\n",
      "[1500]\tvalidation_0-rmse:15.54562\n",
      "[1999]\tvalidation_0-rmse:13.98541\n",
      "1\n",
      "[0]\tvalidation_0-rmse:83.96276\n"
     ]
    },
    {
     "name": "stderr",
     "output_type": "stream",
     "text": [
      "/Users/kennethleung/opt/anaconda3/lib/python3.9/site-packages/sklearn/utils/validation.py:757: FutureWarning: is_sparse is deprecated and will be removed in a future version. Check `isinstance(dtype, pd.SparseDtype)` instead.\n",
      "  if not hasattr(array, \"sparse\") and array.dtypes.apply(is_sparse).any():\n",
      "/Users/kennethleung/opt/anaconda3/lib/python3.9/site-packages/sklearn/utils/validation.py:595: FutureWarning: is_sparse is deprecated and will be removed in a future version. Check `isinstance(dtype, pd.SparseDtype)` instead.\n",
      "  if is_sparse(pd_dtype):\n",
      "/Users/kennethleung/opt/anaconda3/lib/python3.9/site-packages/sklearn/utils/validation.py:604: FutureWarning: is_sparse is deprecated and will be removed in a future version. Check `isinstance(dtype, pd.SparseDtype)` instead.\n",
      "  if is_sparse(pd_dtype) or not is_extension_array_dtype(pd_dtype):\n",
      "/var/folders/wj/gwqv8kfj18317lgnlmf6zypw0000gn/T/ipykernel_1406/616591595.py:10: FutureWarning: suggest_loguniform has been deprecated in v3.0.0. This feature will be removed in v6.0.0. See https://github.com/optuna/optuna/releases/tag/v3.0.0. Use suggest_float(..., log=True) instead.\n",
      "  'lambda': trial.suggest_loguniform('lambda', 1e-3, 10.0),\n",
      "/var/folders/wj/gwqv8kfj18317lgnlmf6zypw0000gn/T/ipykernel_1406/616591595.py:11: FutureWarning: suggest_loguniform has been deprecated in v3.0.0. This feature will be removed in v6.0.0. See https://github.com/optuna/optuna/releases/tag/v3.0.0. Use suggest_float(..., log=True) instead.\n",
      "  'alpha': trial.suggest_loguniform('alpha', 1e-3, 10.0),\n",
      "/Users/kennethleung/opt/anaconda3/lib/python3.9/site-packages/xgboost/sklearn.py:885: UserWarning: `early_stopping_rounds` in `fit` method is deprecated for better compatibility with scikit-learn, use `early_stopping_rounds` in constructor or`set_params` instead.\n",
      "  warnings.warn(\n"
     ]
    },
    {
     "name": "stdout",
     "output_type": "stream",
     "text": [
      "[500]\tvalidation_0-rmse:35.86675\n",
      "[999]\tvalidation_0-rmse:35.25754\n",
      "1\n",
      "[0]\tvalidation_0-rmse:83.18005\n"
     ]
    },
    {
     "name": "stderr",
     "output_type": "stream",
     "text": [
      "/Users/kennethleung/opt/anaconda3/lib/python3.9/site-packages/sklearn/utils/validation.py:757: FutureWarning: is_sparse is deprecated and will be removed in a future version. Check `isinstance(dtype, pd.SparseDtype)` instead.\n",
      "  if not hasattr(array, \"sparse\") and array.dtypes.apply(is_sparse).any():\n",
      "/Users/kennethleung/opt/anaconda3/lib/python3.9/site-packages/sklearn/utils/validation.py:595: FutureWarning: is_sparse is deprecated and will be removed in a future version. Check `isinstance(dtype, pd.SparseDtype)` instead.\n",
      "  if is_sparse(pd_dtype):\n",
      "/Users/kennethleung/opt/anaconda3/lib/python3.9/site-packages/sklearn/utils/validation.py:604: FutureWarning: is_sparse is deprecated and will be removed in a future version. Check `isinstance(dtype, pd.SparseDtype)` instead.\n",
      "  if is_sparse(pd_dtype) or not is_extension_array_dtype(pd_dtype):\n",
      "/var/folders/wj/gwqv8kfj18317lgnlmf6zypw0000gn/T/ipykernel_1406/616591595.py:10: FutureWarning: suggest_loguniform has been deprecated in v3.0.0. This feature will be removed in v6.0.0. See https://github.com/optuna/optuna/releases/tag/v3.0.0. Use suggest_float(..., log=True) instead.\n",
      "  'lambda': trial.suggest_loguniform('lambda', 1e-3, 10.0),\n",
      "/var/folders/wj/gwqv8kfj18317lgnlmf6zypw0000gn/T/ipykernel_1406/616591595.py:11: FutureWarning: suggest_loguniform has been deprecated in v3.0.0. This feature will be removed in v6.0.0. See https://github.com/optuna/optuna/releases/tag/v3.0.0. Use suggest_float(..., log=True) instead.\n",
      "  'alpha': trial.suggest_loguniform('alpha', 1e-3, 10.0),\n",
      "/Users/kennethleung/opt/anaconda3/lib/python3.9/site-packages/xgboost/sklearn.py:885: UserWarning: `early_stopping_rounds` in `fit` method is deprecated for better compatibility with scikit-learn, use `early_stopping_rounds` in constructor or`set_params` instead.\n",
      "  warnings.warn(\n"
     ]
    },
    {
     "name": "stdout",
     "output_type": "stream",
     "text": [
      "[500]\tvalidation_0-rmse:17.88064\n",
      "[1000]\tvalidation_0-rmse:13.20507\n",
      "[1500]\tvalidation_0-rmse:10.28771\n",
      "[2000]\tvalidation_0-rmse:8.26533\n",
      "[2500]\tvalidation_0-rmse:6.76205\n",
      "[3000]\tvalidation_0-rmse:5.62045\n",
      "[3500]\tvalidation_0-rmse:4.72913\n",
      "[3999]\tvalidation_0-rmse:4.02039\n",
      "1\n",
      "[0]\tvalidation_0-rmse:81.49971\n"
     ]
    },
    {
     "name": "stderr",
     "output_type": "stream",
     "text": [
      "/Users/kennethleung/opt/anaconda3/lib/python3.9/site-packages/sklearn/utils/validation.py:757: FutureWarning: is_sparse is deprecated and will be removed in a future version. Check `isinstance(dtype, pd.SparseDtype)` instead.\n",
      "  if not hasattr(array, \"sparse\") and array.dtypes.apply(is_sparse).any():\n",
      "/Users/kennethleung/opt/anaconda3/lib/python3.9/site-packages/sklearn/utils/validation.py:595: FutureWarning: is_sparse is deprecated and will be removed in a future version. Check `isinstance(dtype, pd.SparseDtype)` instead.\n",
      "  if is_sparse(pd_dtype):\n",
      "/Users/kennethleung/opt/anaconda3/lib/python3.9/site-packages/sklearn/utils/validation.py:604: FutureWarning: is_sparse is deprecated and will be removed in a future version. Check `isinstance(dtype, pd.SparseDtype)` instead.\n",
      "  if is_sparse(pd_dtype) or not is_extension_array_dtype(pd_dtype):\n",
      "/var/folders/wj/gwqv8kfj18317lgnlmf6zypw0000gn/T/ipykernel_1406/616591595.py:10: FutureWarning: suggest_loguniform has been deprecated in v3.0.0. This feature will be removed in v6.0.0. See https://github.com/optuna/optuna/releases/tag/v3.0.0. Use suggest_float(..., log=True) instead.\n",
      "  'lambda': trial.suggest_loguniform('lambda', 1e-3, 10.0),\n",
      "/var/folders/wj/gwqv8kfj18317lgnlmf6zypw0000gn/T/ipykernel_1406/616591595.py:11: FutureWarning: suggest_loguniform has been deprecated in v3.0.0. This feature will be removed in v6.0.0. See https://github.com/optuna/optuna/releases/tag/v3.0.0. Use suggest_float(..., log=True) instead.\n",
      "  'alpha': trial.suggest_loguniform('alpha', 1e-3, 10.0),\n",
      "/Users/kennethleung/opt/anaconda3/lib/python3.9/site-packages/xgboost/sklearn.py:885: UserWarning: `early_stopping_rounds` in `fit` method is deprecated for better compatibility with scikit-learn, use `early_stopping_rounds` in constructor or`set_params` instead.\n",
      "  warnings.warn(\n"
     ]
    },
    {
     "name": "stdout",
     "output_type": "stream",
     "text": [
      "[499]\tvalidation_0-rmse:27.66253\n",
      "1\n",
      "[0]\tvalidation_0-rmse:84.48849\n"
     ]
    },
    {
     "name": "stderr",
     "output_type": "stream",
     "text": [
      "/Users/kennethleung/opt/anaconda3/lib/python3.9/site-packages/sklearn/utils/validation.py:757: FutureWarning: is_sparse is deprecated and will be removed in a future version. Check `isinstance(dtype, pd.SparseDtype)` instead.\n",
      "  if not hasattr(array, \"sparse\") and array.dtypes.apply(is_sparse).any():\n",
      "/Users/kennethleung/opt/anaconda3/lib/python3.9/site-packages/sklearn/utils/validation.py:595: FutureWarning: is_sparse is deprecated and will be removed in a future version. Check `isinstance(dtype, pd.SparseDtype)` instead.\n",
      "  if is_sparse(pd_dtype):\n",
      "/Users/kennethleung/opt/anaconda3/lib/python3.9/site-packages/sklearn/utils/validation.py:604: FutureWarning: is_sparse is deprecated and will be removed in a future version. Check `isinstance(dtype, pd.SparseDtype)` instead.\n",
      "  if is_sparse(pd_dtype) or not is_extension_array_dtype(pd_dtype):\n",
      "/var/folders/wj/gwqv8kfj18317lgnlmf6zypw0000gn/T/ipykernel_1406/616591595.py:10: FutureWarning: suggest_loguniform has been deprecated in v3.0.0. This feature will be removed in v6.0.0. See https://github.com/optuna/optuna/releases/tag/v3.0.0. Use suggest_float(..., log=True) instead.\n",
      "  'lambda': trial.suggest_loguniform('lambda', 1e-3, 10.0),\n",
      "/var/folders/wj/gwqv8kfj18317lgnlmf6zypw0000gn/T/ipykernel_1406/616591595.py:11: FutureWarning: suggest_loguniform has been deprecated in v3.0.0. This feature will be removed in v6.0.0. See https://github.com/optuna/optuna/releases/tag/v3.0.0. Use suggest_float(..., log=True) instead.\n",
      "  'alpha': trial.suggest_loguniform('alpha', 1e-3, 10.0),\n",
      "/Users/kennethleung/opt/anaconda3/lib/python3.9/site-packages/xgboost/sklearn.py:885: UserWarning: `early_stopping_rounds` in `fit` method is deprecated for better compatibility with scikit-learn, use `early_stopping_rounds` in constructor or`set_params` instead.\n",
      "  warnings.warn(\n"
     ]
    },
    {
     "name": "stdout",
     "output_type": "stream",
     "text": [
      "[500]\tvalidation_0-rmse:58.28545\n",
      "[1000]\tvalidation_0-rmse:43.20945\n",
      "[1499]\tvalidation_0-rmse:35.13526\n",
      "1\n",
      "[0]\tvalidation_0-rmse:78.11740\n"
     ]
    },
    {
     "name": "stderr",
     "output_type": "stream",
     "text": [
      "/Users/kennethleung/opt/anaconda3/lib/python3.9/site-packages/sklearn/utils/validation.py:757: FutureWarning: is_sparse is deprecated and will be removed in a future version. Check `isinstance(dtype, pd.SparseDtype)` instead.\n",
      "  if not hasattr(array, \"sparse\") and array.dtypes.apply(is_sparse).any():\n",
      "/Users/kennethleung/opt/anaconda3/lib/python3.9/site-packages/sklearn/utils/validation.py:595: FutureWarning: is_sparse is deprecated and will be removed in a future version. Check `isinstance(dtype, pd.SparseDtype)` instead.\n",
      "  if is_sparse(pd_dtype):\n",
      "/Users/kennethleung/opt/anaconda3/lib/python3.9/site-packages/sklearn/utils/validation.py:604: FutureWarning: is_sparse is deprecated and will be removed in a future version. Check `isinstance(dtype, pd.SparseDtype)` instead.\n",
      "  if is_sparse(pd_dtype) or not is_extension_array_dtype(pd_dtype):\n",
      "/var/folders/wj/gwqv8kfj18317lgnlmf6zypw0000gn/T/ipykernel_1406/616591595.py:10: FutureWarning: suggest_loguniform has been deprecated in v3.0.0. This feature will be removed in v6.0.0. See https://github.com/optuna/optuna/releases/tag/v3.0.0. Use suggest_float(..., log=True) instead.\n",
      "  'lambda': trial.suggest_loguniform('lambda', 1e-3, 10.0),\n",
      "/var/folders/wj/gwqv8kfj18317lgnlmf6zypw0000gn/T/ipykernel_1406/616591595.py:11: FutureWarning: suggest_loguniform has been deprecated in v3.0.0. This feature will be removed in v6.0.0. See https://github.com/optuna/optuna/releases/tag/v3.0.0. Use suggest_float(..., log=True) instead.\n",
      "  'alpha': trial.suggest_loguniform('alpha', 1e-3, 10.0),\n",
      "/Users/kennethleung/opt/anaconda3/lib/python3.9/site-packages/xgboost/sklearn.py:885: UserWarning: `early_stopping_rounds` in `fit` method is deprecated for better compatibility with scikit-learn, use `early_stopping_rounds` in constructor or`set_params` instead.\n",
      "  warnings.warn(\n"
     ]
    },
    {
     "name": "stdout",
     "output_type": "stream",
     "text": [
      "[368]\tvalidation_0-rmse:57.37288\n"
     ]
    },
    {
     "name": "stderr",
     "output_type": "stream",
     "text": [
      "/Users/kennethleung/opt/anaconda3/lib/python3.9/site-packages/sklearn/utils/validation.py:757: FutureWarning: is_sparse is deprecated and will be removed in a future version. Check `isinstance(dtype, pd.SparseDtype)` instead.\n",
      "  if not hasattr(array, \"sparse\") and array.dtypes.apply(is_sparse).any():\n",
      "/Users/kennethleung/opt/anaconda3/lib/python3.9/site-packages/sklearn/utils/validation.py:595: FutureWarning: is_sparse is deprecated and will be removed in a future version. Check `isinstance(dtype, pd.SparseDtype)` instead.\n",
      "  if is_sparse(pd_dtype):\n",
      "/Users/kennethleung/opt/anaconda3/lib/python3.9/site-packages/sklearn/utils/validation.py:604: FutureWarning: is_sparse is deprecated and will be removed in a future version. Check `isinstance(dtype, pd.SparseDtype)` instead.\n",
      "  if is_sparse(pd_dtype) or not is_extension_array_dtype(pd_dtype):\n"
     ]
    }
   ],
   "source": [
    "optuna.logging.set_verbosity(optuna.logging.WARNING)\n",
    "study = optuna.create_study(direction='minimize')\n",
    "study.optimize(objective, n_trials=50, show_progress_bar=True)\n"
   ]
  },
  {
   "cell_type": "code",
   "execution_count": 368,
   "id": "16315993",
   "metadata": {},
   "outputs": [
    {
     "name": "stdout",
     "output_type": "stream",
     "text": [
      "Number of finished trials: 50\n",
      "Best trial: {'lambda': 4.380656646974972, 'alpha': 0.006185204172280652, 'colsample_bytree': 0.7, 'subsample': 0.4, 'learning_rate': 0.01, 'n_estimators': 1500, 'max_depth': 15, 'random_state': 2020, 'min_child_weight': 34}\n",
      "Best objective value: 744.6785977847622\n"
     ]
    }
   ],
   "source": [
    "print('Number of finished trials:', len(study.trials))\n",
    "print('Best trial:', study.best_trial.params)\n",
    "print('Best objective value:', study.best_value)"
   ]
  },
  {
   "cell_type": "code",
   "execution_count": 481,
   "id": "bdead14e",
   "metadata": {},
   "outputs": [],
   "source": [
    "best_params = {'lambda': 4.380656646974972, \n",
    "               'alpha': 0.006185204172280652, \n",
    "               'colsample_bytree': 0.7, \n",
    "               'subsample': 0.4, \n",
    "               'learning_rate': 0.01, \n",
    "               'n_estimators': 1150, \n",
    "               'max_depth': 15, \n",
    "               'random_state': 2020, \n",
    "               'min_child_weight': 34}"
   ]
  },
  {
   "cell_type": "code",
   "execution_count": 482,
   "id": "4c6ce125",
   "metadata": {
    "scrolled": true
   },
   "outputs": [
    {
     "name": "stdout",
     "output_type": "stream",
     "text": [
      "[0]\tvalidation_0-rmse:83.88299\n"
     ]
    },
    {
     "name": "stderr",
     "output_type": "stream",
     "text": [
      "/Users/kennethleung/opt/anaconda3/lib/python3.9/site-packages/xgboost/sklearn.py:885: UserWarning: `early_stopping_rounds` in `fit` method is deprecated for better compatibility with scikit-learn, use `early_stopping_rounds` in constructor or`set_params` instead.\n",
      "  warnings.warn(\n"
     ]
    },
    {
     "name": "stdout",
     "output_type": "stream",
     "text": [
      "[500]\tvalidation_0-rmse:27.26393\n",
      "[1000]\tvalidation_0-rmse:25.96142\n",
      "[1149]\tvalidation_0-rmse:25.67191\n"
     ]
    },
    {
     "name": "stderr",
     "output_type": "stream",
     "text": [
      "/Users/kennethleung/opt/anaconda3/lib/python3.9/site-packages/sklearn/utils/validation.py:757: FutureWarning: is_sparse is deprecated and will be removed in a future version. Check `isinstance(dtype, pd.SparseDtype)` instead.\n",
      "  if not hasattr(array, \"sparse\") and array.dtypes.apply(is_sparse).any():\n",
      "/Users/kennethleung/opt/anaconda3/lib/python3.9/site-packages/sklearn/utils/validation.py:595: FutureWarning: is_sparse is deprecated and will be removed in a future version. Check `isinstance(dtype, pd.SparseDtype)` instead.\n",
      "  if is_sparse(pd_dtype):\n",
      "/Users/kennethleung/opt/anaconda3/lib/python3.9/site-packages/sklearn/utils/validation.py:604: FutureWarning: is_sparse is deprecated and will be removed in a future version. Check `isinstance(dtype, pd.SparseDtype)` instead.\n",
      "  if is_sparse(pd_dtype) or not is_extension_array_dtype(pd_dtype):\n"
     ]
    },
    {
     "data": {
      "text/plain": [
       "738.5005424066522"
      ]
     },
     "execution_count": 482,
     "metadata": {},
     "output_type": "execute_result"
    }
   ],
   "source": [
    "xgb_model = xgb.XGBRegressor(**best_params) # initialize tree\n",
    "\n",
    "xgb_model.fit(x_train,y_train,eval_set=[(x_train,y_train)],early_stopping_rounds=100,verbose=500)\n",
    "    \n",
    "preds = xgb_model.predict(x_test)\n",
    "\n",
    "rmse = mean_squared_error(y_test, preds,squared=True)\n",
    "rmse"
   ]
  },
  {
   "cell_type": "code",
   "execution_count": 484,
   "id": "7328bfe8",
   "metadata": {
    "scrolled": true
   },
   "outputs": [
    {
     "name": "stderr",
     "output_type": "stream",
     "text": [
      "/var/folders/wj/gwqv8kfj18317lgnlmf6zypw0000gn/T/ipykernel_1406/2211503106.py:6: FutureWarning: Series.__getitem__ treating keys as positions is deprecated. In a future version, integer keys will always be treated as labels (consistent with DataFrame behavior). To access a value by position, use `ser.iloc[pos]`\n",
      "  pred_true[col]=pred_true[col].apply(lambda x: x*y_std[0] + y_mean[0])\n",
      "/var/folders/wj/gwqv8kfj18317lgnlmf6zypw0000gn/T/ipykernel_1406/2211503106.py:10: FutureWarning: Series.__getitem__ treating keys as positions is deprecated. In a future version, integer keys will always be treated as labels (consistent with DataFrame behavior). To access a value by position, use `ser.iloc[pos]`\n",
      "  pred_true[col]=pred_true[col].apply(lambda x: x*y_std[1] +y_mean[1])\n",
      "/var/folders/wj/gwqv8kfj18317lgnlmf6zypw0000gn/T/ipykernel_1406/2211503106.py:14: FutureWarning: Series.__getitem__ treating keys as positions is deprecated. In a future version, integer keys will always be treated as labels (consistent with DataFrame behavior). To access a value by position, use `ser.iloc[pos]`\n",
      "  pred_true[col]=pred_true[col].apply(lambda x: x*y_std[2] +y_mean[2])\n"
     ]
    }
   ],
   "source": [
    "pred_true = pd.DataFrame(preds)\n",
    "\n",
    "for col in pred_true.columns:\n",
    "    if col==0:\n",
    "        \n",
    "        pred_true[col]=pred_true[col].apply(lambda x: x*y_std[0] + y_mean[0])\n",
    "        pred_true[col]=pred_true[col].apply(lambda x: 0 if x < 1 else round(x/90))\n",
    "        \n",
    "    elif col==1:\n",
    "        pred_true[col]=pred_true[col].apply(lambda x: x*y_std[1] +y_mean[1])\n",
    "        pred_true[col]=pred_true[col].apply(lambda x: 0 if x < 1 else round(x/90))\n",
    "        \n",
    "    elif col==2:\n",
    "        pred_true[col]=pred_true[col].apply(lambda x: x*y_std[2] +y_mean[2])\n",
    "        pred_true[col]=pred_true[col].apply(lambda x: 0 if x < 1 else round(x/90))"
   ]
  },
  {
   "cell_type": "code",
   "execution_count": 485,
   "id": "639d6eb0",
   "metadata": {},
   "outputs": [
    {
     "data": {
      "text/html": [
       "<div>\n",
       "<style scoped>\n",
       "    .dataframe tbody tr th:only-of-type {\n",
       "        vertical-align: middle;\n",
       "    }\n",
       "\n",
       "    .dataframe tbody tr th {\n",
       "        vertical-align: top;\n",
       "    }\n",
       "\n",
       "    .dataframe thead th {\n",
       "        text-align: right;\n",
       "    }\n",
       "</style>\n",
       "<table border=\"1\" class=\"dataframe\">\n",
       "  <thead>\n",
       "    <tr style=\"text-align: right;\">\n",
       "      <th></th>\n",
       "      <th>Vacation</th>\n",
       "      <th>pred_vacation</th>\n",
       "      <th>Training</th>\n",
       "      <th>pred_training</th>\n",
       "      <th>Sick</th>\n",
       "      <th>pred_sick</th>\n",
       "    </tr>\n",
       "  </thead>\n",
       "  <tbody>\n",
       "    <tr>\n",
       "      <th>0</th>\n",
       "      <td>290.0</td>\n",
       "      <td>303</td>\n",
       "      <td>24.0</td>\n",
       "      <td>11</td>\n",
       "      <td>74.0000</td>\n",
       "      <td>19</td>\n",
       "    </tr>\n",
       "    <tr>\n",
       "      <th>1</th>\n",
       "      <td>30.0</td>\n",
       "      <td>73</td>\n",
       "      <td>102.0</td>\n",
       "      <td>44</td>\n",
       "      <td>61.0000</td>\n",
       "      <td>12</td>\n",
       "    </tr>\n",
       "    <tr>\n",
       "      <th>2</th>\n",
       "      <td>331.0</td>\n",
       "      <td>273</td>\n",
       "      <td>0.0</td>\n",
       "      <td>0</td>\n",
       "      <td>0.0000</td>\n",
       "      <td>12</td>\n",
       "    </tr>\n",
       "    <tr>\n",
       "      <th>3</th>\n",
       "      <td>48.0</td>\n",
       "      <td>55</td>\n",
       "      <td>126.0</td>\n",
       "      <td>63</td>\n",
       "      <td>12.0000</td>\n",
       "      <td>6</td>\n",
       "    </tr>\n",
       "    <tr>\n",
       "      <th>4</th>\n",
       "      <td>306.0</td>\n",
       "      <td>294</td>\n",
       "      <td>0.0</td>\n",
       "      <td>2</td>\n",
       "      <td>72.0000</td>\n",
       "      <td>14</td>\n",
       "    </tr>\n",
       "    <tr>\n",
       "      <th>...</th>\n",
       "      <td>...</td>\n",
       "      <td>...</td>\n",
       "      <td>...</td>\n",
       "      <td>...</td>\n",
       "      <td>...</td>\n",
       "      <td>...</td>\n",
       "    </tr>\n",
       "    <tr>\n",
       "      <th>215</th>\n",
       "      <td>124.0</td>\n",
       "      <td>83</td>\n",
       "      <td>18.0</td>\n",
       "      <td>24</td>\n",
       "      <td>36.0000</td>\n",
       "      <td>14</td>\n",
       "    </tr>\n",
       "    <tr>\n",
       "      <th>216</th>\n",
       "      <td>136.0</td>\n",
       "      <td>164</td>\n",
       "      <td>76.0</td>\n",
       "      <td>14</td>\n",
       "      <td>43.5000</td>\n",
       "      <td>16</td>\n",
       "    </tr>\n",
       "    <tr>\n",
       "      <th>217</th>\n",
       "      <td>99.0</td>\n",
       "      <td>188</td>\n",
       "      <td>38.0</td>\n",
       "      <td>17</td>\n",
       "      <td>109.3125</td>\n",
       "      <td>15</td>\n",
       "    </tr>\n",
       "    <tr>\n",
       "      <th>218</th>\n",
       "      <td>213.0</td>\n",
       "      <td>149</td>\n",
       "      <td>0.0</td>\n",
       "      <td>13</td>\n",
       "      <td>12.0000</td>\n",
       "      <td>12</td>\n",
       "    </tr>\n",
       "    <tr>\n",
       "      <th>219</th>\n",
       "      <td>217.5</td>\n",
       "      <td>214</td>\n",
       "      <td>10.0</td>\n",
       "      <td>3</td>\n",
       "      <td>60.0000</td>\n",
       "      <td>14</td>\n",
       "    </tr>\n",
       "  </tbody>\n",
       "</table>\n",
       "<p>220 rows × 6 columns</p>\n",
       "</div>"
      ],
      "text/plain": [
       "     Vacation  pred_vacation  Training  pred_training      Sick  pred_sick\n",
       "0       290.0            303      24.0             11   74.0000         19\n",
       "1        30.0             73     102.0             44   61.0000         12\n",
       "2       331.0            273       0.0              0    0.0000         12\n",
       "3        48.0             55     126.0             63   12.0000          6\n",
       "4       306.0            294       0.0              2   72.0000         14\n",
       "..        ...            ...       ...            ...       ...        ...\n",
       "215     124.0             83      18.0             24   36.0000         14\n",
       "216     136.0            164      76.0             14   43.5000         16\n",
       "217      99.0            188      38.0             17  109.3125         15\n",
       "218     213.0            149       0.0             13   12.0000         12\n",
       "219     217.5            214      10.0              3   60.0000         14\n",
       "\n",
       "[220 rows x 6 columns]"
      ]
     },
     "execution_count": 485,
     "metadata": {},
     "output_type": "execute_result"
    }
   ],
   "source": [
    "results = y_test.copy()\n",
    "results = results.reset_index()\n",
    "results= pd.concat([results,pred_true], axis=1).rename(columns={0:'pred_sick',1:'pred_training', 2:'pred_vacation'})\n",
    "\n",
    "results = results[['Vacation', 'pred_vacation','Training','pred_training','Sick', 'pred_sick']]\n",
    "results"
   ]
  },
  {
   "cell_type": "code",
   "execution_count": 486,
   "id": "d983534a",
   "metadata": {},
   "outputs": [
    {
     "data": {
      "text/plain": [
       "{'0': {'precision': 0.37168141592920356,\n",
       "  'recall': 0.2497027348394768,\n",
       "  'f1-score': 0.2987197724039829,\n",
       "  'support': 841},\n",
       " '1': {'precision': 0.9481424148606811,\n",
       "  'recall': 0.9577795152462861,\n",
       "  'f1-score': 0.9529366005445352,\n",
       "  'support': 1279},\n",
       " '2': {'precision': 0.8313253012048193,\n",
       "  'recall': 0.8928270042194093,\n",
       "  'f1-score': 0.8609792486097925,\n",
       "  'support': 3555},\n",
       " 'accuracy': 0.81215859030837,\n",
       " 'macro avg': {'precision': 0.7170497106649013,\n",
       "  'recall': 0.7001030847683908,\n",
       "  'f1-score': 0.7042118738527702,\n",
       "  'support': 5675},\n",
       " 'weighted avg': {'precision': 0.7895365048786614,\n",
       "  'recall': 0.81215859030837,\n",
       "  'f1-score': 0.7983806994706647,\n",
       "  'support': 5675}}"
      ]
     },
     "execution_count": 486,
     "metadata": {},
     "output_type": "execute_result"
    }
   ],
   "source": [
    "report"
   ]
  }
 ],
 "metadata": {
  "kernelspec": {
   "display_name": "Python 3 (ipykernel)",
   "language": "python",
   "name": "python3"
  },
  "language_info": {
   "codemirror_mode": {
    "name": "ipython",
    "version": 3
   },
   "file_extension": ".py",
   "mimetype": "text/x-python",
   "name": "python",
   "nbconvert_exporter": "python",
   "pygments_lexer": "ipython3",
   "version": "3.9.7"
  }
 },
 "nbformat": 4,
 "nbformat_minor": 5
}
